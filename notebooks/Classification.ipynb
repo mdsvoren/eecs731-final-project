{
 "cells": [
  {
   "cell_type": "markdown",
   "metadata": {},
   "source": [
    "# EECS 731 Final Project - Clothing One\n",
    "## Classification"
   ]
  },
  {
   "cell_type": "code",
   "execution_count": 289,
   "metadata": {},
   "outputs": [],
   "source": [
    "import pandas as pd\n",
    "import pickle\n",
    "import warnings\n",
    "warnings.filterwarnings('ignore')"
   ]
  },
  {
   "cell_type": "code",
   "execution_count": 290,
   "metadata": {},
   "outputs": [],
   "source": [
    "reviews = pickle.load(open(\"../Data/reviews.pkl\", \"rb\" ))\n",
    "rented_for_encoding = pickle.load(open(\"../Data/rented_for_encoding.pkl\", \"rb\"))\n",
    "body_type_encoding = pickle.load(open(\"../Data/body_type_encoding.pkl\", \"rb\"))\n",
    "category_encoding = pickle.load(open(\"../Data/category_encoding.pkl\", \"rb\"))"
   ]
  },
  {
   "cell_type": "markdown",
   "metadata": {},
   "source": [
    "### Display the Dataframes from the Pickles"
   ]
  },
  {
   "cell_type": "code",
   "execution_count": 291,
   "metadata": {
    "scrolled": false
   },
   "outputs": [
    {
     "data": {
      "text/html": [
       "<div>\n",
       "<style scoped>\n",
       "    .dataframe tbody tr th:only-of-type {\n",
       "        vertical-align: middle;\n",
       "    }\n",
       "\n",
       "    .dataframe tbody tr th {\n",
       "        vertical-align: top;\n",
       "    }\n",
       "\n",
       "    .dataframe thead th {\n",
       "        text-align: right;\n",
       "    }\n",
       "</style>\n",
       "<table border=\"1\" class=\"dataframe\">\n",
       "  <thead>\n",
       "    <tr style=\"text-align: right;\">\n",
       "      <th></th>\n",
       "      <th>age</th>\n",
       "      <th>body_type</th>\n",
       "      <th>category</th>\n",
       "      <th>fit</th>\n",
       "      <th>height</th>\n",
       "      <th>item_id</th>\n",
       "      <th>rating</th>\n",
       "      <th>rented_for</th>\n",
       "      <th>review_date</th>\n",
       "      <th>size</th>\n",
       "      <th>user_id</th>\n",
       "      <th>weight</th>\n",
       "      <th>bust_volume</th>\n",
       "      <th>bust_height</th>\n",
       "    </tr>\n",
       "  </thead>\n",
       "  <tbody>\n",
       "    <tr>\n",
       "      <th>0</th>\n",
       "      <td>28</td>\n",
       "      <td>3</td>\n",
       "      <td>44</td>\n",
       "      <td>fit</td>\n",
       "      <td>68.0</td>\n",
       "      <td>2260466</td>\n",
       "      <td>10</td>\n",
       "      <td>6</td>\n",
       "      <td>2016-04-20</td>\n",
       "      <td>14</td>\n",
       "      <td>420272</td>\n",
       "      <td>137</td>\n",
       "      <td>590</td>\n",
       "      <td>4</td>\n",
       "    </tr>\n",
       "    <tr>\n",
       "      <th>1</th>\n",
       "      <td>36</td>\n",
       "      <td>6</td>\n",
       "      <td>20</td>\n",
       "      <td>fit</td>\n",
       "      <td>66.0</td>\n",
       "      <td>153475</td>\n",
       "      <td>10</td>\n",
       "      <td>3</td>\n",
       "      <td>2013-06-18</td>\n",
       "      <td>12</td>\n",
       "      <td>273551</td>\n",
       "      <td>132</td>\n",
       "      <td>390</td>\n",
       "      <td>2</td>\n",
       "    </tr>\n",
       "    <tr>\n",
       "      <th>2</th>\n",
       "      <td>34</td>\n",
       "      <td>4</td>\n",
       "      <td>16</td>\n",
       "      <td>fit</td>\n",
       "      <td>65.0</td>\n",
       "      <td>126335</td>\n",
       "      <td>8</td>\n",
       "      <td>2</td>\n",
       "      <td>2014-02-12</td>\n",
       "      <td>8</td>\n",
       "      <td>909926</td>\n",
       "      <td>135</td>\n",
       "      <td>480</td>\n",
       "      <td>3</td>\n",
       "    </tr>\n",
       "    <tr>\n",
       "      <th>3</th>\n",
       "      <td>27</td>\n",
       "      <td>1</td>\n",
       "      <td>20</td>\n",
       "      <td>fit</td>\n",
       "      <td>69.0</td>\n",
       "      <td>616682</td>\n",
       "      <td>10</td>\n",
       "      <td>7</td>\n",
       "      <td>2016-09-26</td>\n",
       "      <td>12</td>\n",
       "      <td>151944</td>\n",
       "      <td>145</td>\n",
       "      <td>390</td>\n",
       "      <td>2</td>\n",
       "    </tr>\n",
       "    <tr>\n",
       "      <th>4</th>\n",
       "      <td>45</td>\n",
       "      <td>1</td>\n",
       "      <td>16</td>\n",
       "      <td>fit</td>\n",
       "      <td>68.0</td>\n",
       "      <td>364092</td>\n",
       "      <td>8</td>\n",
       "      <td>0</td>\n",
       "      <td>2016-04-30</td>\n",
       "      <td>8</td>\n",
       "      <td>734848</td>\n",
       "      <td>138</td>\n",
       "      <td>310</td>\n",
       "      <td>2</td>\n",
       "    </tr>\n",
       "  </tbody>\n",
       "</table>\n",
       "</div>"
      ],
      "text/plain": [
       "   age  body_type  category  fit  height  item_id  rating  rented_for  \\\n",
       "0   28          3        44  fit    68.0  2260466      10           6   \n",
       "1   36          6        20  fit    66.0   153475      10           3   \n",
       "2   34          4        16  fit    65.0   126335       8           2   \n",
       "3   27          1        20  fit    69.0   616682      10           7   \n",
       "4   45          1        16  fit    68.0   364092       8           0   \n",
       "\n",
       "  review_date  size  user_id  weight  bust_volume  bust_height  \n",
       "0  2016-04-20    14   420272     137          590            4  \n",
       "1  2013-06-18    12   273551     132          390            2  \n",
       "2  2014-02-12     8   909926     135          480            3  \n",
       "3  2016-09-26    12   151944     145          390            2  \n",
       "4  2016-04-30     8   734848     138          310            2  "
      ]
     },
     "execution_count": 291,
     "metadata": {},
     "output_type": "execute_result"
    }
   ],
   "source": [
    "reviews.head()"
   ]
  },
  {
   "cell_type": "code",
   "execution_count": 292,
   "metadata": {
    "scrolled": true
   },
   "outputs": [
    {
     "data": {
      "text/html": [
       "<div>\n",
       "<style scoped>\n",
       "    .dataframe tbody tr th:only-of-type {\n",
       "        vertical-align: middle;\n",
       "    }\n",
       "\n",
       "    .dataframe tbody tr th {\n",
       "        vertical-align: top;\n",
       "    }\n",
       "\n",
       "    .dataframe thead th {\n",
       "        text-align: right;\n",
       "    }\n",
       "</style>\n",
       "<table border=\"1\" class=\"dataframe\">\n",
       "  <thead>\n",
       "    <tr style=\"text-align: right;\">\n",
       "      <th></th>\n",
       "      <th>encoding</th>\n",
       "    </tr>\n",
       "    <tr>\n",
       "      <th>labels</th>\n",
       "      <th></th>\n",
       "    </tr>\n",
       "  </thead>\n",
       "  <tbody>\n",
       "    <tr>\n",
       "      <th>date</th>\n",
       "      <td>0</td>\n",
       "    </tr>\n",
       "    <tr>\n",
       "      <th>everyday</th>\n",
       "      <td>1</td>\n",
       "    </tr>\n",
       "    <tr>\n",
       "      <th>formal affair</th>\n",
       "      <td>2</td>\n",
       "    </tr>\n",
       "    <tr>\n",
       "      <th>other</th>\n",
       "      <td>3</td>\n",
       "    </tr>\n",
       "    <tr>\n",
       "      <th>party</th>\n",
       "      <td>4</td>\n",
       "    </tr>\n",
       "  </tbody>\n",
       "</table>\n",
       "</div>"
      ],
      "text/plain": [
       "               encoding\n",
       "labels                 \n",
       "date                  0\n",
       "everyday              1\n",
       "formal affair         2\n",
       "other                 3\n",
       "party                 4"
      ]
     },
     "execution_count": 292,
     "metadata": {},
     "output_type": "execute_result"
    }
   ],
   "source": [
    "rented_for_encoding.head()"
   ]
  },
  {
   "cell_type": "code",
   "execution_count": 293,
   "metadata": {},
   "outputs": [
    {
     "data": {
      "text/html": [
       "<div>\n",
       "<style scoped>\n",
       "    .dataframe tbody tr th:only-of-type {\n",
       "        vertical-align: middle;\n",
       "    }\n",
       "\n",
       "    .dataframe tbody tr th {\n",
       "        vertical-align: top;\n",
       "    }\n",
       "\n",
       "    .dataframe thead th {\n",
       "        text-align: right;\n",
       "    }\n",
       "</style>\n",
       "<table border=\"1\" class=\"dataframe\">\n",
       "  <thead>\n",
       "    <tr style=\"text-align: right;\">\n",
       "      <th></th>\n",
       "      <th>encoding</th>\n",
       "    </tr>\n",
       "    <tr>\n",
       "      <th>labels</th>\n",
       "      <th></th>\n",
       "    </tr>\n",
       "  </thead>\n",
       "  <tbody>\n",
       "    <tr>\n",
       "      <th>apple</th>\n",
       "      <td>0</td>\n",
       "    </tr>\n",
       "    <tr>\n",
       "      <th>athletic</th>\n",
       "      <td>1</td>\n",
       "    </tr>\n",
       "    <tr>\n",
       "      <th>full bust</th>\n",
       "      <td>2</td>\n",
       "    </tr>\n",
       "    <tr>\n",
       "      <th>hourglass</th>\n",
       "      <td>3</td>\n",
       "    </tr>\n",
       "    <tr>\n",
       "      <th>pear</th>\n",
       "      <td>4</td>\n",
       "    </tr>\n",
       "  </tbody>\n",
       "</table>\n",
       "</div>"
      ],
      "text/plain": [
       "           encoding\n",
       "labels             \n",
       "apple             0\n",
       "athletic          1\n",
       "full bust         2\n",
       "hourglass         3\n",
       "pear              4"
      ]
     },
     "execution_count": 293,
     "metadata": {},
     "output_type": "execute_result"
    }
   ],
   "source": [
    "body_type_encoding.head()"
   ]
  },
  {
   "cell_type": "code",
   "execution_count": 294,
   "metadata": {
    "scrolled": true
   },
   "outputs": [
    {
     "data": {
      "text/html": [
       "<div>\n",
       "<style scoped>\n",
       "    .dataframe tbody tr th:only-of-type {\n",
       "        vertical-align: middle;\n",
       "    }\n",
       "\n",
       "    .dataframe tbody tr th {\n",
       "        vertical-align: top;\n",
       "    }\n",
       "\n",
       "    .dataframe thead th {\n",
       "        text-align: right;\n",
       "    }\n",
       "</style>\n",
       "<table border=\"1\" class=\"dataframe\">\n",
       "  <thead>\n",
       "    <tr style=\"text-align: right;\">\n",
       "      <th></th>\n",
       "      <th>encoding</th>\n",
       "    </tr>\n",
       "    <tr>\n",
       "      <th>labels</th>\n",
       "      <th></th>\n",
       "    </tr>\n",
       "  </thead>\n",
       "  <tbody>\n",
       "    <tr>\n",
       "      <th>ballgown</th>\n",
       "      <td>0</td>\n",
       "    </tr>\n",
       "    <tr>\n",
       "      <th>blazer</th>\n",
       "      <td>1</td>\n",
       "    </tr>\n",
       "    <tr>\n",
       "      <th>blouse</th>\n",
       "      <td>2</td>\n",
       "    </tr>\n",
       "    <tr>\n",
       "      <th>blouson</th>\n",
       "      <td>3</td>\n",
       "    </tr>\n",
       "    <tr>\n",
       "      <th>bomber</th>\n",
       "      <td>4</td>\n",
       "    </tr>\n",
       "  </tbody>\n",
       "</table>\n",
       "</div>"
      ],
      "text/plain": [
       "          encoding\n",
       "labels            \n",
       "ballgown         0\n",
       "blazer           1\n",
       "blouse           2\n",
       "blouson          3\n",
       "bomber           4"
      ]
     },
     "execution_count": 294,
     "metadata": {},
     "output_type": "execute_result"
    }
   ],
   "source": [
    "category_encoding.head()"
   ]
  },
  {
   "cell_type": "code",
   "execution_count": 295,
   "metadata": {},
   "outputs": [],
   "source": [
    "#Necessary imports\n",
    "from sklearn.ensemble import RandomForestClassifier #Decision Tree Classifier\n",
    "from sklearn.ensemble import GradientBoostingClassifier\n",
    "from sklearn.model_selection import train_test_split # can split data into test test & train set\n",
    "from sklearn import metrics # Can calculate how accurrate our model is\n",
    "from sklearn import preprocessing\n",
    "from sklearn.neural_network import MLPClassifier"
   ]
  },
  {
   "cell_type": "markdown",
   "metadata": {},
   "source": [
    "### Split the Dataset Into Training and Testing Data"
   ]
  },
  {
   "cell_type": "code",
   "execution_count": 296,
   "metadata": {},
   "outputs": [
    {
     "data": {
      "text/html": [
       "<div>\n",
       "<style scoped>\n",
       "    .dataframe tbody tr th:only-of-type {\n",
       "        vertical-align: middle;\n",
       "    }\n",
       "\n",
       "    .dataframe tbody tr th {\n",
       "        vertical-align: top;\n",
       "    }\n",
       "\n",
       "    .dataframe thead th {\n",
       "        text-align: right;\n",
       "    }\n",
       "</style>\n",
       "<table border=\"1\" class=\"dataframe\">\n",
       "  <thead>\n",
       "    <tr style=\"text-align: right;\">\n",
       "      <th></th>\n",
       "      <th>age</th>\n",
       "      <th>body_type</th>\n",
       "      <th>category</th>\n",
       "      <th>height</th>\n",
       "      <th>item_id</th>\n",
       "      <th>rented_for</th>\n",
       "      <th>size</th>\n",
       "      <th>user_id</th>\n",
       "      <th>weight</th>\n",
       "      <th>bust_volume</th>\n",
       "      <th>bust_height</th>\n",
       "    </tr>\n",
       "  </thead>\n",
       "  <tbody>\n",
       "    <tr>\n",
       "      <th>84461</th>\n",
       "      <td>32</td>\n",
       "      <td>1</td>\n",
       "      <td>16</td>\n",
       "      <td>66.0</td>\n",
       "      <td>620288</td>\n",
       "      <td>4</td>\n",
       "      <td>8</td>\n",
       "      <td>699477</td>\n",
       "      <td>132</td>\n",
       "      <td>590</td>\n",
       "      <td>4</td>\n",
       "    </tr>\n",
       "    <tr>\n",
       "      <th>76724</th>\n",
       "      <td>30</td>\n",
       "      <td>6</td>\n",
       "      <td>20</td>\n",
       "      <td>64.0</td>\n",
       "      <td>125564</td>\n",
       "      <td>7</td>\n",
       "      <td>4</td>\n",
       "      <td>565624</td>\n",
       "      <td>115</td>\n",
       "      <td>310</td>\n",
       "      <td>2</td>\n",
       "    </tr>\n",
       "    <tr>\n",
       "      <th>52214</th>\n",
       "      <td>23</td>\n",
       "      <td>1</td>\n",
       "      <td>20</td>\n",
       "      <td>65.0</td>\n",
       "      <td>125564</td>\n",
       "      <td>2</td>\n",
       "      <td>12</td>\n",
       "      <td>903377</td>\n",
       "      <td>140</td>\n",
       "      <td>480</td>\n",
       "      <td>3</td>\n",
       "    </tr>\n",
       "    <tr>\n",
       "      <th>113062</th>\n",
       "      <td>23</td>\n",
       "      <td>2</td>\n",
       "      <td>45</td>\n",
       "      <td>61.0</td>\n",
       "      <td>963476</td>\n",
       "      <td>4</td>\n",
       "      <td>1</td>\n",
       "      <td>256614</td>\n",
       "      <td>120</td>\n",
       "      <td>590</td>\n",
       "      <td>6</td>\n",
       "    </tr>\n",
       "    <tr>\n",
       "      <th>85702</th>\n",
       "      <td>29</td>\n",
       "      <td>1</td>\n",
       "      <td>53</td>\n",
       "      <td>70.0</td>\n",
       "      <td>2007354</td>\n",
       "      <td>1</td>\n",
       "      <td>8</td>\n",
       "      <td>550942</td>\n",
       "      <td>135</td>\n",
       "      <td>480</td>\n",
       "      <td>3</td>\n",
       "    </tr>\n",
       "  </tbody>\n",
       "</table>\n",
       "</div>"
      ],
      "text/plain": [
       "        age  body_type  category  height  item_id  rented_for  size  user_id  \\\n",
       "84461    32          1        16    66.0   620288           4     8   699477   \n",
       "76724    30          6        20    64.0   125564           7     4   565624   \n",
       "52214    23          1        20    65.0   125564           2    12   903377   \n",
       "113062   23          2        45    61.0   963476           4     1   256614   \n",
       "85702    29          1        53    70.0  2007354           1     8   550942   \n",
       "\n",
       "        weight  bust_volume  bust_height  \n",
       "84461      132          590            4  \n",
       "76724      115          310            2  \n",
       "52214      140          480            3  \n",
       "113062     120          590            6  \n",
       "85702      135          480            3  "
      ]
     },
     "execution_count": 296,
     "metadata": {},
     "output_type": "execute_result"
    }
   ],
   "source": [
    "# Remove fit, the target variable, and features that\n",
    "# are only received after the item has been bought.\n",
    "X = reviews.drop(['fit', 'rating', 'review_date'], axis=1)\n",
    "Y = reviews['fit']\n",
    "\n",
    "X_train, X_test, Y_train, Y_test = train_test_split(X, Y, test_size=0.2, random_state=1)\n",
    "X_train.head()"
   ]
  },
  {
   "cell_type": "markdown",
   "metadata": {},
   "source": [
    "### Classifier Models:\n",
    "- Random Forest (10 estimators)\n",
    "- Random Forest (100 estimators)\n",
    "- Gradient Boosting\n",
    "- Neural Network: Multilayer Perceptron"
   ]
  },
  {
   "cell_type": "code",
   "execution_count": 297,
   "metadata": {},
   "outputs": [],
   "source": [
    "# # Create classifers\n",
    "rf10 = RandomForestClassifier(n_estimators=10, n_jobs=-1)\n",
    "rf = RandomForestClassifier(n_estimators=100, n_jobs=-1)\n",
    "gb = GradientBoostingClassifier(random_state=1, learning_rate=.1)\n",
    "nn = MLPClassifier()\n",
    "\n",
    "# Train Classifers\n",
    "rf10 = rf10.fit(X_train, Y_train)\n",
    "rf = rf.fit(X_train, Y_train)\n",
    "gb = gb.fit(X_train, Y_train)\n",
    "nn = nn.fit(X_train, Y_train)\n",
    "\n",
    "#Predict the response for test dataset\n",
    "rf10_y_pred = rf10.predict(X_test)\n",
    "rf_y_pred = rf.predict(X_test)\n",
    "gb_y_pred = gb.predict(X_test)\n",
    "nn_y_pred = nn.predict(X_test)\n",
    "\n",
    "print(\"Random Forest:\")\n",
    "print(\"10 estimators Training Accuracy:\", metrics.accuracy_score(Y_train, rf10.predict(X_train)))\n",
    "print(\"10 estimators Test Accuracy:\",metrics.accuracy_score(Y_test, rf10_y_pred))\n",
    "print(\"100 estimators Training Accuracy:\", metrics.accuracy_score(Y_train, rf.predict(X_train)))\n",
    "print(\"100 estimators Test Accuracy:\",metrics.accuracy_score(Y_test, rf_y_pred))\n",
    "\n",
    "print(\"\\nGradient Boosting:\")\n",
    "print(\"Training Accuracy:\", metrics.accuracy_score(Y_train, gb.predict(X_train)))\n",
    "print(\"Test Accuracy:\",metrics.accuracy_score(Y_test, gb_y_pred))\n",
    "\n",
    "print(\"\\nNeural Network:\")\n",
    "print(\"Training Accuracy:\", metrics.accuracy_score(Y_train, nn.predict(X_train)))\n",
    "print(\"Test Accuracy:\",metrics.accuracy_score(Y_test, nn_y_pred))"
   ]
  },
  {
   "cell_type": "markdown",
   "metadata": {},
   "source": [
    "What % of users rate the fit of the product as \"fit\" to see if either model gave us additional information"
   ]
  },
  {
   "cell_type": "code",
   "execution_count": 298,
   "metadata": {
    "scrolled": false
   },
   "outputs": [
    {
     "name": "stdout",
     "output_type": "stream",
     "text": [
      "Fit   %: 0.7359766636380405\n",
      "Small %: 0.1340474515135161\n",
      "Large %: 0.12997588484844344\n"
     ]
    },
    {
     "data": {
      "image/png": "[encoded data removed]",
      "text/plain": [
       "<Figure size 432x288 with 1 Axes>"
      ]
     },
     "metadata": {},
     "output_type": "display_data"
    }
   ],
   "source": [
    "print(\"Fit   %:\", ((reviews[reviews.fit == 'fit'].shape[0]) / (len(reviews.index))))\n",
    "print(\"Small %:\", ((reviews[reviews.fit == 'small'].shape[0]) / (len(reviews.index))))\n",
    "print(\"Large %:\", ((reviews[reviews.fit == 'large'].shape[0]) / (len(reviews.index))))\n",
    "\n",
    "sizes = [reviews[reviews.fit == 'fit'].shape[0], reviews[reviews.fit == 'small'].shape[0], reviews[reviews.fit == 'large'].shape[0]]\n",
    "labels = [\"Fit\", \"Small\", \"Large\"]\n",
    "import matplotlib.pyplot as plt\n",
    "fig1, ax1 = plt.subplots()\n",
    "ax1.pie(sizes, labels=labels, autopct='%1.1f%%', shadow=True, startangle=90)\n",
    "ax1.axis('equal')\n",
    "plt.show()"
   ]
  },
  {
   "cell_type": "markdown",
   "metadata": {},
   "source": [
    "More information is gained simply by guessing \"fit\" on every item, so these models provide us no additional information."
   ]
  },
  {
   "cell_type": "code",
   "execution_count": 299,
   "metadata": {},
   "outputs": [],
   "source": [
    "# import numpy as np\n",
    "rfImportances = pd.DataFrame(rf.feature_importances_, index = X_train.columns, columns =['importance']).sort_values('importance', ascending=False)\n",
    "gbImportances = pd.DataFrame(gb.feature_importances_, index = X_train.columns, columns =['importance']).sort_values('importance', ascending=False)\n",
    "rfImportances"
   ]
  },
  {
   "cell_type": "code",
   "execution_count": 300,
   "metadata": {
    "scrolled": true
   },
   "outputs": [],
   "source": [
    "# gbImportances"
   ]
  },
  {
   "cell_type": "code",
   "execution_count": 301,
   "metadata": {},
   "outputs": [],
   "source": [
    "from sklearn.utils import resample\n",
    "def resample_data(df):\n",
    "    # Separate majority and minority classes\n",
    "    df_majority = df[df.fit=='fit']\n",
    "    df_minority_1 = df[df.fit=='small']\n",
    "    df_minority_2 = df[df.fit=='large']\n",
    "\n",
    "    size = df_majority.shape[0]\n",
    "    \n",
    "    # Upsample minority class\n",
    "    df_minority_1_upsampled = resample(df_minority_1, \n",
    "                                     replace=True,     # sample with replacement\n",
    "                                     n_samples=size,    # to match majority class\n",
    "                                     random_state=123) # reproducible results\n",
    "    \n",
    "    df_minority_2_upsampled = resample(df_minority_2, \n",
    "                                     replace=True,     # sample with replacement\n",
    "                                     n_samples=size,    # to match majority class\n",
    "                                     random_state=123) # reproducible results\n",
    "    # # Combine majority class with upsampled minority class\n",
    "    df_upsampled = pd.concat([df_majority, df_minority_1_upsampled, df_minority_2_upsampled]).sample(frac=1)\n",
    "\n",
    "    return df_upsampled"
   ]
  },
  {
   "cell_type": "code",
   "execution_count": 302,
   "metadata": {},
   "outputs": [],
   "source": [
    "X_train['fit'] = Y_train.values\n",
    "X_test['fit'] = Y_test.values"
   ]
  },
  {
   "cell_type": "code",
   "execution_count": 303,
   "metadata": {},
   "outputs": [],
   "source": [
    "X_train_resampled = resample_data(X_train)\n",
    "X_test_resampled = resample_data(X_test)"
   ]
  },
  {
   "cell_type": "code",
   "execution_count": 304,
   "metadata": {},
   "outputs": [],
   "source": [
    "Y_train_resampled = X_train_resampled['fit']\n",
    "Y_test_resampled = X_test_resampled['fit']\n",
    "X_train_resampled = X_train_resampled.drop(['fit'],axis = 1)\n",
    "X_test_resampled = X_test_resampled.drop(['fit'], axis = 1)"
   ]
  },
  {
   "cell_type": "code",
   "execution_count": 305,
   "metadata": {},
   "outputs": [],
   "source": [
    "def fit_to_int(x):\n",
    "    if x == 'fit':\n",
    "        return 0\n",
    "    elif x == 'large':\n",
    "        return 1\n",
    "    return -1\n",
    "Y_train_resampled = Y_train_resampled.map(fit_to_int)\n",
    "Y_test_resampled = Y_test_resampled.map(fit_to_int)"
   ]
  },
  {
   "cell_type": "markdown",
   "metadata": {},
   "source": [
    "### Display the Resampled Data"
   ]
  },
  {
   "cell_type": "code",
   "execution_count": 306,
   "metadata": {},
   "outputs": [
    {
     "data": {
      "text/html": [
       "<div>\n",
       "<style scoped>\n",
       "    .dataframe tbody tr th:only-of-type {\n",
       "        vertical-align: middle;\n",
       "    }\n",
       "\n",
       "    .dataframe tbody tr th {\n",
       "        vertical-align: top;\n",
       "    }\n",
       "\n",
       "    .dataframe thead th {\n",
       "        text-align: right;\n",
       "    }\n",
       "</style>\n",
       "<table border=\"1\" class=\"dataframe\">\n",
       "  <thead>\n",
       "    <tr style=\"text-align: right;\">\n",
       "      <th></th>\n",
       "      <th>age</th>\n",
       "      <th>body_type</th>\n",
       "      <th>category</th>\n",
       "      <th>height</th>\n",
       "      <th>item_id</th>\n",
       "      <th>rented_for</th>\n",
       "      <th>size</th>\n",
       "      <th>user_id</th>\n",
       "      <th>weight</th>\n",
       "      <th>bust_volume</th>\n",
       "      <th>bust_height</th>\n",
       "    </tr>\n",
       "  </thead>\n",
       "  <tbody>\n",
       "    <tr>\n",
       "      <th>79227</th>\n",
       "      <td>26</td>\n",
       "      <td>4</td>\n",
       "      <td>16</td>\n",
       "      <td>66.0</td>\n",
       "      <td>1600223</td>\n",
       "      <td>7</td>\n",
       "      <td>39</td>\n",
       "      <td>925002</td>\n",
       "      <td>200</td>\n",
       "      <td>710</td>\n",
       "      <td>3</td>\n",
       "    </tr>\n",
       "    <tr>\n",
       "      <th>129767</th>\n",
       "      <td>26</td>\n",
       "      <td>1</td>\n",
       "      <td>16</td>\n",
       "      <td>66.0</td>\n",
       "      <td>607186</td>\n",
       "      <td>7</td>\n",
       "      <td>8</td>\n",
       "      <td>714383</td>\n",
       "      <td>143</td>\n",
       "      <td>480</td>\n",
       "      <td>3</td>\n",
       "    </tr>\n",
       "    <tr>\n",
       "      <th>86004</th>\n",
       "      <td>29</td>\n",
       "      <td>4</td>\n",
       "      <td>16</td>\n",
       "      <td>64.0</td>\n",
       "      <td>511441</td>\n",
       "      <td>7</td>\n",
       "      <td>1</td>\n",
       "      <td>387413</td>\n",
       "      <td>113</td>\n",
       "      <td>310</td>\n",
       "      <td>2</td>\n",
       "    </tr>\n",
       "    <tr>\n",
       "      <th>77189</th>\n",
       "      <td>37</td>\n",
       "      <td>1</td>\n",
       "      <td>46</td>\n",
       "      <td>65.0</td>\n",
       "      <td>862815</td>\n",
       "      <td>7</td>\n",
       "      <td>12</td>\n",
       "      <td>960413</td>\n",
       "      <td>130</td>\n",
       "      <td>590</td>\n",
       "      <td>5</td>\n",
       "    </tr>\n",
       "    <tr>\n",
       "      <th>52528</th>\n",
       "      <td>32</td>\n",
       "      <td>6</td>\n",
       "      <td>16</td>\n",
       "      <td>69.0</td>\n",
       "      <td>126335</td>\n",
       "      <td>7</td>\n",
       "      <td>4</td>\n",
       "      <td>619030</td>\n",
       "      <td>140</td>\n",
       "      <td>390</td>\n",
       "      <td>2</td>\n",
       "    </tr>\n",
       "  </tbody>\n",
       "</table>\n",
       "</div>"
      ],
      "text/plain": [
       "        age  body_type  category  height  item_id  rented_for  size  user_id  \\\n",
       "79227    26          4        16    66.0  1600223           7    39   925002   \n",
       "129767   26          1        16    66.0   607186           7     8   714383   \n",
       "86004    29          4        16    64.0   511441           7     1   387413   \n",
       "77189    37          1        46    65.0   862815           7    12   960413   \n",
       "52528    32          6        16    69.0   126335           7     4   619030   \n",
       "\n",
       "        weight  bust_volume  bust_height  \n",
       "79227      200          710            3  \n",
       "129767     143          480            3  \n",
       "86004      113          310            2  \n",
       "77189      130          590            5  \n",
       "52528      140          390            2  "
      ]
     },
     "execution_count": 306,
     "metadata": {},
     "output_type": "execute_result"
    }
   ],
   "source": [
    "X_train_resampled.head()"
   ]
  },
  {
   "cell_type": "code",
   "execution_count": 307,
   "metadata": {},
   "outputs": [
    {
     "data": {
      "text/html": [
       "<div>\n",
       "<style scoped>\n",
       "    .dataframe tbody tr th:only-of-type {\n",
       "        vertical-align: middle;\n",
       "    }\n",
       "\n",
       "    .dataframe tbody tr th {\n",
       "        vertical-align: top;\n",
       "    }\n",
       "\n",
       "    .dataframe thead th {\n",
       "        text-align: right;\n",
       "    }\n",
       "</style>\n",
       "<table border=\"1\" class=\"dataframe\">\n",
       "  <thead>\n",
       "    <tr style=\"text-align: right;\">\n",
       "      <th></th>\n",
       "      <th>age</th>\n",
       "      <th>body_type</th>\n",
       "      <th>category</th>\n",
       "      <th>height</th>\n",
       "      <th>item_id</th>\n",
       "      <th>rented_for</th>\n",
       "      <th>size</th>\n",
       "      <th>user_id</th>\n",
       "      <th>weight</th>\n",
       "      <th>bust_volume</th>\n",
       "      <th>bust_height</th>\n",
       "    </tr>\n",
       "  </thead>\n",
       "  <tbody>\n",
       "    <tr>\n",
       "      <th>143411</th>\n",
       "      <td>44</td>\n",
       "      <td>6</td>\n",
       "      <td>16</td>\n",
       "      <td>68.0</td>\n",
       "      <td>174799</td>\n",
       "      <td>0</td>\n",
       "      <td>16</td>\n",
       "      <td>895169</td>\n",
       "      <td>135</td>\n",
       "      <td>480</td>\n",
       "      <td>4</td>\n",
       "    </tr>\n",
       "    <tr>\n",
       "      <th>50497</th>\n",
       "      <td>32</td>\n",
       "      <td>5</td>\n",
       "      <td>45</td>\n",
       "      <td>63.0</td>\n",
       "      <td>963476</td>\n",
       "      <td>4</td>\n",
       "      <td>4</td>\n",
       "      <td>980829</td>\n",
       "      <td>115</td>\n",
       "      <td>390</td>\n",
       "      <td>2</td>\n",
       "    </tr>\n",
       "    <tr>\n",
       "      <th>138361</th>\n",
       "      <td>33</td>\n",
       "      <td>5</td>\n",
       "      <td>16</td>\n",
       "      <td>60.0</td>\n",
       "      <td>472922</td>\n",
       "      <td>2</td>\n",
       "      <td>1</td>\n",
       "      <td>864928</td>\n",
       "      <td>98</td>\n",
       "      <td>310</td>\n",
       "      <td>1</td>\n",
       "    </tr>\n",
       "    <tr>\n",
       "      <th>93648</th>\n",
       "      <td>52</td>\n",
       "      <td>5</td>\n",
       "      <td>16</td>\n",
       "      <td>62.0</td>\n",
       "      <td>652854</td>\n",
       "      <td>8</td>\n",
       "      <td>1</td>\n",
       "      <td>816183</td>\n",
       "      <td>105</td>\n",
       "      <td>390</td>\n",
       "      <td>2</td>\n",
       "    </tr>\n",
       "    <tr>\n",
       "      <th>15194</th>\n",
       "      <td>37</td>\n",
       "      <td>6</td>\n",
       "      <td>16</td>\n",
       "      <td>69.0</td>\n",
       "      <td>998947</td>\n",
       "      <td>4</td>\n",
       "      <td>12</td>\n",
       "      <td>696745</td>\n",
       "      <td>145</td>\n",
       "      <td>390</td>\n",
       "      <td>2</td>\n",
       "    </tr>\n",
       "  </tbody>\n",
       "</table>\n",
       "</div>"
      ],
      "text/plain": [
       "        age  body_type  category  height  item_id  rented_for  size  user_id  \\\n",
       "143411   44          6        16    68.0   174799           0    16   895169   \n",
       "50497    32          5        45    63.0   963476           4     4   980829   \n",
       "138361   33          5        16    60.0   472922           2     1   864928   \n",
       "93648    52          5        16    62.0   652854           8     1   816183   \n",
       "15194    37          6        16    69.0   998947           4    12   696745   \n",
       "\n",
       "        weight  bust_volume  bust_height  \n",
       "143411     135          480            4  \n",
       "50497      115          390            2  \n",
       "138361      98          310            1  \n",
       "93648      105          390            2  \n",
       "15194      145          390            2  "
      ]
     },
     "execution_count": 307,
     "metadata": {},
     "output_type": "execute_result"
    }
   ],
   "source": [
    "X_test_resampled.head()"
   ]
  },
  {
   "cell_type": "code",
   "execution_count": 308,
   "metadata": {},
   "outputs": [
    {
     "data": {
      "text/plain": [
       "79227     0\n",
       "129767    1\n",
       "86004     0\n",
       "77189     0\n",
       "52528     1\n",
       "Name: fit, dtype: int64"
      ]
     },
     "execution_count": 308,
     "metadata": {},
     "output_type": "execute_result"
    }
   ],
   "source": [
    "Y_train_resampled.head()"
   ]
  },
  {
   "cell_type": "code",
   "execution_count": 309,
   "metadata": {},
   "outputs": [
    {
     "data": {
      "image/png": "[encoded data removed]",
      "text/plain": [
       "<Figure size 432x288 with 1 Axes>"
      ]
     },
     "metadata": {},
     "output_type": "display_data"
    }
   ],
   "source": [
    "ytr = list(Y_train_resampled)\n",
    "sizes = [len([x for x in ytr if x == 0]), len([x for x in ytr if x == -1]), len([x for x in ytr if x == 1])]\n",
    "labels = [\"Fit\", \"Small\", \"Large\"]\n",
    "import matplotlib.pyplot as plt\n",
    "fig1, ax1 = plt.subplots()\n",
    "ax1.pie(sizes, labels=labels, autopct='%1.1f%%', shadow=True, startangle=90)\n",
    "ax1.axis('equal')\n",
    "plt.show()"
   ]
  },
  {
   "cell_type": "code",
   "execution_count": 310,
   "metadata": {},
   "outputs": [
    {
     "data": {
      "text/plain": [
       "143411    1\n",
       "50497     1\n",
       "138361    0\n",
       "93648     1\n",
       "15194     1\n",
       "Name: fit, dtype: int64"
      ]
     },
     "execution_count": 310,
     "metadata": {},
     "output_type": "execute_result"
    }
   ],
   "source": [
    "Y_test_resampled.head()"
   ]
  },
  {
   "cell_type": "code",
   "execution_count": 311,
   "metadata": {},
   "outputs": [
    {
     "data": {
      "image/png": "[encoded data removed]",
      "text/plain": [
       "<Figure size 432x288 with 1 Axes>"
      ]
     },
     "metadata": {},
     "output_type": "display_data"
    }
   ],
   "source": [
    "ytr = list(Y_test_resampled)\n",
    "sizes = [len([x for x in ytr if x == 0]), len([x for x in ytr if x == -1]), len([x for x in ytr if x == 1])]\n",
    "labels = [\"Fit\", \"Small\", \"Large\"]\n",
    "import matplotlib.pyplot as plt\n",
    "fig1, ax1 = plt.subplots()\n",
    "ax1.pie(sizes, labels=labels, autopct='%1.1f%%', shadow=True, startangle=90)\n",
    "ax1.axis('equal')\n",
    "plt.show()"
   ]
  },
  {
   "cell_type": "markdown",
   "metadata": {},
   "source": [
    "### Classifier Models on Resampled Data:\n",
    "- Random Forest (10 estimators)\n",
    "- Random Forest (100 estimators)\n",
    "- Gradient Boosting\n",
    "- Neural Network: Multilayer Perceptron"
   ]
  },
  {
   "cell_type": "code",
   "execution_count": 312,
   "metadata": {},
   "outputs": [],
   "source": [
    "# Create classifers\n",
    "rf10 = RandomForestClassifier(n_estimators=10, n_jobs=-1)\n",
    "rf = RandomForestClassifier(n_estimators=100, n_jobs=-1)\n",
    "gb = GradientBoostingClassifier()\n",
    "nn = MLPClassifier()\n",
    "\n",
    "# Train Classifers\n",
    "rf10 = rf10.fit(X_train_resampled, Y_train_resampled)\n",
    "rf = rf.fit(X_train_resampled, Y_train_resampled)\n",
    "gb = gb.fit(X_train_resampled, Y_train_resampled)\n",
    "nn = nn.fit(X_train_resampled, Y_train_resampled)\n",
    "\n",
    "#Predict the response for test dataset\n",
    "rf10_y_pred = rf10.predict(X_test_resampled)\n",
    "rf_y_pred = rf.predict(X_test_resampled)\n",
    "gb_y_pred = gb.predict(X_test_resampled)\n",
    "nn_y_pred = nn.predict(X_test_resampled)\n",
    "\n",
    "print(\"Random Forest:\")\n",
    "print(\"10 estimators Training Accuracy:\", metrics.accuracy_score(Y_train_resampled, rf10.predict(X_train_resampled)))\n",
    "print(\"10 estimators Test Accuracy:\",metrics.accuracy_score(Y_test_resampled, rf10_y_pred))\n",
    "print(\"100 estimators Training Accuracy:\", metrics.accuracy_score(Y_train_resampled, rf.predict(X_train_resampled)))\n",
    "print(\"100 estimators Test Accuracy:\",metrics.accuracy_score(Y_test_resampled, rf_y_pred))\n",
    "\n",
    "print(\"\\nGradient Boosting:\")\n",
    "print(\"Training Accuracy:\", metrics.accuracy_score(Y_train_resampled, gb.predict(X_train_resampled)))\n",
    "print(\"Test Accuracy:\",metrics.accuracy_score(Y_test_resampled, gb_y_pred))\n",
    "\n",
    "print(\"\\nNeural Network:\")\n",
    "print(\"Training Accuracy:\", metrics.accuracy_score(Y_train_resampled, nn.predict(X_train_resampled)))\n",
    "print(\"Test Accuracy:\",metrics.accuracy_score(Y_test_resampled, nn_y_pred))"
   ]
  },
  {
   "cell_type": "markdown",
   "metadata": {},
   "source": [
    "On the resample: Even thirds, 33% small, 33% fit, 33% large\n",
    "Gradient Boosting here is 50% more accurate than random guessing"
   ]
  },
  {
   "cell_type": "code",
   "execution_count": 313,
   "metadata": {
    "scrolled": true
   },
   "outputs": [
    {
     "name": "stdout",
     "output_type": "stream",
     "text": [
      "        fit\n",
      "143411    1\n",
      "50497     1\n",
      "138361    0\n",
      "93648     1\n",
      "15194     1\n",
      "0.3333333333333333\n"
     ]
    }
   ],
   "source": [
    "#Y_test_resampled.head()\n",
    "a = pd.DataFrame(Y_test_resampled)\n",
    "print(a.head())\n",
    "\n",
    "print( (len(a[a['fit'] == 0])) / (len(a.index))  )"
   ]
  },
  {
   "cell_type": "code",
   "execution_count": 314,
   "metadata": {},
   "outputs": [],
   "source": [
    "# import numpy as np\n",
    "\n",
    "rfImportances = pd.DataFrame(rf.feature_importances_, index = X_train_resampled.columns, columns =['importance']).sort_values('importance', ascending=False)\n",
    "gbImportances = pd.DataFrame(gb.feature_importances_, index = X_train_resampled.columns, columns =['importance']).sort_values('importance', ascending=False)\n",
    "rfImportances"
   ]
  },
  {
   "cell_type": "code",
   "execution_count": 315,
   "metadata": {
    "scrolled": true
   },
   "outputs": [],
   "source": [
    "gbImportances"
   ]
  },
  {
   "cell_type": "markdown",
   "metadata": {},
   "source": [
    "## Using Anomaly-Free Data"
   ]
  },
  {
   "cell_type": "code",
   "execution_count": 316,
   "metadata": {},
   "outputs": [],
   "source": [
    "reviews = pickle.load(open(\"../Data/reviews_anomalies_removed.pkl\", \"rb\" ))"
   ]
  },
  {
   "cell_type": "code",
   "execution_count": 317,
   "metadata": {},
   "outputs": [
    {
     "data": {
      "text/html": [
       "<div>\n",
       "<style scoped>\n",
       "    .dataframe tbody tr th:only-of-type {\n",
       "        vertical-align: middle;\n",
       "    }\n",
       "\n",
       "    .dataframe tbody tr th {\n",
       "        vertical-align: top;\n",
       "    }\n",
       "\n",
       "    .dataframe thead th {\n",
       "        text-align: right;\n",
       "    }\n",
       "</style>\n",
       "<table border=\"1\" class=\"dataframe\">\n",
       "  <thead>\n",
       "    <tr style=\"text-align: right;\">\n",
       "      <th></th>\n",
       "      <th>age</th>\n",
       "      <th>body_type</th>\n",
       "      <th>category</th>\n",
       "      <th>height</th>\n",
       "      <th>item_id</th>\n",
       "      <th>rented_for</th>\n",
       "      <th>size</th>\n",
       "      <th>user_id</th>\n",
       "      <th>weight</th>\n",
       "      <th>bust_volume</th>\n",
       "      <th>bust_height</th>\n",
       "    </tr>\n",
       "  </thead>\n",
       "  <tbody>\n",
       "    <tr>\n",
       "      <th>129033</th>\n",
       "      <td>31</td>\n",
       "      <td>4</td>\n",
       "      <td>16</td>\n",
       "      <td>64.0</td>\n",
       "      <td>1746190</td>\n",
       "      <td>7</td>\n",
       "      <td>4</td>\n",
       "      <td>278562</td>\n",
       "      <td>130</td>\n",
       "      <td>310</td>\n",
       "      <td>2</td>\n",
       "    </tr>\n",
       "    <tr>\n",
       "      <th>61782</th>\n",
       "      <td>28</td>\n",
       "      <td>3</td>\n",
       "      <td>32</td>\n",
       "      <td>65.0</td>\n",
       "      <td>265806</td>\n",
       "      <td>7</td>\n",
       "      <td>8</td>\n",
       "      <td>356213</td>\n",
       "      <td>130</td>\n",
       "      <td>390</td>\n",
       "      <td>3</td>\n",
       "    </tr>\n",
       "    <tr>\n",
       "      <th>15590</th>\n",
       "      <td>58</td>\n",
       "      <td>4</td>\n",
       "      <td>20</td>\n",
       "      <td>67.0</td>\n",
       "      <td>132738</td>\n",
       "      <td>2</td>\n",
       "      <td>13</td>\n",
       "      <td>833182</td>\n",
       "      <td>133</td>\n",
       "      <td>310</td>\n",
       "      <td>1</td>\n",
       "    </tr>\n",
       "    <tr>\n",
       "      <th>111496</th>\n",
       "      <td>28</td>\n",
       "      <td>3</td>\n",
       "      <td>16</td>\n",
       "      <td>65.0</td>\n",
       "      <td>126335</td>\n",
       "      <td>4</td>\n",
       "      <td>12</td>\n",
       "      <td>193966</td>\n",
       "      <td>140</td>\n",
       "      <td>590</td>\n",
       "      <td>4</td>\n",
       "    </tr>\n",
       "    <tr>\n",
       "      <th>140918</th>\n",
       "      <td>27</td>\n",
       "      <td>4</td>\n",
       "      <td>16</td>\n",
       "      <td>65.0</td>\n",
       "      <td>148690</td>\n",
       "      <td>0</td>\n",
       "      <td>20</td>\n",
       "      <td>165402</td>\n",
       "      <td>160</td>\n",
       "      <td>590</td>\n",
       "      <td>3</td>\n",
       "    </tr>\n",
       "  </tbody>\n",
       "</table>\n",
       "</div>"
      ],
      "text/plain": [
       "        age  body_type  category  height  item_id  rented_for  size  user_id  \\\n",
       "129033   31          4        16    64.0  1746190           7     4   278562   \n",
       "61782    28          3        32    65.0   265806           7     8   356213   \n",
       "15590    58          4        20    67.0   132738           2    13   833182   \n",
       "111496   28          3        16    65.0   126335           4    12   193966   \n",
       "140918   27          4        16    65.0   148690           0    20   165402   \n",
       "\n",
       "        weight  bust_volume  bust_height  \n",
       "129033     130          310            2  \n",
       "61782      130          390            3  \n",
       "15590      133          310            1  \n",
       "111496     140          590            4  \n",
       "140918     160          590            3  "
      ]
     },
     "execution_count": 317,
     "metadata": {},
     "output_type": "execute_result"
    }
   ],
   "source": [
    "# Remove fit, the target variable, and features that\n",
    "# are only received after the item has been bought.\n",
    "X = reviews.drop(['fit', 'rating', 'review_date'], axis=1)\n",
    "Y = reviews['fit']\n",
    "\n",
    "X_train, X_test, Y_train, Y_test = train_test_split(X, Y, test_size=0.2, random_state=1)\n",
    "X_train.head()"
   ]
  },
  {
   "cell_type": "markdown",
   "metadata": {},
   "source": [
    "### Classifier Models:\n",
    "- Random Forest (10 estimators)\n",
    "- Random Forest (100 estimators)\n",
    "- Gradient Boosting\n",
    "- Neural Network: Multilayer Perceptron"
   ]
  },
  {
   "cell_type": "code",
   "execution_count": 318,
   "metadata": {},
   "outputs": [],
   "source": [
    "# # Create classifers\n",
    "rf10 = RandomForestClassifier(n_estimators=10)\n",
    "rf = RandomForestClassifier(n_estimators=100)\n",
    "gb = GradientBoostingClassifier(random_state=1, learning_rate=.1)\n",
    "nn = MLPClassifier()\n",
    "\n",
    "# Train Classifers\n",
    "rf10 = rf10.fit(X_train, Y_train)\n",
    "rf = rf.fit(X_train, Y_train)\n",
    "gb = gb.fit(X_train, Y_train)\n",
    "nn = nn.fit(X_train, Y_train)\n",
    "\n",
    "#Predict the response for test dataset\n",
    "rf10_y_pred = rf10.predict(X_test)\n",
    "rf_y_pred = rf.predict(X_test)\n",
    "gb_y_pred = gb.predict(X_test)\n",
    "nn_y_pred = nn.predict(X_test)\n",
    "\n",
    "print(\"Random Forest:\")\n",
    "print(\"10 estimators Training Accuracy:\", metrics.accuracy_score(Y_train, rf10.predict(X_train)))\n",
    "print(\"10 estimators Test Accuracy:\",metrics.accuracy_score(Y_test, rf10_y_pred))\n",
    "print(\"100 estimators Training Accuracy:\", metrics.accuracy_score(Y_train, rf.predict(X_train)))\n",
    "print(\"100 estimators Test Accuracy:\",metrics.accuracy_score(Y_test, rf_y_pred))\n",
    "\n",
    "print(\"\\nGradient Boosting:\")\n",
    "print(\"Training Accuracy:\", metrics.accuracy_score(Y_train, gb.predict(X_train)))\n",
    "print(\"Test Accuracy:\",metrics.accuracy_score(Y_test, gb_y_pred))\n",
    "\n",
    "print(\"\\nNeural Network:\")\n",
    "print(\"Training Accuracy:\", metrics.accuracy_score(Y_train, nn.predict(X_train)))\n",
    "print(\"Test Accuracy:\",metrics.accuracy_score(Y_test, nn_y_pred))"
   ]
  },
  {
   "cell_type": "markdown",
   "metadata": {},
   "source": [
    "What % of users rate the fit of the product as \"fit\" to see if either model gave us additional information"
   ]
  },
  {
   "cell_type": "code",
   "execution_count": 319,
   "metadata": {
    "scrolled": false
   },
   "outputs": [
    {
     "name": "stdout",
     "output_type": "stream",
     "text": [
      "Fit   %: 0.6149078100710365\n",
      "Small %: 0.20996084141758004\n",
      "Large %: 0.17513134851138354\n"
     ]
    },
    {
     "data": {
      "image/png": "[encoded data removed]",
      "text/plain": [
       "<Figure size 432x288 with 1 Axes>"
      ]
     },
     "metadata": {},
     "output_type": "display_data"
    }
   ],
   "source": [
    "print(\"Fit   %:\", ((reviews[reviews.fit == 'fit'].shape[0]) / (len(reviews.index))))\n",
    "print(\"Small %:\", ((reviews[reviews.fit == 'small'].shape[0]) / (len(reviews.index))))\n",
    "print(\"Large %:\", ((reviews[reviews.fit == 'large'].shape[0]) / (len(reviews.index))))\n",
    "\n",
    "sizes = [reviews[reviews.fit == 'fit'].shape[0], reviews[reviews.fit == 'small'].shape[0], reviews[reviews.fit == 'large'].shape[0]]\n",
    "labels = [\"Fit\", \"Small\", \"Large\"]\n",
    "import matplotlib.pyplot as plt\n",
    "fig1, ax1 = plt.subplots()\n",
    "ax1.pie(sizes, labels=labels, autopct='%1.1f%%', shadow=True, startangle=90)\n",
    "ax1.axis('equal')\n",
    "plt.show()"
   ]
  },
  {
   "cell_type": "markdown",
   "metadata": {},
   "source": [
    "More information is gained simply by guessing \"fit\" on every item, so these models provide us no additional information."
   ]
  },
  {
   "cell_type": "code",
   "execution_count": 320,
   "metadata": {},
   "outputs": [],
   "source": [
    "# import numpy as np\n",
    "# rfImportances = pd.DataFrame(rf.feature_importances_, index = X_train.columns, columns =['importance']).sort_values('importance', ascending=False)\n",
    "# gbImportances = pd.DataFrame(gb.feature_importances_, index = X_train.columns, columns =['importance']).sort_values('importance', ascending=False)\n",
    "# rfImportances"
   ]
  },
  {
   "cell_type": "code",
   "execution_count": 321,
   "metadata": {
    "scrolled": true
   },
   "outputs": [],
   "source": [
    "# gbImportances"
   ]
  },
  {
   "cell_type": "code",
   "execution_count": 322,
   "metadata": {},
   "outputs": [],
   "source": [
    "from sklearn.utils import resample\n",
    "def resample_data(df):\n",
    "    # Separate majority and minority classes\n",
    "    df_majority = df[df.fit=='fit']\n",
    "    df_minority_1 = df[df.fit=='small']\n",
    "    df_minority_2 = df[df.fit=='large']\n",
    "\n",
    "    size = df_majority.shape[0]\n",
    "    \n",
    "    # Upsample minority class\n",
    "    df_minority_1_upsampled = resample(df_minority_1, \n",
    "                                     replace=True,     # sample with replacement\n",
    "                                     n_samples=size,    # to match majority class\n",
    "                                     random_state=123) # reproducible results\n",
    "    \n",
    "    df_minority_2_upsampled = resample(df_minority_2, \n",
    "                                     replace=True,     # sample with replacement\n",
    "                                     n_samples=size,    # to match majority class\n",
    "                                     random_state=123) # reproducible results\n",
    "    # # Combine majority class with upsampled minority class\n",
    "    df_upsampled = pd.concat([df_majority, df_minority_1_upsampled, df_minority_2_upsampled]).sample(frac=1)\n",
    "\n",
    "    return df_upsampled"
   ]
  },
  {
   "cell_type": "code",
   "execution_count": 323,
   "metadata": {},
   "outputs": [],
   "source": [
    "X_train['fit'] = Y_train.values\n",
    "X_test['fit'] = Y_test.values"
   ]
  },
  {
   "cell_type": "code",
   "execution_count": 324,
   "metadata": {},
   "outputs": [],
   "source": [
    "X_train_resampled = resample_data(X_train)\n",
    "X_test_resampled = resample_data(X_test)"
   ]
  },
  {
   "cell_type": "code",
   "execution_count": 325,
   "metadata": {},
   "outputs": [],
   "source": [
    "Y_train_resampled = X_train_resampled['fit']\n",
    "Y_test_resampled = X_test_resampled['fit']\n",
    "X_train_resampled = X_train_resampled.drop(['fit'],axis = 1)\n",
    "X_test_resampled = X_test_resampled.drop(['fit'], axis = 1)"
   ]
  },
  {
   "cell_type": "code",
   "execution_count": 326,
   "metadata": {},
   "outputs": [],
   "source": [
    "def fit_to_int(x):\n",
    "    if x == 'fit':\n",
    "        return 0\n",
    "    elif x == 'large':\n",
    "        return 1\n",
    "    return -1\n",
    "Y_train_resampled = Y_train_resampled.map(fit_to_int)\n",
    "Y_test_resampled = Y_test_resampled.map(fit_to_int)"
   ]
  },
  {
   "cell_type": "markdown",
   "metadata": {},
   "source": [
    "### Display the Resampled Data"
   ]
  },
  {
   "cell_type": "code",
   "execution_count": 327,
   "metadata": {},
   "outputs": [
    {
     "data": {
      "text/html": [
       "<div>\n",
       "<style scoped>\n",
       "    .dataframe tbody tr th:only-of-type {\n",
       "        vertical-align: middle;\n",
       "    }\n",
       "\n",
       "    .dataframe tbody tr th {\n",
       "        vertical-align: top;\n",
       "    }\n",
       "\n",
       "    .dataframe thead th {\n",
       "        text-align: right;\n",
       "    }\n",
       "</style>\n",
       "<table border=\"1\" class=\"dataframe\">\n",
       "  <thead>\n",
       "    <tr style=\"text-align: right;\">\n",
       "      <th></th>\n",
       "      <th>age</th>\n",
       "      <th>body_type</th>\n",
       "      <th>category</th>\n",
       "      <th>height</th>\n",
       "      <th>item_id</th>\n",
       "      <th>rented_for</th>\n",
       "      <th>size</th>\n",
       "      <th>user_id</th>\n",
       "      <th>weight</th>\n",
       "      <th>bust_volume</th>\n",
       "      <th>bust_height</th>\n",
       "    </tr>\n",
       "  </thead>\n",
       "  <tbody>\n",
       "    <tr>\n",
       "      <th>79924</th>\n",
       "      <td>28</td>\n",
       "      <td>3</td>\n",
       "      <td>16</td>\n",
       "      <td>70.0</td>\n",
       "      <td>443464</td>\n",
       "      <td>7</td>\n",
       "      <td>8</td>\n",
       "      <td>697987</td>\n",
       "      <td>155</td>\n",
       "      <td>480</td>\n",
       "      <td>3</td>\n",
       "    </tr>\n",
       "    <tr>\n",
       "      <th>96866</th>\n",
       "      <td>29</td>\n",
       "      <td>1</td>\n",
       "      <td>45</td>\n",
       "      <td>69.0</td>\n",
       "      <td>169961</td>\n",
       "      <td>4</td>\n",
       "      <td>12</td>\n",
       "      <td>144403</td>\n",
       "      <td>140</td>\n",
       "      <td>390</td>\n",
       "      <td>2</td>\n",
       "    </tr>\n",
       "    <tr>\n",
       "      <th>122626</th>\n",
       "      <td>39</td>\n",
       "      <td>3</td>\n",
       "      <td>16</td>\n",
       "      <td>66.0</td>\n",
       "      <td>159931</td>\n",
       "      <td>3</td>\n",
       "      <td>4</td>\n",
       "      <td>448913</td>\n",
       "      <td>140</td>\n",
       "      <td>710</td>\n",
       "      <td>6</td>\n",
       "    </tr>\n",
       "    <tr>\n",
       "      <th>6979</th>\n",
       "      <td>29</td>\n",
       "      <td>4</td>\n",
       "      <td>20</td>\n",
       "      <td>65.0</td>\n",
       "      <td>1754771</td>\n",
       "      <td>7</td>\n",
       "      <td>8</td>\n",
       "      <td>914483</td>\n",
       "      <td>127</td>\n",
       "      <td>310</td>\n",
       "      <td>2</td>\n",
       "    </tr>\n",
       "    <tr>\n",
       "      <th>41014</th>\n",
       "      <td>35</td>\n",
       "      <td>4</td>\n",
       "      <td>20</td>\n",
       "      <td>67.0</td>\n",
       "      <td>145906</td>\n",
       "      <td>7</td>\n",
       "      <td>8</td>\n",
       "      <td>858147</td>\n",
       "      <td>130</td>\n",
       "      <td>590</td>\n",
       "      <td>5</td>\n",
       "    </tr>\n",
       "  </tbody>\n",
       "</table>\n",
       "</div>"
      ],
      "text/plain": [
       "        age  body_type  category  height  item_id  rented_for  size  user_id  \\\n",
       "79924    28          3        16    70.0   443464           7     8   697987   \n",
       "96866    29          1        45    69.0   169961           4    12   144403   \n",
       "122626   39          3        16    66.0   159931           3     4   448913   \n",
       "6979     29          4        20    65.0  1754771           7     8   914483   \n",
       "41014    35          4        20    67.0   145906           7     8   858147   \n",
       "\n",
       "        weight  bust_volume  bust_height  \n",
       "79924      155          480            3  \n",
       "96866      140          390            2  \n",
       "122626     140          710            6  \n",
       "6979       127          310            2  \n",
       "41014      130          590            5  "
      ]
     },
     "execution_count": 327,
     "metadata": {},
     "output_type": "execute_result"
    }
   ],
   "source": [
    "X_train_resampled.head()"
   ]
  },
  {
   "cell_type": "code",
   "execution_count": 328,
   "metadata": {},
   "outputs": [
    {
     "data": {
      "text/html": [
       "<div>\n",
       "<style scoped>\n",
       "    .dataframe tbody tr th:only-of-type {\n",
       "        vertical-align: middle;\n",
       "    }\n",
       "\n",
       "    .dataframe tbody tr th {\n",
       "        vertical-align: top;\n",
       "    }\n",
       "\n",
       "    .dataframe thead th {\n",
       "        text-align: right;\n",
       "    }\n",
       "</style>\n",
       "<table border=\"1\" class=\"dataframe\">\n",
       "  <thead>\n",
       "    <tr style=\"text-align: right;\">\n",
       "      <th></th>\n",
       "      <th>age</th>\n",
       "      <th>body_type</th>\n",
       "      <th>category</th>\n",
       "      <th>height</th>\n",
       "      <th>item_id</th>\n",
       "      <th>rented_for</th>\n",
       "      <th>size</th>\n",
       "      <th>user_id</th>\n",
       "      <th>weight</th>\n",
       "      <th>bust_volume</th>\n",
       "      <th>bust_height</th>\n",
       "    </tr>\n",
       "  </thead>\n",
       "  <tbody>\n",
       "    <tr>\n",
       "      <th>38587</th>\n",
       "      <td>28</td>\n",
       "      <td>1</td>\n",
       "      <td>45</td>\n",
       "      <td>60.0</td>\n",
       "      <td>1001122</td>\n",
       "      <td>7</td>\n",
       "      <td>12</td>\n",
       "      <td>76950</td>\n",
       "      <td>120</td>\n",
       "      <td>590</td>\n",
       "      <td>4</td>\n",
       "    </tr>\n",
       "    <tr>\n",
       "      <th>112134</th>\n",
       "      <td>23</td>\n",
       "      <td>3</td>\n",
       "      <td>16</td>\n",
       "      <td>63.0</td>\n",
       "      <td>763288</td>\n",
       "      <td>2</td>\n",
       "      <td>20</td>\n",
       "      <td>727437</td>\n",
       "      <td>140</td>\n",
       "      <td>480</td>\n",
       "      <td>2</td>\n",
       "    </tr>\n",
       "    <tr>\n",
       "      <th>113399</th>\n",
       "      <td>30</td>\n",
       "      <td>1</td>\n",
       "      <td>20</td>\n",
       "      <td>68.0</td>\n",
       "      <td>145906</td>\n",
       "      <td>7</td>\n",
       "      <td>5</td>\n",
       "      <td>419761</td>\n",
       "      <td>135</td>\n",
       "      <td>390</td>\n",
       "      <td>2</td>\n",
       "    </tr>\n",
       "    <tr>\n",
       "      <th>110292</th>\n",
       "      <td>37</td>\n",
       "      <td>1</td>\n",
       "      <td>16</td>\n",
       "      <td>70.0</td>\n",
       "      <td>154652</td>\n",
       "      <td>4</td>\n",
       "      <td>8</td>\n",
       "      <td>494444</td>\n",
       "      <td>155</td>\n",
       "      <td>590</td>\n",
       "      <td>3</td>\n",
       "    </tr>\n",
       "    <tr>\n",
       "      <th>128605</th>\n",
       "      <td>34</td>\n",
       "      <td>5</td>\n",
       "      <td>16</td>\n",
       "      <td>63.0</td>\n",
       "      <td>174086</td>\n",
       "      <td>7</td>\n",
       "      <td>8</td>\n",
       "      <td>135659</td>\n",
       "      <td>120</td>\n",
       "      <td>480</td>\n",
       "      <td>4</td>\n",
       "    </tr>\n",
       "  </tbody>\n",
       "</table>\n",
       "</div>"
      ],
      "text/plain": [
       "        age  body_type  category  height  item_id  rented_for  size  user_id  \\\n",
       "38587    28          1        45    60.0  1001122           7    12    76950   \n",
       "112134   23          3        16    63.0   763288           2    20   727437   \n",
       "113399   30          1        20    68.0   145906           7     5   419761   \n",
       "110292   37          1        16    70.0   154652           4     8   494444   \n",
       "128605   34          5        16    63.0   174086           7     8   135659   \n",
       "\n",
       "        weight  bust_volume  bust_height  \n",
       "38587      120          590            4  \n",
       "112134     140          480            2  \n",
       "113399     135          390            2  \n",
       "110292     155          590            3  \n",
       "128605     120          480            4  "
      ]
     },
     "execution_count": 328,
     "metadata": {},
     "output_type": "execute_result"
    }
   ],
   "source": [
    "X_test_resampled.head()"
   ]
  },
  {
   "cell_type": "code",
   "execution_count": 329,
   "metadata": {},
   "outputs": [
    {
     "data": {
      "text/plain": [
       "79924     1\n",
       "96866     0\n",
       "122626    1\n",
       "6979     -1\n",
       "41014     1\n",
       "Name: fit, dtype: int64"
      ]
     },
     "execution_count": 329,
     "metadata": {},
     "output_type": "execute_result"
    }
   ],
   "source": [
    "Y_train_resampled.head()"
   ]
  },
  {
   "cell_type": "code",
   "execution_count": 330,
   "metadata": {},
   "outputs": [
    {
     "data": {
      "image/png": "[encoded data removed]",
      "text/plain": [
       "<Figure size 432x288 with 1 Axes>"
      ]
     },
     "metadata": {},
     "output_type": "display_data"
    }
   ],
   "source": [
    "ytr = list(Y_train_resampled)\n",
    "sizes = [len([x for x in ytr if x == 0]), len([x for x in ytr if x == -1]), len([x for x in ytr if x == 1])]\n",
    "labels = [\"Fit\", \"Small\", \"Large\"]\n",
    "import matplotlib.pyplot as plt\n",
    "fig1, ax1 = plt.subplots()\n",
    "ax1.pie(sizes, labels=labels, autopct='%1.1f%%', shadow=True, startangle=90)\n",
    "ax1.axis('equal')\n",
    "plt.show()"
   ]
  },
  {
   "cell_type": "code",
   "execution_count": 331,
   "metadata": {},
   "outputs": [
    {
     "data": {
      "text/plain": [
       "38587    -1\n",
       "112134   -1\n",
       "113399    1\n",
       "110292    1\n",
       "128605    0\n",
       "Name: fit, dtype: int64"
      ]
     },
     "execution_count": 331,
     "metadata": {},
     "output_type": "execute_result"
    }
   ],
   "source": [
    "Y_test_resampled.head()"
   ]
  },
  {
   "cell_type": "code",
   "execution_count": 332,
   "metadata": {},
   "outputs": [
    {
     "data": {
      "image/png": "[encoded data removed]",
      "text/plain": [
       "<Figure size 432x288 with 1 Axes>"
      ]
     },
     "metadata": {},
     "output_type": "display_data"
    }
   ],
   "source": [
    "ytr = list(Y_test_resampled)\n",
    "sizes = [len([x for x in ytr if x == 0]), len([x for x in ytr if x == -1]), len([x for x in ytr if x == 1])]\n",
    "labels = [\"Fit\", \"Small\", \"Large\"]\n",
    "import matplotlib.pyplot as plt\n",
    "fig1, ax1 = plt.subplots()\n",
    "ax1.pie(sizes, labels=labels, autopct='%1.1f%%', shadow=True, startangle=90)\n",
    "ax1.axis('equal')\n",
    "plt.show()"
   ]
  },
  {
   "cell_type": "markdown",
   "metadata": {},
   "source": [
    "### Classifier Models on Resampled Data:\n",
    "- Random Forest (10 estimators)\n",
    "- Random Forest (100 estimators)\n",
    "- Gradient Boosting\n",
    "- Neural Network: Multilayer Perceptron"
   ]
  },
  {
   "cell_type": "code",
   "execution_count": 333,
   "metadata": {},
   "outputs": [
    {
     "name": "stdout",
     "output_type": "stream",
     "text": [
      "Random Forest:\n",
      "10 estimators Training Accuracy: 0.9972453990179249\n",
      "10 estimators Test Accuracy: 0.5186021505376344\n",
      "100 estimators Training Accuracy: 1.0\n",
      "100 estimators Test Accuracy: 0.5417204301075269\n",
      "\n",
      "Gradient Boosting:\n",
      "Training Accuracy: 0.6100310058951123\n",
      "Test Accuracy: 0.5964516129032258\n",
      "\n",
      "Neural Network:\n",
      "Training Accuracy: 0.4202163759032297\n",
      "Test Accuracy: 0.41763440860215056\n"
     ]
    }
   ],
   "source": [
    "# Create classifers\n",
    "rf10 = RandomForestClassifier(n_estimators=10)\n",
    "rf = RandomForestClassifier(n_estimators=100)\n",
    "gb = GradientBoostingClassifier()\n",
    "nn = MLPClassifier()\n",
    "\n",
    "# Train Classifers\n",
    "rf10 = rf10.fit(X_train_resampled, Y_train_resampled)\n",
    "rf = rf.fit(X_train_resampled, Y_train_resampled)\n",
    "gb = gb.fit(X_train_resampled, Y_train_resampled)\n",
    "nn = nn.fit(X_train_resampled, Y_train_resampled)\n",
    "\n",
    "#Predict the response for test dataset\n",
    "rf10_y_pred = rf10.predict(X_test_resampled)\n",
    "rf_y_pred = rf.predict(X_test_resampled)\n",
    "gb_y_pred = gb.predict(X_test_resampled)\n",
    "nn_y_pred = nn.predict(X_test_resampled)\n",
    "\n",
    "print(\"Random Forest:\")\n",
    "print(\"10 estimators Training Accuracy:\", metrics.accuracy_score(Y_train_resampled, rf10.predict(X_train_resampled)))\n",
    "print(\"10 estimators Test Accuracy:\",metrics.accuracy_score(Y_test_resampled, rf10_y_pred))\n",
    "print(\"100 estimators Training Accuracy:\", metrics.accuracy_score(Y_train_resampled, rf.predict(X_train_resampled)))\n",
    "print(\"100 estimators Test Accuracy:\",metrics.accuracy_score(Y_test_resampled, rf_y_pred))\n",
    "\n",
    "print(\"\\nGradient Boosting:\")\n",
    "print(\"Training Accuracy:\", metrics.accuracy_score(Y_train_resampled, gb.predict(X_train_resampled)))\n",
    "print(\"Test Accuracy:\",metrics.accuracy_score(Y_test_resampled, gb_y_pred))\n",
    "\n",
    "print(\"\\nNeural Network:\")\n",
    "print(\"Training Accuracy:\", metrics.accuracy_score(Y_train_resampled, nn.predict(X_train_resampled)))\n",
    "print(\"Test Accuracy:\",metrics.accuracy_score(Y_test_resampled, nn_y_pred))"
   ]
  },
  {
   "cell_type": "markdown",
   "metadata": {},
   "source": [
    "On the resample: Even thirds, 33% small, 33% fit, 33% large\n",
    "Gradient Boosting here is 50% more accurate than random guessing"
   ]
  },
  {
   "cell_type": "code",
   "execution_count": 334,
   "metadata": {
    "scrolled": true
   },
   "outputs": [
    {
     "name": "stdout",
     "output_type": "stream",
     "text": [
      "        fit\n",
      "38587    -1\n",
      "112134   -1\n",
      "113399    1\n",
      "110292    1\n",
      "128605    0\n",
      "0.3333333333333333\n"
     ]
    }
   ],
   "source": [
    "#Y_test_resampled.head()\n",
    "a = pd.DataFrame(Y_test_resampled)\n",
    "print(a.head())\n",
    "\n",
    "print( (len(a[a['fit'] == 0])) / (len(a.index))  )"
   ]
  },
  {
   "cell_type": "code",
   "execution_count": 335,
   "metadata": {},
   "outputs": [],
   "source": [
    "import numpy as np\n",
    "\n",
    "# rfImportances = pd.DataFrame(rf.feature_importances_, index = X_train_resampled.columns, columns =['importance']).sort_values('importance', ascending=False)\n",
    "gbImportances = pd.DataFrame(gb.feature_importances_, index = X_train_resampled.columns, columns =['importance']).sort_values('importance', ascending=False)\n",
    "# rfImportances"
   ]
  },
  {
   "cell_type": "code",
   "execution_count": 336,
   "metadata": {
    "scrolled": true
   },
   "outputs": [
    {
     "data": {
      "text/html": [
       "<div>\n",
       "<style scoped>\n",
       "    .dataframe tbody tr th:only-of-type {\n",
       "        vertical-align: middle;\n",
       "    }\n",
       "\n",
       "    .dataframe tbody tr th {\n",
       "        vertical-align: top;\n",
       "    }\n",
       "\n",
       "    .dataframe thead th {\n",
       "        text-align: right;\n",
       "    }\n",
       "</style>\n",
       "<table border=\"1\" class=\"dataframe\">\n",
       "  <thead>\n",
       "    <tr style=\"text-align: right;\">\n",
       "      <th></th>\n",
       "      <th>importance</th>\n",
       "    </tr>\n",
       "  </thead>\n",
       "  <tbody>\n",
       "    <tr>\n",
       "      <th>item_id</th>\n",
       "      <td>0.457314</td>\n",
       "    </tr>\n",
       "    <tr>\n",
       "      <th>size</th>\n",
       "      <td>0.293360</td>\n",
       "    </tr>\n",
       "    <tr>\n",
       "      <th>weight</th>\n",
       "      <td>0.116064</td>\n",
       "    </tr>\n",
       "    <tr>\n",
       "      <th>category</th>\n",
       "      <td>0.065075</td>\n",
       "    </tr>\n",
       "    <tr>\n",
       "      <th>bust_volume</th>\n",
       "      <td>0.013727</td>\n",
       "    </tr>\n",
       "    <tr>\n",
       "      <th>age</th>\n",
       "      <td>0.011937</td>\n",
       "    </tr>\n",
       "    <tr>\n",
       "      <th>body_type</th>\n",
       "      <td>0.011801</td>\n",
       "    </tr>\n",
       "    <tr>\n",
       "      <th>rented_for</th>\n",
       "      <td>0.011772</td>\n",
       "    </tr>\n",
       "    <tr>\n",
       "      <th>bust_height</th>\n",
       "      <td>0.007505</td>\n",
       "    </tr>\n",
       "    <tr>\n",
       "      <th>height</th>\n",
       "      <td>0.006419</td>\n",
       "    </tr>\n",
       "    <tr>\n",
       "      <th>user_id</th>\n",
       "      <td>0.005025</td>\n",
       "    </tr>\n",
       "  </tbody>\n",
       "</table>\n",
       "</div>"
      ],
      "text/plain": [
       "             importance\n",
       "item_id        0.457314\n",
       "size           0.293360\n",
       "weight         0.116064\n",
       "category       0.065075\n",
       "bust_volume    0.013727\n",
       "age            0.011937\n",
       "body_type      0.011801\n",
       "rented_for     0.011772\n",
       "bust_height    0.007505\n",
       "height         0.006419\n",
       "user_id        0.005025"
      ]
     },
     "execution_count": 336,
     "metadata": {},
     "output_type": "execute_result"
    }
   ],
   "source": [
    "gbImportances"
   ]
  },
  {
   "cell_type": "code",
   "execution_count": null,
   "metadata": {},
   "outputs": [],
   "source": []
  },
  {
   "cell_type": "code",
   "execution_count": null,
   "metadata": {},
   "outputs": [],
   "source": []
  },
  {
   "cell_type": "code",
   "execution_count": null,
   "metadata": {},
   "outputs": [],
   "source": []
  },
  {
   "cell_type": "code",
   "execution_count": null,
   "metadata": {},
   "outputs": [],
   "source": []
  },
  {
   "cell_type": "code",
   "execution_count": null,
   "metadata": {},
   "outputs": [],
   "source": []
  },
  {
   "cell_type": "code",
   "execution_count": null,
   "metadata": {},
   "outputs": [],
   "source": []
  },
  {
   "cell_type": "code",
   "execution_count": null,
   "metadata": {},
   "outputs": [],
   "source": []
  },
  {
   "cell_type": "code",
   "execution_count": null,
   "metadata": {},
   "outputs": [],
   "source": []
  }
 ],
 "metadata": {
  "kernelspec": {
   "display_name": "Python 3",
   "language": "python",
   "name": "python3"
  },
  "language_info": {
   "codemirror_mode": {
    "name": "ipython",
    "version": 3
   },
   "file_extension": ".py",
   "mimetype": "text/x-python",
   "name": "python",
   "nbconvert_exporter": "python",
   "pygments_lexer": "ipython3",
   "version": "3.7.3"
  }
 },
 "nbformat": 4,
 "nbformat_minor": 2
}
