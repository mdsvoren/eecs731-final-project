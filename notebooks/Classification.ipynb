{
 "cells": [
  {
   "cell_type": "markdown",
   "metadata": {},
   "source": [
    "# EECS 731 Final Project - Clothing One\n",
    "## Classification"
   ]
  },
  {
   "cell_type": "code",
   "execution_count": 1,
   "metadata": {},
   "outputs": [],
   "source": [
    "import pandas as pd\n",
    "import pickle\n",
    "import warnings\n",
    "warnings.filterwarnings('ignore')"
   ]
  },
  {
   "cell_type": "code",
   "execution_count": 2,
   "metadata": {},
   "outputs": [],
   "source": [
    "reviews = pickle.load(open(\"../Data/reviews.pkl\", \"rb\" ))\n",
    "rented_for_encoding = pickle.load(open(\"../Data/rented_for_encoding.pkl\", \"rb\"))\n",
    "body_type_encoding = pickle.load(open(\"../Data/body_type_encoding.pkl\", \"rb\"))\n",
    "category_encoding = pickle.load(open(\"../Data/category_encoding.pkl\", \"rb\"))"
   ]
  },
  {
   "cell_type": "code",
   "execution_count": 3,
   "metadata": {},
   "outputs": [
    {
     "data": {
      "text/html": [
       "<div>\n",
       "<style scoped>\n",
       "    .dataframe tbody tr th:only-of-type {\n",
       "        vertical-align: middle;\n",
       "    }\n",
       "\n",
       "    .dataframe tbody tr th {\n",
       "        vertical-align: top;\n",
       "    }\n",
       "\n",
       "    .dataframe thead th {\n",
       "        text-align: right;\n",
       "    }\n",
       "</style>\n",
       "<table border=\"1\" class=\"dataframe\">\n",
       "  <thead>\n",
       "    <tr style=\"text-align: right;\">\n",
       "      <th></th>\n",
       "      <th>age</th>\n",
       "      <th>body_type</th>\n",
       "      <th>category</th>\n",
       "      <th>fit</th>\n",
       "      <th>height</th>\n",
       "      <th>item_id</th>\n",
       "      <th>rating</th>\n",
       "      <th>rented_for</th>\n",
       "      <th>review_date</th>\n",
       "      <th>size</th>\n",
       "      <th>user_id</th>\n",
       "      <th>weight</th>\n",
       "      <th>bust_volume</th>\n",
       "      <th>bust_height</th>\n",
       "    </tr>\n",
       "  </thead>\n",
       "  <tbody>\n",
       "    <tr>\n",
       "      <th>0</th>\n",
       "      <td>28</td>\n",
       "      <td>3</td>\n",
       "      <td>44</td>\n",
       "      <td>fit</td>\n",
       "      <td>68.0</td>\n",
       "      <td>2260466</td>\n",
       "      <td>10</td>\n",
       "      <td>6</td>\n",
       "      <td>2016-04-20</td>\n",
       "      <td>14</td>\n",
       "      <td>420272</td>\n",
       "      <td>137</td>\n",
       "      <td>590</td>\n",
       "      <td>4</td>\n",
       "    </tr>\n",
       "    <tr>\n",
       "      <th>1</th>\n",
       "      <td>36</td>\n",
       "      <td>6</td>\n",
       "      <td>20</td>\n",
       "      <td>fit</td>\n",
       "      <td>66.0</td>\n",
       "      <td>153475</td>\n",
       "      <td>10</td>\n",
       "      <td>3</td>\n",
       "      <td>2013-06-18</td>\n",
       "      <td>12</td>\n",
       "      <td>273551</td>\n",
       "      <td>132</td>\n",
       "      <td>390</td>\n",
       "      <td>2</td>\n",
       "    </tr>\n",
       "    <tr>\n",
       "      <th>2</th>\n",
       "      <td>34</td>\n",
       "      <td>4</td>\n",
       "      <td>16</td>\n",
       "      <td>fit</td>\n",
       "      <td>65.0</td>\n",
       "      <td>126335</td>\n",
       "      <td>8</td>\n",
       "      <td>2</td>\n",
       "      <td>2014-02-12</td>\n",
       "      <td>8</td>\n",
       "      <td>909926</td>\n",
       "      <td>135</td>\n",
       "      <td>480</td>\n",
       "      <td>3</td>\n",
       "    </tr>\n",
       "    <tr>\n",
       "      <th>3</th>\n",
       "      <td>27</td>\n",
       "      <td>1</td>\n",
       "      <td>20</td>\n",
       "      <td>fit</td>\n",
       "      <td>69.0</td>\n",
       "      <td>616682</td>\n",
       "      <td>10</td>\n",
       "      <td>7</td>\n",
       "      <td>2016-09-26</td>\n",
       "      <td>12</td>\n",
       "      <td>151944</td>\n",
       "      <td>145</td>\n",
       "      <td>390</td>\n",
       "      <td>2</td>\n",
       "    </tr>\n",
       "    <tr>\n",
       "      <th>4</th>\n",
       "      <td>45</td>\n",
       "      <td>1</td>\n",
       "      <td>16</td>\n",
       "      <td>fit</td>\n",
       "      <td>68.0</td>\n",
       "      <td>364092</td>\n",
       "      <td>8</td>\n",
       "      <td>0</td>\n",
       "      <td>2016-04-30</td>\n",
       "      <td>8</td>\n",
       "      <td>734848</td>\n",
       "      <td>138</td>\n",
       "      <td>310</td>\n",
       "      <td>2</td>\n",
       "    </tr>\n",
       "  </tbody>\n",
       "</table>\n",
       "</div>"
      ],
      "text/plain": [
       "   age  body_type  category  fit  height  item_id  rating  rented_for  \\\n",
       "0   28          3        44  fit    68.0  2260466      10           6   \n",
       "1   36          6        20  fit    66.0   153475      10           3   \n",
       "2   34          4        16  fit    65.0   126335       8           2   \n",
       "3   27          1        20  fit    69.0   616682      10           7   \n",
       "4   45          1        16  fit    68.0   364092       8           0   \n",
       "\n",
       "  review_date  size  user_id  weight  bust_volume  bust_height  \n",
       "0  2016-04-20    14   420272     137          590            4  \n",
       "1  2013-06-18    12   273551     132          390            2  \n",
       "2  2014-02-12     8   909926     135          480            3  \n",
       "3  2016-09-26    12   151944     145          390            2  \n",
       "4  2016-04-30     8   734848     138          310            2  "
      ]
     },
     "execution_count": 3,
     "metadata": {},
     "output_type": "execute_result"
    }
   ],
   "source": [
    "reviews.head()"
   ]
  },
  {
   "cell_type": "code",
   "execution_count": 4,
   "metadata": {},
   "outputs": [],
   "source": [
    "# b = body_type_encoding.copy()\n",
    "# b.reset_index(inplace=True)\n",
    "\n",
    "# dictBody_type = b.to_dict()\n",
    "# for i, row in b.iterrows():\n",
    "#     reviews[row['labels']] = 0\n",
    "\n",
    "# for index, row in reviews.iterrows():\n",
    "#     reviews.at[index, dictBody_type['labels'][row['body_type']]] = 1\n",
    "\n",
    "# reviews.drop(columns=['body_type'],inplace = True)\n",
    "# reviews.head()"
   ]
  },
  {
   "cell_type": "code",
   "execution_count": 5,
   "metadata": {},
   "outputs": [],
   "source": [
    "# b = rented_for_encoding.copy()\n",
    "# b.reset_index(inplace=True)\n",
    "\n",
    "# dictBody_type = b.to_dict()\n",
    "# for i, row in b.iterrows():\n",
    "#     reviews[row['labels']] = 0\n",
    "\n",
    "# for index, row in reviews.iterrows():\n",
    "#     reviews.at[index, dictBody_type['labels'][row['rented_for']]] = 1\n",
    "\n",
    "# reviews.drop(columns=['rented_for'],inplace = True)\n",
    "# reviews.head()"
   ]
  },
  {
   "cell_type": "code",
   "execution_count": 6,
   "metadata": {},
   "outputs": [
    {
     "data": {
      "text/html": [
       "<div>\n",
       "<style scoped>\n",
       "    .dataframe tbody tr th:only-of-type {\n",
       "        vertical-align: middle;\n",
       "    }\n",
       "\n",
       "    .dataframe tbody tr th {\n",
       "        vertical-align: top;\n",
       "    }\n",
       "\n",
       "    .dataframe thead th {\n",
       "        text-align: right;\n",
       "    }\n",
       "</style>\n",
       "<table border=\"1\" class=\"dataframe\">\n",
       "  <thead>\n",
       "    <tr style=\"text-align: right;\">\n",
       "      <th></th>\n",
       "      <th>encoding</th>\n",
       "    </tr>\n",
       "    <tr>\n",
       "      <th>labels</th>\n",
       "      <th></th>\n",
       "    </tr>\n",
       "  </thead>\n",
       "  <tbody>\n",
       "    <tr>\n",
       "      <th>date</th>\n",
       "      <td>0</td>\n",
       "    </tr>\n",
       "    <tr>\n",
       "      <th>everyday</th>\n",
       "      <td>1</td>\n",
       "    </tr>\n",
       "    <tr>\n",
       "      <th>formal affair</th>\n",
       "      <td>2</td>\n",
       "    </tr>\n",
       "    <tr>\n",
       "      <th>other</th>\n",
       "      <td>3</td>\n",
       "    </tr>\n",
       "    <tr>\n",
       "      <th>party</th>\n",
       "      <td>4</td>\n",
       "    </tr>\n",
       "  </tbody>\n",
       "</table>\n",
       "</div>"
      ],
      "text/plain": [
       "               encoding\n",
       "labels                 \n",
       "date                  0\n",
       "everyday              1\n",
       "formal affair         2\n",
       "other                 3\n",
       "party                 4"
      ]
     },
     "execution_count": 6,
     "metadata": {},
     "output_type": "execute_result"
    }
   ],
   "source": [
    "rented_for_encoding.head()"
   ]
  },
  {
   "cell_type": "code",
   "execution_count": 7,
   "metadata": {},
   "outputs": [
    {
     "data": {
      "text/html": [
       "<div>\n",
       "<style scoped>\n",
       "    .dataframe tbody tr th:only-of-type {\n",
       "        vertical-align: middle;\n",
       "    }\n",
       "\n",
       "    .dataframe tbody tr th {\n",
       "        vertical-align: top;\n",
       "    }\n",
       "\n",
       "    .dataframe thead th {\n",
       "        text-align: right;\n",
       "    }\n",
       "</style>\n",
       "<table border=\"1\" class=\"dataframe\">\n",
       "  <thead>\n",
       "    <tr style=\"text-align: right;\">\n",
       "      <th></th>\n",
       "      <th>encoding</th>\n",
       "    </tr>\n",
       "    <tr>\n",
       "      <th>labels</th>\n",
       "      <th></th>\n",
       "    </tr>\n",
       "  </thead>\n",
       "  <tbody>\n",
       "    <tr>\n",
       "      <th>apple</th>\n",
       "      <td>0</td>\n",
       "    </tr>\n",
       "    <tr>\n",
       "      <th>athletic</th>\n",
       "      <td>1</td>\n",
       "    </tr>\n",
       "    <tr>\n",
       "      <th>full bust</th>\n",
       "      <td>2</td>\n",
       "    </tr>\n",
       "    <tr>\n",
       "      <th>hourglass</th>\n",
       "      <td>3</td>\n",
       "    </tr>\n",
       "    <tr>\n",
       "      <th>pear</th>\n",
       "      <td>4</td>\n",
       "    </tr>\n",
       "  </tbody>\n",
       "</table>\n",
       "</div>"
      ],
      "text/plain": [
       "           encoding\n",
       "labels             \n",
       "apple             0\n",
       "athletic          1\n",
       "full bust         2\n",
       "hourglass         3\n",
       "pear              4"
      ]
     },
     "execution_count": 7,
     "metadata": {},
     "output_type": "execute_result"
    }
   ],
   "source": [
    "body_type_encoding.head()"
   ]
  },
  {
   "cell_type": "code",
   "execution_count": 8,
   "metadata": {
    "scrolled": true
   },
   "outputs": [
    {
     "data": {
      "text/html": [
       "<div>\n",
       "<style scoped>\n",
       "    .dataframe tbody tr th:only-of-type {\n",
       "        vertical-align: middle;\n",
       "    }\n",
       "\n",
       "    .dataframe tbody tr th {\n",
       "        vertical-align: top;\n",
       "    }\n",
       "\n",
       "    .dataframe thead th {\n",
       "        text-align: right;\n",
       "    }\n",
       "</style>\n",
       "<table border=\"1\" class=\"dataframe\">\n",
       "  <thead>\n",
       "    <tr style=\"text-align: right;\">\n",
       "      <th></th>\n",
       "      <th>encoding</th>\n",
       "    </tr>\n",
       "    <tr>\n",
       "      <th>labels</th>\n",
       "      <th></th>\n",
       "    </tr>\n",
       "  </thead>\n",
       "  <tbody>\n",
       "    <tr>\n",
       "      <th>ballgown</th>\n",
       "      <td>0</td>\n",
       "    </tr>\n",
       "    <tr>\n",
       "      <th>blazer</th>\n",
       "      <td>1</td>\n",
       "    </tr>\n",
       "    <tr>\n",
       "      <th>blouse</th>\n",
       "      <td>2</td>\n",
       "    </tr>\n",
       "    <tr>\n",
       "      <th>blouson</th>\n",
       "      <td>3</td>\n",
       "    </tr>\n",
       "    <tr>\n",
       "      <th>bomber</th>\n",
       "      <td>4</td>\n",
       "    </tr>\n",
       "  </tbody>\n",
       "</table>\n",
       "</div>"
      ],
      "text/plain": [
       "          encoding\n",
       "labels            \n",
       "ballgown         0\n",
       "blazer           1\n",
       "blouse           2\n",
       "blouson          3\n",
       "bomber           4"
      ]
     },
     "execution_count": 8,
     "metadata": {},
     "output_type": "execute_result"
    }
   ],
   "source": [
    "category_encoding.head()"
   ]
  },
  {
   "cell_type": "code",
   "execution_count": null,
   "metadata": {},
   "outputs": [],
   "source": []
  },
  {
   "cell_type": "code",
   "execution_count": 9,
   "metadata": {},
   "outputs": [],
   "source": [
    "#Necessary imports\n",
    "from sklearn.ensemble import RandomForestClassifier #Decision Tree Classifier\n",
    "from sklearn.ensemble import GradientBoostingClassifier\n",
    "from sklearn.model_selection import train_test_split # can split data into test test & train set\n",
    "from sklearn import metrics # Can calculate how accurrate our model is\n",
    "from sklearn import preprocessing\n",
    "from sklearn.neural_network import MLPClassifier"
   ]
  },
  {
   "cell_type": "code",
   "execution_count": 10,
   "metadata": {},
   "outputs": [
    {
     "name": "stdout",
     "output_type": "stream",
     "text": [
      "Random Forest Accuracy: 0.7319397479249923\n",
      "Gradient Boosting Accuracy: 0.7357652764969088\n",
      "Neural Network Accuracy: 0.7355261809611641\n"
     ]
    }
   ],
   "source": [
    "# removed user_id so we couldn't bank on history\n",
    "# TODO: auto ml nn?\n",
    "X = reviews.drop(['fit', 'rating', 'review_date'], axis=1)\n",
    "Y = reviews['fit']\n",
    "\n",
    "X_train, X_test, Y_train, Y_test = train_test_split(X, Y, test_size=0.2, random_state=1)\n",
    "\n",
    "# #Create Decision Tree and neural network classifer object\n",
    "rf = RandomForestClassifier(n_estimators=100)\n",
    "gb = GradientBoostingClassifier(random_state=1, learning_rate=.1)\n",
    "nn = MLPClassifier()\n",
    "\n",
    "# Train Decision Tree and neutral network Classifer\n",
    "rf = rf.fit(X_train, Y_train)\n",
    "gb = gb.fit(X_train, Y_train)\n",
    "nn = nn.fit(X_train, Y_train)\n",
    "\n",
    "#Predict the response for test dataset\n",
    "rf_y_pred = rf.predict(X_test)\n",
    "gb_y_pred = gb.predict(X_test)\n",
    "nn_y_pred = nn.predict(X_test)\n",
    "\n",
    "\n",
    "print(\"Random Forest Accuracy:\",metrics.accuracy_score(Y_test, rf_y_pred))\n",
    "print(\"Gradient Boosting Accuracy:\",metrics.accuracy_score(Y_test, gb_y_pred))\n",
    "print(\"Neural Network Accuracy:\",metrics.accuracy_score(Y_test, nn_y_pred))"
   ]
  },
  {
   "cell_type": "markdown",
   "metadata": {},
   "source": [
    "What % of users rate the fit of the product as \"fit\" to see if either model gave us additional information"
   ]
  },
  {
   "cell_type": "code",
   "execution_count": 11,
   "metadata": {},
   "outputs": [
    {
     "name": "stdout",
     "output_type": "stream",
     "text": [
      "0.7359766636380405\n"
     ]
    }
   ],
   "source": [
    "print( (reviews[reviews.fit == 'fit'].shape[0]) / (len(reviews.index))  )"
   ]
  },
  {
   "cell_type": "markdown",
   "metadata": {},
   "source": [
    "More information is gained simply by guessing \"fit\" on every item, so these models provide us no additional information."
   ]
  },
  {
   "cell_type": "code",
   "execution_count": 12,
   "metadata": {},
   "outputs": [
    {
     "data": {
      "text/html": [
       "<div>\n",
       "<style scoped>\n",
       "    .dataframe tbody tr th:only-of-type {\n",
       "        vertical-align: middle;\n",
       "    }\n",
       "\n",
       "    .dataframe tbody tr th {\n",
       "        vertical-align: top;\n",
       "    }\n",
       "\n",
       "    .dataframe thead th {\n",
       "        text-align: right;\n",
       "    }\n",
       "</style>\n",
       "<table border=\"1\" class=\"dataframe\">\n",
       "  <thead>\n",
       "    <tr style=\"text-align: right;\">\n",
       "      <th></th>\n",
       "      <th>importance</th>\n",
       "    </tr>\n",
       "  </thead>\n",
       "  <tbody>\n",
       "    <tr>\n",
       "      <th>size</th>\n",
       "      <td>0.321014</td>\n",
       "    </tr>\n",
       "    <tr>\n",
       "      <th>item_id</th>\n",
       "      <td>0.218016</td>\n",
       "    </tr>\n",
       "    <tr>\n",
       "      <th>weight</th>\n",
       "      <td>0.205683</td>\n",
       "    </tr>\n",
       "    <tr>\n",
       "      <th>category</th>\n",
       "      <td>0.125788</td>\n",
       "    </tr>\n",
       "    <tr>\n",
       "      <th>rented_for</th>\n",
       "      <td>0.047647</td>\n",
       "    </tr>\n",
       "    <tr>\n",
       "      <th>age</th>\n",
       "      <td>0.022415</td>\n",
       "    </tr>\n",
       "    <tr>\n",
       "      <th>bust_volume</th>\n",
       "      <td>0.018113</td>\n",
       "    </tr>\n",
       "    <tr>\n",
       "      <th>body_type</th>\n",
       "      <td>0.017964</td>\n",
       "    </tr>\n",
       "    <tr>\n",
       "      <th>height</th>\n",
       "      <td>0.011069</td>\n",
       "    </tr>\n",
       "    <tr>\n",
       "      <th>user_id</th>\n",
       "      <td>0.009415</td>\n",
       "    </tr>\n",
       "    <tr>\n",
       "      <th>bust_height</th>\n",
       "      <td>0.002876</td>\n",
       "    </tr>\n",
       "  </tbody>\n",
       "</table>\n",
       "</div>"
      ],
      "text/plain": [
       "             importance\n",
       "size           0.321014\n",
       "item_id        0.218016\n",
       "weight         0.205683\n",
       "category       0.125788\n",
       "rented_for     0.047647\n",
       "age            0.022415\n",
       "bust_volume    0.018113\n",
       "body_type      0.017964\n",
       "height         0.011069\n",
       "user_id        0.009415\n",
       "bust_height    0.002876"
      ]
     },
     "execution_count": 12,
     "metadata": {},
     "output_type": "execute_result"
    }
   ],
   "source": [
    "import numpy as np\n",
    "importances = pd.DataFrame(gb.feature_importances_, index = X_train.columns, columns =['importance']).sort_values('importance', ascending=False)\n",
    "importances"
   ]
  },
  {
   "cell_type": "code",
   "execution_count": null,
   "metadata": {},
   "outputs": [],
   "source": []
  },
  {
   "cell_type": "code",
   "execution_count": 13,
   "metadata": {},
   "outputs": [],
   "source": [
    "from sklearn.utils import resample\n",
    "def resample_data(df):\n",
    "    # Separate majority and minority classes\n",
    "    df_majority = df[df.fit=='fit']\n",
    "    df_minority_1 = df[df.fit=='small']\n",
    "    df_minority_2 = df[df.fit=='large']\n",
    "\n",
    "    size = df_majority.shape[0]\n",
    "    \n",
    "    # Upsample minority class\n",
    "    df_minority_1_upsampled = resample(df_minority_1, \n",
    "                                     replace=True,     # sample with replacement\n",
    "                                     n_samples=size,    # to match majority class\n",
    "                                     random_state=123) # reproducible results\n",
    "    \n",
    "    df_minority_2_upsampled = resample(df_minority_2, \n",
    "                                     replace=True,     # sample with replacement\n",
    "                                     n_samples=size,    # to match majority class\n",
    "                                     random_state=123) # reproducible results\n",
    "    # # Combine majority class with upsampled minority class\n",
    "    df_upsampled = pd.concat([df_majority, df_minority_1_upsampled, df_minority_2_upsampled]).sample(frac=1)\n",
    "\n",
    "    return df_upsampled"
   ]
  },
  {
   "cell_type": "code",
   "execution_count": 14,
   "metadata": {},
   "outputs": [],
   "source": [
    "X_train['fit'] = Y_train.values\n",
    "X_test['fit'] = Y_test.values"
   ]
  },
  {
   "cell_type": "code",
   "execution_count": 15,
   "metadata": {},
   "outputs": [],
   "source": [
    "X_train_resampled = resample_data(X_train)\n",
    "X_test_resampled = resample_data(X_test)"
   ]
  },
  {
   "cell_type": "code",
   "execution_count": 16,
   "metadata": {},
   "outputs": [],
   "source": [
    "Y_train_resampled = X_train_resampled['fit']\n",
    "Y_test_resampled = X_test_resampled['fit']\n",
    "X_train_resampled = X_train_resampled.drop(['fit'],axis = 1)\n",
    "X_test_resampled = X_test_resampled.drop(['fit'], axis = 1)"
   ]
  },
  {
   "cell_type": "code",
   "execution_count": null,
   "metadata": {},
   "outputs": [],
   "source": []
  },
  {
   "cell_type": "code",
   "execution_count": 17,
   "metadata": {},
   "outputs": [],
   "source": [
    "def fit_to_int(x):\n",
    "    if x == 'fit':\n",
    "        return 0\n",
    "    elif x == 'large':\n",
    "        return 1\n",
    "    return -1\n",
    "Y_train_resampled = Y_train_resampled.map(fit_to_int)\n",
    "Y_test_resampled = Y_test_resampled.map(fit_to_int)"
   ]
  },
  {
   "cell_type": "code",
   "execution_count": 18,
   "metadata": {},
   "outputs": [
    {
     "name": "stdout",
     "output_type": "stream",
     "text": [
      "Random Forest Accuracy: 0.3839354818736262\n",
      "Gradient Boosting Accuracy: 0.503715055261447\n",
      "Neural Network Accuracy: 0.3333333333333333\n"
     ]
    }
   ],
   "source": [
    "#Create Decision Tree and neural network classifer object\n",
    "rf = RandomForestClassifier(n_estimators=100)\n",
    "gb = GradientBoostingClassifier()\n",
    "nn = MLPClassifier()\n",
    "\n",
    "# Train Decision Tree and neutral network Classifer\n",
    "rf = rf.fit(X_train_resampled, Y_train_resampled)\n",
    "gb = gb.fit(X_train_resampled, Y_train_resampled)\n",
    "nn = nn.fit(X_train_resampled, Y_train_resampled)\n",
    "\n",
    "#Predict the response for test dataset\n",
    "rf_y_pred = rf.predict(X_test_resampled)\n",
    "gb_y_pred = gb.predict(X_test_resampled)\n",
    "nn_y_pred = nn.predict(X_test_resampled)\n",
    "\n",
    "\n",
    "print(\"Random Forest Accuracy:\",metrics.accuracy_score(Y_test_resampled, rf_y_pred))\n",
    "print(\"Gradient Boosting Accuracy:\",metrics.accuracy_score(Y_test_resampled, gb_y_pred))\n",
    "print(\"Neural Network Accuracy:\",metrics.accuracy_score(Y_test_resampled, nn_y_pred))"
   ]
  },
  {
   "cell_type": "markdown",
   "metadata": {},
   "source": [
    "On the resample: Even thirds, 33% small, 33% fit, 33% large\n",
    "Gradient Boosting here is 50% more accurate than random guessing"
   ]
  },
  {
   "cell_type": "code",
   "execution_count": 29,
   "metadata": {},
   "outputs": [
    {
     "name": "stdout",
     "output_type": "stream",
     "text": [
      "       fit\n",
      "72332    0\n",
      "68487    0\n",
      "13685    0\n",
      "33374   -1\n",
      "93578    0\n",
      "0.3333333333333333\n"
     ]
    }
   ],
   "source": [
    "#Y_test_resampled.head()\n",
    "a = pd.DataFrame(Y_test_resampled)\n",
    "print(a.head())\n",
    "\n",
    "print( (len(a[a['fit'] == 0])) / (len(a.index))  )"
   ]
  },
  {
   "cell_type": "code",
   "execution_count": 19,
   "metadata": {},
   "outputs": [
    {
     "data": {
      "text/html": [
       "<div>\n",
       "<style scoped>\n",
       "    .dataframe tbody tr th:only-of-type {\n",
       "        vertical-align: middle;\n",
       "    }\n",
       "\n",
       "    .dataframe tbody tr th {\n",
       "        vertical-align: top;\n",
       "    }\n",
       "\n",
       "    .dataframe thead th {\n",
       "        text-align: right;\n",
       "    }\n",
       "</style>\n",
       "<table border=\"1\" class=\"dataframe\">\n",
       "  <thead>\n",
       "    <tr style=\"text-align: right;\">\n",
       "      <th></th>\n",
       "      <th>importance</th>\n",
       "    </tr>\n",
       "  </thead>\n",
       "  <tbody>\n",
       "    <tr>\n",
       "      <th>size</th>\n",
       "      <td>0.418674</td>\n",
       "    </tr>\n",
       "    <tr>\n",
       "      <th>weight</th>\n",
       "      <td>0.195246</td>\n",
       "    </tr>\n",
       "    <tr>\n",
       "      <th>item_id</th>\n",
       "      <td>0.179305</td>\n",
       "    </tr>\n",
       "    <tr>\n",
       "      <th>category</th>\n",
       "      <td>0.084627</td>\n",
       "    </tr>\n",
       "    <tr>\n",
       "      <th>rented_for</th>\n",
       "      <td>0.057233</td>\n",
       "    </tr>\n",
       "    <tr>\n",
       "      <th>body_type</th>\n",
       "      <td>0.019177</td>\n",
       "    </tr>\n",
       "    <tr>\n",
       "      <th>bust_volume</th>\n",
       "      <td>0.018555</td>\n",
       "    </tr>\n",
       "    <tr>\n",
       "      <th>age</th>\n",
       "      <td>0.012474</td>\n",
       "    </tr>\n",
       "    <tr>\n",
       "      <th>height</th>\n",
       "      <td>0.006651</td>\n",
       "    </tr>\n",
       "    <tr>\n",
       "      <th>user_id</th>\n",
       "      <td>0.006181</td>\n",
       "    </tr>\n",
       "    <tr>\n",
       "      <th>bust_height</th>\n",
       "      <td>0.001876</td>\n",
       "    </tr>\n",
       "  </tbody>\n",
       "</table>\n",
       "</div>"
      ],
      "text/plain": [
       "             importance\n",
       "size           0.418674\n",
       "weight         0.195246\n",
       "item_id        0.179305\n",
       "category       0.084627\n",
       "rented_for     0.057233\n",
       "body_type      0.019177\n",
       "bust_volume    0.018555\n",
       "age            0.012474\n",
       "height         0.006651\n",
       "user_id        0.006181\n",
       "bust_height    0.001876"
      ]
     },
     "execution_count": 19,
     "metadata": {},
     "output_type": "execute_result"
    }
   ],
   "source": [
    "import numpy as np\n",
    "importances = pd.DataFrame(gb.feature_importances_, index = X_train_resampled.columns, columns =['importance']).sort_values('importance', ascending=False)\n",
    "importances"
   ]
  },
  {
   "cell_type": "code",
   "execution_count": null,
   "metadata": {},
   "outputs": [],
   "source": []
  },
  {
   "cell_type": "code",
   "execution_count": 20,
   "metadata": {},
   "outputs": [],
   "source": [
    "Y_test = Y_test.map(fit_to_int)\n",
    "X_train = X_train.drop(['fit'],axis = 1)\n",
    "X_test = X_test.drop(['fit'],axis = 1)"
   ]
  },
  {
   "cell_type": "code",
   "execution_count": 21,
   "metadata": {},
   "outputs": [
    {
     "name": "stdout",
     "output_type": "stream",
     "text": [
      "Gradient Boosting Accuracy: 0.3911944529835707\n"
     ]
    }
   ],
   "source": [
    "gb_y_pred = gb.predict(X_test)\n",
    "print(\"Gradient Boosting Accuracy:\",metrics.accuracy_score(Y_test, gb_y_pred))"
   ]
  },
  {
   "cell_type": "code",
   "execution_count": 22,
   "metadata": {},
   "outputs": [
    {
     "data": {
      "text/html": [
       "<div>\n",
       "<style scoped>\n",
       "    .dataframe tbody tr th:only-of-type {\n",
       "        vertical-align: middle;\n",
       "    }\n",
       "\n",
       "    .dataframe tbody tr th {\n",
       "        vertical-align: top;\n",
       "    }\n",
       "\n",
       "    .dataframe thead th {\n",
       "        text-align: right;\n",
       "    }\n",
       "</style>\n",
       "<table border=\"1\" class=\"dataframe\">\n",
       "  <thead>\n",
       "    <tr style=\"text-align: right;\">\n",
       "      <th></th>\n",
       "      <th>fit</th>\n",
       "    </tr>\n",
       "  </thead>\n",
       "  <tbody>\n",
       "    <tr>\n",
       "      <th>131157</th>\n",
       "      <td>0</td>\n",
       "    </tr>\n",
       "    <tr>\n",
       "      <th>42631</th>\n",
       "      <td>1</td>\n",
       "    </tr>\n",
       "    <tr>\n",
       "      <th>57394</th>\n",
       "      <td>-1</td>\n",
       "    </tr>\n",
       "    <tr>\n",
       "      <th>70405</th>\n",
       "      <td>1</td>\n",
       "    </tr>\n",
       "    <tr>\n",
       "      <th>71454</th>\n",
       "      <td>1</td>\n",
       "    </tr>\n",
       "    <tr>\n",
       "      <th>79321</th>\n",
       "      <td>1</td>\n",
       "    </tr>\n",
       "    <tr>\n",
       "      <th>65162</th>\n",
       "      <td>-1</td>\n",
       "    </tr>\n",
       "    <tr>\n",
       "      <th>34424</th>\n",
       "      <td>1</td>\n",
       "    </tr>\n",
       "    <tr>\n",
       "      <th>135264</th>\n",
       "      <td>-1</td>\n",
       "    </tr>\n",
       "    <tr>\n",
       "      <th>64617</th>\n",
       "      <td>0</td>\n",
       "    </tr>\n",
       "  </tbody>\n",
       "</table>\n",
       "</div>"
      ],
      "text/plain": [
       "        fit\n",
       "131157    0\n",
       "42631     1\n",
       "57394    -1\n",
       "70405     1\n",
       "71454     1\n",
       "79321     1\n",
       "65162    -1\n",
       "34424     1\n",
       "135264   -1\n",
       "64617     0"
      ]
     },
     "execution_count": 22,
     "metadata": {},
     "output_type": "execute_result"
    }
   ],
   "source": [
    "pd.DataFrame(Y_train_resampled).head(10)"
   ]
  },
  {
   "cell_type": "code",
   "execution_count": null,
   "metadata": {},
   "outputs": [],
   "source": []
  },
  {
   "cell_type": "code",
   "execution_count": null,
   "metadata": {},
   "outputs": [],
   "source": []
  },
  {
   "cell_type": "code",
   "execution_count": null,
   "metadata": {},
   "outputs": [],
   "source": []
  },
  {
   "cell_type": "code",
   "execution_count": null,
   "metadata": {},
   "outputs": [],
   "source": []
  },
  {
   "cell_type": "code",
   "execution_count": null,
   "metadata": {},
   "outputs": [],
   "source": []
  },
  {
   "cell_type": "code",
   "execution_count": null,
   "metadata": {},
   "outputs": [],
   "source": []
  }
 ],
 "metadata": {
  "kernelspec": {
   "display_name": "Python 3",
   "language": "python",
   "name": "python3"
  },
  "language_info": {
   "codemirror_mode": {
    "name": "ipython",
    "version": 3
   },
   "file_extension": ".py",
   "mimetype": "text/x-python",
   "name": "python",
   "nbconvert_exporter": "python",
   "pygments_lexer": "ipython3",
   "version": "3.7.3"
  }
 },
 "nbformat": 4,
 "nbformat_minor": 2
}
