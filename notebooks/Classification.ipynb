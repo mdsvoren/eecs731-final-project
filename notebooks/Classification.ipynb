{
 "cells": [
  {
   "cell_type": "markdown",
   "metadata": {},
   "source": [
    "# EECS 731 Final Project - Clothing One\n",
    "## Classification"
   ]
  },
  {
   "cell_type": "code",
   "execution_count": 1,
   "metadata": {},
   "outputs": [],
   "source": [
    "import pandas as pd\n",
    "import pickle\n",
    "import warnings\n",
    "warnings.filterwarnings('ignore')"
   ]
  },
  {
   "cell_type": "code",
   "execution_count": 2,
   "metadata": {},
   "outputs": [],
   "source": [
    "reviews = pickle.load(open(\"../Data/reviews.pkl\", \"rb\" ))\n",
    "rented_for_encoding = pickle.load(open(\"../Data/rented_for_encoding.pkl\", \"rb\"))\n",
    "body_type_encoding = pickle.load(open(\"../Data/body_type_encoding.pkl\", \"rb\"))\n",
    "category_encoding = pickle.load(open(\"../Data/category_encoding.pkl\", \"rb\"))"
   ]
  },
  {
   "cell_type": "markdown",
   "metadata": {},
   "source": [
    "### Display the Dataframes from the Pickles"
   ]
  },
  {
   "cell_type": "code",
   "execution_count": 3,
   "metadata": {
    "scrolled": false
   },
   "outputs": [
    {
     "data": {
      "text/html": [
       "<div>\n",
       "<style scoped>\n",
       "    .dataframe tbody tr th:only-of-type {\n",
       "        vertical-align: middle;\n",
       "    }\n",
       "\n",
       "    .dataframe tbody tr th {\n",
       "        vertical-align: top;\n",
       "    }\n",
       "\n",
       "    .dataframe thead th {\n",
       "        text-align: right;\n",
       "    }\n",
       "</style>\n",
       "<table border=\"1\" class=\"dataframe\">\n",
       "  <thead>\n",
       "    <tr style=\"text-align: right;\">\n",
       "      <th></th>\n",
       "      <th>age</th>\n",
       "      <th>body_type</th>\n",
       "      <th>category</th>\n",
       "      <th>fit</th>\n",
       "      <th>height</th>\n",
       "      <th>item_id</th>\n",
       "      <th>rating</th>\n",
       "      <th>rented_for</th>\n",
       "      <th>review_date</th>\n",
       "      <th>size</th>\n",
       "      <th>user_id</th>\n",
       "      <th>weight</th>\n",
       "      <th>bust_volume</th>\n",
       "      <th>chest_diff</th>\n",
       "    </tr>\n",
       "  </thead>\n",
       "  <tbody>\n",
       "    <tr>\n",
       "      <th>0</th>\n",
       "      <td>28</td>\n",
       "      <td>3</td>\n",
       "      <td>44</td>\n",
       "      <td>fit</td>\n",
       "      <td>68.0</td>\n",
       "      <td>2260466</td>\n",
       "      <td>10</td>\n",
       "      <td>6</td>\n",
       "      <td>2016-04-20</td>\n",
       "      <td>14</td>\n",
       "      <td>420272</td>\n",
       "      <td>137</td>\n",
       "      <td>590</td>\n",
       "      <td>4</td>\n",
       "    </tr>\n",
       "    <tr>\n",
       "      <th>1</th>\n",
       "      <td>36</td>\n",
       "      <td>6</td>\n",
       "      <td>20</td>\n",
       "      <td>fit</td>\n",
       "      <td>66.0</td>\n",
       "      <td>153475</td>\n",
       "      <td>10</td>\n",
       "      <td>3</td>\n",
       "      <td>2013-06-18</td>\n",
       "      <td>12</td>\n",
       "      <td>273551</td>\n",
       "      <td>132</td>\n",
       "      <td>390</td>\n",
       "      <td>2</td>\n",
       "    </tr>\n",
       "    <tr>\n",
       "      <th>2</th>\n",
       "      <td>34</td>\n",
       "      <td>4</td>\n",
       "      <td>16</td>\n",
       "      <td>fit</td>\n",
       "      <td>65.0</td>\n",
       "      <td>126335</td>\n",
       "      <td>8</td>\n",
       "      <td>2</td>\n",
       "      <td>2014-02-12</td>\n",
       "      <td>8</td>\n",
       "      <td>909926</td>\n",
       "      <td>135</td>\n",
       "      <td>480</td>\n",
       "      <td>3</td>\n",
       "    </tr>\n",
       "    <tr>\n",
       "      <th>3</th>\n",
       "      <td>27</td>\n",
       "      <td>1</td>\n",
       "      <td>20</td>\n",
       "      <td>fit</td>\n",
       "      <td>69.0</td>\n",
       "      <td>616682</td>\n",
       "      <td>10</td>\n",
       "      <td>7</td>\n",
       "      <td>2016-09-26</td>\n",
       "      <td>12</td>\n",
       "      <td>151944</td>\n",
       "      <td>145</td>\n",
       "      <td>390</td>\n",
       "      <td>2</td>\n",
       "    </tr>\n",
       "    <tr>\n",
       "      <th>4</th>\n",
       "      <td>45</td>\n",
       "      <td>1</td>\n",
       "      <td>16</td>\n",
       "      <td>fit</td>\n",
       "      <td>68.0</td>\n",
       "      <td>364092</td>\n",
       "      <td>8</td>\n",
       "      <td>0</td>\n",
       "      <td>2016-04-30</td>\n",
       "      <td>8</td>\n",
       "      <td>734848</td>\n",
       "      <td>138</td>\n",
       "      <td>310</td>\n",
       "      <td>2</td>\n",
       "    </tr>\n",
       "  </tbody>\n",
       "</table>\n",
       "</div>"
      ],
      "text/plain": [
       "   age  body_type  category  fit  height  item_id  rating  rented_for  \\\n",
       "0   28          3        44  fit    68.0  2260466      10           6   \n",
       "1   36          6        20  fit    66.0   153475      10           3   \n",
       "2   34          4        16  fit    65.0   126335       8           2   \n",
       "3   27          1        20  fit    69.0   616682      10           7   \n",
       "4   45          1        16  fit    68.0   364092       8           0   \n",
       "\n",
       "  review_date  size  user_id  weight  bust_volume  chest_diff  \n",
       "0  2016-04-20    14   420272     137          590           4  \n",
       "1  2013-06-18    12   273551     132          390           2  \n",
       "2  2014-02-12     8   909926     135          480           3  \n",
       "3  2016-09-26    12   151944     145          390           2  \n",
       "4  2016-04-30     8   734848     138          310           2  "
      ]
     },
     "execution_count": 3,
     "metadata": {},
     "output_type": "execute_result"
    }
   ],
   "source": [
    "reviews.head()"
   ]
  },
  {
   "cell_type": "code",
   "execution_count": 4,
   "metadata": {
    "scrolled": true
   },
   "outputs": [
    {
     "data": {
      "text/html": [
       "<div>\n",
       "<style scoped>\n",
       "    .dataframe tbody tr th:only-of-type {\n",
       "        vertical-align: middle;\n",
       "    }\n",
       "\n",
       "    .dataframe tbody tr th {\n",
       "        vertical-align: top;\n",
       "    }\n",
       "\n",
       "    .dataframe thead th {\n",
       "        text-align: right;\n",
       "    }\n",
       "</style>\n",
       "<table border=\"1\" class=\"dataframe\">\n",
       "  <thead>\n",
       "    <tr style=\"text-align: right;\">\n",
       "      <th></th>\n",
       "      <th>encoding</th>\n",
       "    </tr>\n",
       "    <tr>\n",
       "      <th>labels</th>\n",
       "      <th></th>\n",
       "    </tr>\n",
       "  </thead>\n",
       "  <tbody>\n",
       "    <tr>\n",
       "      <th>date</th>\n",
       "      <td>0</td>\n",
       "    </tr>\n",
       "    <tr>\n",
       "      <th>everyday</th>\n",
       "      <td>1</td>\n",
       "    </tr>\n",
       "    <tr>\n",
       "      <th>formal affair</th>\n",
       "      <td>2</td>\n",
       "    </tr>\n",
       "    <tr>\n",
       "      <th>other</th>\n",
       "      <td>3</td>\n",
       "    </tr>\n",
       "    <tr>\n",
       "      <th>party</th>\n",
       "      <td>4</td>\n",
       "    </tr>\n",
       "  </tbody>\n",
       "</table>\n",
       "</div>"
      ],
      "text/plain": [
       "               encoding\n",
       "labels                 \n",
       "date                  0\n",
       "everyday              1\n",
       "formal affair         2\n",
       "other                 3\n",
       "party                 4"
      ]
     },
     "execution_count": 4,
     "metadata": {},
     "output_type": "execute_result"
    }
   ],
   "source": [
    "rented_for_encoding.head()"
   ]
  },
  {
   "cell_type": "code",
   "execution_count": 5,
   "metadata": {},
   "outputs": [
    {
     "data": {
      "text/html": [
       "<div>\n",
       "<style scoped>\n",
       "    .dataframe tbody tr th:only-of-type {\n",
       "        vertical-align: middle;\n",
       "    }\n",
       "\n",
       "    .dataframe tbody tr th {\n",
       "        vertical-align: top;\n",
       "    }\n",
       "\n",
       "    .dataframe thead th {\n",
       "        text-align: right;\n",
       "    }\n",
       "</style>\n",
       "<table border=\"1\" class=\"dataframe\">\n",
       "  <thead>\n",
       "    <tr style=\"text-align: right;\">\n",
       "      <th></th>\n",
       "      <th>encoding</th>\n",
       "    </tr>\n",
       "    <tr>\n",
       "      <th>labels</th>\n",
       "      <th></th>\n",
       "    </tr>\n",
       "  </thead>\n",
       "  <tbody>\n",
       "    <tr>\n",
       "      <th>apple</th>\n",
       "      <td>0</td>\n",
       "    </tr>\n",
       "    <tr>\n",
       "      <th>athletic</th>\n",
       "      <td>1</td>\n",
       "    </tr>\n",
       "    <tr>\n",
       "      <th>full bust</th>\n",
       "      <td>2</td>\n",
       "    </tr>\n",
       "    <tr>\n",
       "      <th>hourglass</th>\n",
       "      <td>3</td>\n",
       "    </tr>\n",
       "    <tr>\n",
       "      <th>pear</th>\n",
       "      <td>4</td>\n",
       "    </tr>\n",
       "  </tbody>\n",
       "</table>\n",
       "</div>"
      ],
      "text/plain": [
       "           encoding\n",
       "labels             \n",
       "apple             0\n",
       "athletic          1\n",
       "full bust         2\n",
       "hourglass         3\n",
       "pear              4"
      ]
     },
     "execution_count": 5,
     "metadata": {},
     "output_type": "execute_result"
    }
   ],
   "source": [
    "body_type_encoding.head()"
   ]
  },
  {
   "cell_type": "code",
   "execution_count": 6,
   "metadata": {
    "scrolled": true
   },
   "outputs": [
    {
     "data": {
      "text/html": [
       "<div>\n",
       "<style scoped>\n",
       "    .dataframe tbody tr th:only-of-type {\n",
       "        vertical-align: middle;\n",
       "    }\n",
       "\n",
       "    .dataframe tbody tr th {\n",
       "        vertical-align: top;\n",
       "    }\n",
       "\n",
       "    .dataframe thead th {\n",
       "        text-align: right;\n",
       "    }\n",
       "</style>\n",
       "<table border=\"1\" class=\"dataframe\">\n",
       "  <thead>\n",
       "    <tr style=\"text-align: right;\">\n",
       "      <th></th>\n",
       "      <th>encoding</th>\n",
       "    </tr>\n",
       "    <tr>\n",
       "      <th>labels</th>\n",
       "      <th></th>\n",
       "    </tr>\n",
       "  </thead>\n",
       "  <tbody>\n",
       "    <tr>\n",
       "      <th>ballgown</th>\n",
       "      <td>0</td>\n",
       "    </tr>\n",
       "    <tr>\n",
       "      <th>blazer</th>\n",
       "      <td>1</td>\n",
       "    </tr>\n",
       "    <tr>\n",
       "      <th>blouse</th>\n",
       "      <td>2</td>\n",
       "    </tr>\n",
       "    <tr>\n",
       "      <th>blouson</th>\n",
       "      <td>3</td>\n",
       "    </tr>\n",
       "    <tr>\n",
       "      <th>bomber</th>\n",
       "      <td>4</td>\n",
       "    </tr>\n",
       "  </tbody>\n",
       "</table>\n",
       "</div>"
      ],
      "text/plain": [
       "          encoding\n",
       "labels            \n",
       "ballgown         0\n",
       "blazer           1\n",
       "blouse           2\n",
       "blouson          3\n",
       "bomber           4"
      ]
     },
     "execution_count": 6,
     "metadata": {},
     "output_type": "execute_result"
    }
   ],
   "source": [
    "category_encoding.head()"
   ]
  },
  {
   "cell_type": "code",
   "execution_count": 7,
   "metadata": {},
   "outputs": [],
   "source": [
    "#Necessary imports\n",
    "from sklearn.ensemble import RandomForestClassifier #Decision Tree Classifier\n",
    "from sklearn.ensemble import GradientBoostingClassifier\n",
    "from sklearn.model_selection import train_test_split # can split data into test test & train set\n",
    "from sklearn import metrics # Can calculate how accurrate our model is\n",
    "from sklearn import preprocessing\n",
    "from sklearn.neural_network import MLPClassifier"
   ]
  },
  {
   "cell_type": "markdown",
   "metadata": {},
   "source": [
    "### Split the Dataset Into Training and Testing Data"
   ]
  },
  {
   "cell_type": "code",
   "execution_count": 8,
   "metadata": {},
   "outputs": [
    {
     "data": {
      "text/html": [
       "<div>\n",
       "<style scoped>\n",
       "    .dataframe tbody tr th:only-of-type {\n",
       "        vertical-align: middle;\n",
       "    }\n",
       "\n",
       "    .dataframe tbody tr th {\n",
       "        vertical-align: top;\n",
       "    }\n",
       "\n",
       "    .dataframe thead th {\n",
       "        text-align: right;\n",
       "    }\n",
       "</style>\n",
       "<table border=\"1\" class=\"dataframe\">\n",
       "  <thead>\n",
       "    <tr style=\"text-align: right;\">\n",
       "      <th></th>\n",
       "      <th>age</th>\n",
       "      <th>body_type</th>\n",
       "      <th>category</th>\n",
       "      <th>height</th>\n",
       "      <th>item_id</th>\n",
       "      <th>rented_for</th>\n",
       "      <th>size</th>\n",
       "      <th>user_id</th>\n",
       "      <th>weight</th>\n",
       "      <th>bust_volume</th>\n",
       "      <th>chest_diff</th>\n",
       "    </tr>\n",
       "  </thead>\n",
       "  <tbody>\n",
       "    <tr>\n",
       "      <th>84461</th>\n",
       "      <td>32</td>\n",
       "      <td>1</td>\n",
       "      <td>16</td>\n",
       "      <td>66.0</td>\n",
       "      <td>620288</td>\n",
       "      <td>4</td>\n",
       "      <td>8</td>\n",
       "      <td>699477</td>\n",
       "      <td>132</td>\n",
       "      <td>590</td>\n",
       "      <td>4</td>\n",
       "    </tr>\n",
       "    <tr>\n",
       "      <th>76724</th>\n",
       "      <td>30</td>\n",
       "      <td>6</td>\n",
       "      <td>20</td>\n",
       "      <td>64.0</td>\n",
       "      <td>125564</td>\n",
       "      <td>7</td>\n",
       "      <td>4</td>\n",
       "      <td>565624</td>\n",
       "      <td>115</td>\n",
       "      <td>310</td>\n",
       "      <td>2</td>\n",
       "    </tr>\n",
       "    <tr>\n",
       "      <th>52214</th>\n",
       "      <td>23</td>\n",
       "      <td>1</td>\n",
       "      <td>20</td>\n",
       "      <td>65.0</td>\n",
       "      <td>125564</td>\n",
       "      <td>2</td>\n",
       "      <td>12</td>\n",
       "      <td>903377</td>\n",
       "      <td>140</td>\n",
       "      <td>480</td>\n",
       "      <td>3</td>\n",
       "    </tr>\n",
       "    <tr>\n",
       "      <th>113062</th>\n",
       "      <td>23</td>\n",
       "      <td>2</td>\n",
       "      <td>45</td>\n",
       "      <td>61.0</td>\n",
       "      <td>963476</td>\n",
       "      <td>4</td>\n",
       "      <td>1</td>\n",
       "      <td>256614</td>\n",
       "      <td>120</td>\n",
       "      <td>590</td>\n",
       "      <td>6</td>\n",
       "    </tr>\n",
       "    <tr>\n",
       "      <th>85702</th>\n",
       "      <td>29</td>\n",
       "      <td>1</td>\n",
       "      <td>53</td>\n",
       "      <td>70.0</td>\n",
       "      <td>2007354</td>\n",
       "      <td>1</td>\n",
       "      <td>8</td>\n",
       "      <td>550942</td>\n",
       "      <td>135</td>\n",
       "      <td>480</td>\n",
       "      <td>3</td>\n",
       "    </tr>\n",
       "  </tbody>\n",
       "</table>\n",
       "</div>"
      ],
      "text/plain": [
       "        age  body_type  category  height  item_id  rented_for  size  user_id  \\\n",
       "84461    32          1        16    66.0   620288           4     8   699477   \n",
       "76724    30          6        20    64.0   125564           7     4   565624   \n",
       "52214    23          1        20    65.0   125564           2    12   903377   \n",
       "113062   23          2        45    61.0   963476           4     1   256614   \n",
       "85702    29          1        53    70.0  2007354           1     8   550942   \n",
       "\n",
       "        weight  bust_volume  chest_diff  \n",
       "84461      132          590           4  \n",
       "76724      115          310           2  \n",
       "52214      140          480           3  \n",
       "113062     120          590           6  \n",
       "85702      135          480           3  "
      ]
     },
     "execution_count": 8,
     "metadata": {},
     "output_type": "execute_result"
    }
   ],
   "source": [
    "# Remove fit, the target variable, and features that\n",
    "# are only received after the item has been bought.\n",
    "X = reviews.drop(['fit', 'rating', 'review_date'], axis=1)\n",
    "Y = reviews['fit']\n",
    "\n",
    "X_train, X_test, Y_train, Y_test = train_test_split(X, Y, test_size=0.2, random_state=1)\n",
    "X_train.head()"
   ]
  },
  {
   "cell_type": "markdown",
   "metadata": {},
   "source": [
    "### Classifier Models:\n",
    "- Random Forest (10 estimators)\n",
    "- Random Forest (100 estimators)\n",
    "- Gradient Boosting\n",
    "- Neural Network: Multilayer Perceptron"
   ]
  },
  {
   "cell_type": "code",
   "execution_count": 9,
   "metadata": {},
   "outputs": [
    {
     "name": "stdout",
     "output_type": "stream",
     "text": [
      "Random Forest:\n",
      "10 estimators Training Accuracy: 0.9730837546112857\n",
      "10 estimators Test Accuracy: 0.7180038938415821\n",
      "100 estimators Training Accuracy: 0.9999316846563738\n",
      "100 estimators Test Accuracy: 0.7308467397615876\n",
      "\n",
      "Gradient Boosting:\n",
      "Training Accuracy: 0.7371225577264654\n",
      "Test Accuracy: 0.7357652764969088\n",
      "\n",
      "Neural Network:\n",
      "Training Accuracy: 0.7135708430113403\n",
      "Test Accuracy: 0.7149639648871128\n"
     ]
    }
   ],
   "source": [
    "# # Create classifers\n",
    "rf10 = RandomForestClassifier(n_estimators=10, n_jobs=-1)\n",
    "rf = RandomForestClassifier(n_estimators=100, n_jobs=-1)\n",
    "gb = GradientBoostingClassifier(random_state=1, learning_rate=.1)\n",
    "nn = MLPClassifier()\n",
    "\n",
    "# Train Classifers\n",
    "rf10 = rf10.fit(X_train, Y_train)\n",
    "rf = rf.fit(X_train, Y_train)\n",
    "gb = gb.fit(X_train, Y_train)\n",
    "nn = nn.fit(X_train, Y_train)\n",
    "\n",
    "#Predict the response for test dataset\n",
    "rf10_y_pred = rf10.predict(X_test)\n",
    "rf_y_pred = rf.predict(X_test)\n",
    "gb_y_pred = gb.predict(X_test)\n",
    "nn_y_pred = nn.predict(X_test)\n",
    "\n",
    "print(\"Random Forest:\")\n",
    "print(\"10 estimators Training Accuracy:\", metrics.accuracy_score(Y_train, rf10.predict(X_train)))\n",
    "print(\"10 estimators Test Accuracy:\",metrics.accuracy_score(Y_test, rf10_y_pred))\n",
    "print(\"100 estimators Training Accuracy:\", metrics.accuracy_score(Y_train, rf.predict(X_train)))\n",
    "print(\"100 estimators Test Accuracy:\",metrics.accuracy_score(Y_test, rf_y_pred))\n",
    "\n",
    "print(\"\\nGradient Boosting:\")\n",
    "print(\"Training Accuracy:\", metrics.accuracy_score(Y_train, gb.predict(X_train)))\n",
    "print(\"Test Accuracy:\",metrics.accuracy_score(Y_test, gb_y_pred))\n",
    "\n",
    "print(\"\\nNeural Network:\")\n",
    "print(\"Training Accuracy:\", metrics.accuracy_score(Y_train, nn.predict(X_train)))\n",
    "print(\"Test Accuracy:\",metrics.accuracy_score(Y_test, nn_y_pred))"
   ]
  },
  {
   "cell_type": "markdown",
   "metadata": {},
   "source": [
    "What % of users rate the fit of the product as \"fit\" to see if either model gave us additional information"
   ]
  },
  {
   "cell_type": "code",
   "execution_count": 10,
   "metadata": {},
   "outputs": [],
   "source": [
    "import matplotlib.pyplot as plt\n",
    "\n",
    "def showPie(data, words):\n",
    "    if words:\n",
    "        sizes = [len([x for x in data if x == \"fit\"]), len([x for x in data if x == \"small\"]), len([x for x in data if x == \"large\"])]\n",
    "    else:\n",
    "        sizes = [len([x for x in data if x == 0]), len([x for x in data if x == -1]), len([x for x in data if x == 1])]\n",
    "    labels = [\"Fit\", \"Small\", \"Large\"]\n",
    "    fig1, ax1 = plt.subplots()\n",
    "    ax1.pie(sizes, labels=labels, autopct='%4.2f%%', shadow=True, startangle=90)\n",
    "    ax1.axis('equal')\n",
    "    plt.show()"
   ]
  },
  {
   "cell_type": "code",
   "execution_count": 11,
   "metadata": {
    "scrolled": false
   },
   "outputs": [
    {
     "name": "stdout",
     "output_type": "stream",
     "text": [
      "Fit   %: 0.7359766636380405\n",
      "Small %: 0.1340474515135161\n",
      "Large %: 0.12997588484844344\n"
     ]
    },
    {
     "data": {
      "image/png": "[encoded data removed]",
      "text/plain": [
       "<Figure size 432x288 with 1 Axes>"
      ]
     },
     "metadata": {},
     "output_type": "display_data"
    }
   ],
   "source": [
    "print(\"Fit   %:\", ((reviews[reviews.fit == 'fit'].shape[0]) / (len(reviews.index))))\n",
    "print(\"Small %:\", ((reviews[reviews.fit == 'small'].shape[0]) / (len(reviews.index))))\n",
    "print(\"Large %:\", ((reviews[reviews.fit == 'large'].shape[0]) / (len(reviews.index))))\n",
    "\n",
    "showPie(list(reviews[\"fit\"]), True)"
   ]
  },
  {
   "cell_type": "code",
   "execution_count": 12,
   "metadata": {},
   "outputs": [
    {
     "data": {
      "image/png": "[encoded data removed]",
      "text/plain": [
       "<Figure size 432x288 with 1 Axes>"
      ]
     },
     "metadata": {},
     "output_type": "display_data"
    }
   ],
   "source": [
    "showPie(list(Y_test), True)"
   ]
  },
  {
   "cell_type": "code",
   "execution_count": 13,
   "metadata": {},
   "outputs": [
    {
     "name": "stdout",
     "output_type": "stream",
     "text": [
      "Random Forest (10 estimators):\n"
     ]
    },
    {
     "data": {
      "image/png": "[encoded data removed]",
      "text/plain": [
       "<Figure size 432x288 with 1 Axes>"
      ]
     },
     "metadata": {},
     "output_type": "display_data"
    },
    {
     "name": "stdout",
     "output_type": "stream",
     "text": [
      "Random Forest (100 estimators):\n"
     ]
    },
    {
     "data": {
      "image/png": "[encoded data removed]",
      "text/plain": [
       "<Figure size 432x288 with 1 Axes>"
      ]
     },
     "metadata": {},
     "output_type": "display_data"
    },
    {
     "name": "stdout",
     "output_type": "stream",
     "text": [
      "Gradient Boosting:\n"
     ]
    },
    {
     "data": {
      "image/png": "[encoded data removed]",
      "text/plain": [
       "<Figure size 432x288 with 1 Axes>"
      ]
     },
     "metadata": {},
     "output_type": "display_data"
    },
    {
     "name": "stdout",
     "output_type": "stream",
     "text": [
      "Neural Network:\n"
     ]
    },
    {
     "data": {
      "image/png": "[encoded data removed]",
      "text/plain": [
       "<Figure size 432x288 with 1 Axes>"
      ]
     },
     "metadata": {},
     "output_type": "display_data"
    }
   ],
   "source": [
    "print(\"Random Forest (10 estimators):\")\n",
    "showPie(list(rf10_y_pred), True)\n",
    "print(\"Random Forest (100 estimators):\")\n",
    "showPie(list(rf_y_pred), True)\n",
    "print(\"Gradient Boosting:\")\n",
    "showPie(list(gb_y_pred), True)\n",
    "print(\"Neural Network:\")\n",
    "showPie(list(nn_y_pred), True)"
   ]
  },
  {
   "cell_type": "markdown",
   "metadata": {},
   "source": [
    "More information is gained simply by guessing \"fit\" on every item, so these models provide us no additional information."
   ]
  },
  {
   "cell_type": "code",
   "execution_count": 14,
   "metadata": {},
   "outputs": [
    {
     "data": {
      "text/html": [
       "<div>\n",
       "<style scoped>\n",
       "    .dataframe tbody tr th:only-of-type {\n",
       "        vertical-align: middle;\n",
       "    }\n",
       "\n",
       "    .dataframe tbody tr th {\n",
       "        vertical-align: top;\n",
       "    }\n",
       "\n",
       "    .dataframe thead th {\n",
       "        text-align: right;\n",
       "    }\n",
       "</style>\n",
       "<table border=\"1\" class=\"dataframe\">\n",
       "  <thead>\n",
       "    <tr style=\"text-align: right;\">\n",
       "      <th></th>\n",
       "      <th>importance</th>\n",
       "    </tr>\n",
       "  </thead>\n",
       "  <tbody>\n",
       "    <tr>\n",
       "      <th>item_id</th>\n",
       "      <td>0.201851</td>\n",
       "    </tr>\n",
       "    <tr>\n",
       "      <th>user_id</th>\n",
       "      <td>0.174951</td>\n",
       "    </tr>\n",
       "    <tr>\n",
       "      <th>age</th>\n",
       "      <td>0.123092</td>\n",
       "    </tr>\n",
       "    <tr>\n",
       "      <th>weight</th>\n",
       "      <td>0.103438</td>\n",
       "    </tr>\n",
       "    <tr>\n",
       "      <th>height</th>\n",
       "      <td>0.091849</td>\n",
       "    </tr>\n",
       "    <tr>\n",
       "      <th>rented_for</th>\n",
       "      <td>0.058569</td>\n",
       "    </tr>\n",
       "    <tr>\n",
       "      <th>size</th>\n",
       "      <td>0.054777</td>\n",
       "    </tr>\n",
       "    <tr>\n",
       "      <th>body_type</th>\n",
       "      <td>0.052622</td>\n",
       "    </tr>\n",
       "    <tr>\n",
       "      <th>bust_volume</th>\n",
       "      <td>0.050980</td>\n",
       "    </tr>\n",
       "    <tr>\n",
       "      <th>chest_diff</th>\n",
       "      <td>0.050489</td>\n",
       "    </tr>\n",
       "    <tr>\n",
       "      <th>category</th>\n",
       "      <td>0.037382</td>\n",
       "    </tr>\n",
       "  </tbody>\n",
       "</table>\n",
       "</div>"
      ],
      "text/plain": [
       "             importance\n",
       "item_id        0.201851\n",
       "user_id        0.174951\n",
       "age            0.123092\n",
       "weight         0.103438\n",
       "height         0.091849\n",
       "rented_for     0.058569\n",
       "size           0.054777\n",
       "body_type      0.052622\n",
       "bust_volume    0.050980\n",
       "chest_diff     0.050489\n",
       "category       0.037382"
      ]
     },
     "execution_count": 14,
     "metadata": {},
     "output_type": "execute_result"
    }
   ],
   "source": [
    "# import numpy as np\n",
    "rfImportances = pd.DataFrame(rf.feature_importances_, index = X_train.columns, columns =['importance']).sort_values('importance', ascending=False)\n",
    "gbImportances = pd.DataFrame(gb.feature_importances_, index = X_train.columns, columns =['importance']).sort_values('importance', ascending=False)\n",
    "rfImportances"
   ]
  },
  {
   "cell_type": "code",
   "execution_count": 15,
   "metadata": {
    "scrolled": true
   },
   "outputs": [
    {
     "data": {
      "text/html": [
       "<div>\n",
       "<style scoped>\n",
       "    .dataframe tbody tr th:only-of-type {\n",
       "        vertical-align: middle;\n",
       "    }\n",
       "\n",
       "    .dataframe tbody tr th {\n",
       "        vertical-align: top;\n",
       "    }\n",
       "\n",
       "    .dataframe thead th {\n",
       "        text-align: right;\n",
       "    }\n",
       "</style>\n",
       "<table border=\"1\" class=\"dataframe\">\n",
       "  <thead>\n",
       "    <tr style=\"text-align: right;\">\n",
       "      <th></th>\n",
       "      <th>importance</th>\n",
       "    </tr>\n",
       "  </thead>\n",
       "  <tbody>\n",
       "    <tr>\n",
       "      <th>size</th>\n",
       "      <td>0.321014</td>\n",
       "    </tr>\n",
       "    <tr>\n",
       "      <th>item_id</th>\n",
       "      <td>0.218016</td>\n",
       "    </tr>\n",
       "    <tr>\n",
       "      <th>weight</th>\n",
       "      <td>0.205683</td>\n",
       "    </tr>\n",
       "    <tr>\n",
       "      <th>category</th>\n",
       "      <td>0.125788</td>\n",
       "    </tr>\n",
       "    <tr>\n",
       "      <th>rented_for</th>\n",
       "      <td>0.047647</td>\n",
       "    </tr>\n",
       "    <tr>\n",
       "      <th>age</th>\n",
       "      <td>0.022415</td>\n",
       "    </tr>\n",
       "    <tr>\n",
       "      <th>bust_volume</th>\n",
       "      <td>0.018113</td>\n",
       "    </tr>\n",
       "    <tr>\n",
       "      <th>body_type</th>\n",
       "      <td>0.017964</td>\n",
       "    </tr>\n",
       "    <tr>\n",
       "      <th>height</th>\n",
       "      <td>0.011069</td>\n",
       "    </tr>\n",
       "    <tr>\n",
       "      <th>user_id</th>\n",
       "      <td>0.009415</td>\n",
       "    </tr>\n",
       "    <tr>\n",
       "      <th>chest_diff</th>\n",
       "      <td>0.002876</td>\n",
       "    </tr>\n",
       "  </tbody>\n",
       "</table>\n",
       "</div>"
      ],
      "text/plain": [
       "             importance\n",
       "size           0.321014\n",
       "item_id        0.218016\n",
       "weight         0.205683\n",
       "category       0.125788\n",
       "rented_for     0.047647\n",
       "age            0.022415\n",
       "bust_volume    0.018113\n",
       "body_type      0.017964\n",
       "height         0.011069\n",
       "user_id        0.009415\n",
       "chest_diff     0.002876"
      ]
     },
     "execution_count": 15,
     "metadata": {},
     "output_type": "execute_result"
    }
   ],
   "source": [
    "gbImportances"
   ]
  },
  {
   "cell_type": "code",
   "execution_count": 16,
   "metadata": {},
   "outputs": [],
   "source": [
    "from sklearn.utils import resample\n",
    "def resample_data(df):\n",
    "    # Separate majority and minority classes\n",
    "    df_majority = df[df.fit=='fit']\n",
    "    df_minority_1 = df[df.fit=='small']\n",
    "    df_minority_2 = df[df.fit=='large']\n",
    "\n",
    "    size = df_majority.shape[0]\n",
    "    \n",
    "    # Upsample minority class\n",
    "    df_minority_1_upsampled = resample(df_minority_1, \n",
    "                                     replace=True,     # sample with replacement\n",
    "                                     n_samples=size,    # to match majority class\n",
    "                                     random_state=123) # reproducible results\n",
    "    \n",
    "    df_minority_2_upsampled = resample(df_minority_2, \n",
    "                                     replace=True,     # sample with replacement\n",
    "                                     n_samples=size,    # to match majority class\n",
    "                                     random_state=123) # reproducible results\n",
    "    # # Combine majority class with upsampled minority class\n",
    "    df_upsampled = pd.concat([df_majority, df_minority_1_upsampled, df_minority_2_upsampled]).sample(frac=1)\n",
    "\n",
    "    return df_upsampled"
   ]
  },
  {
   "cell_type": "code",
   "execution_count": 17,
   "metadata": {},
   "outputs": [],
   "source": [
    "X_train['fit'] = Y_train.values\n",
    "X_test['fit'] = Y_test.values"
   ]
  },
  {
   "cell_type": "code",
   "execution_count": 18,
   "metadata": {},
   "outputs": [],
   "source": [
    "X_train_resampled = resample_data(X_train)\n",
    "X_test_resampled = resample_data(X_test)"
   ]
  },
  {
   "cell_type": "code",
   "execution_count": 19,
   "metadata": {},
   "outputs": [],
   "source": [
    "Y_train_resampled = X_train_resampled['fit']\n",
    "Y_test_resampled = X_test_resampled['fit']\n",
    "X_train_resampled = X_train_resampled.drop(['fit'],axis = 1)\n",
    "X_test_resampled = X_test_resampled.drop(['fit'], axis = 1)"
   ]
  },
  {
   "cell_type": "code",
   "execution_count": 20,
   "metadata": {},
   "outputs": [],
   "source": [
    "def fit_to_int(x):\n",
    "    if x == 'fit':\n",
    "        return 0\n",
    "    elif x == 'large':\n",
    "        return 1\n",
    "    return -1\n",
    "Y_train_resampled = Y_train_resampled.map(fit_to_int)\n",
    "Y_test_resampled = Y_test_resampled.map(fit_to_int)"
   ]
  },
  {
   "cell_type": "markdown",
   "metadata": {},
   "source": [
    "### Display the Resampled Data"
   ]
  },
  {
   "cell_type": "code",
   "execution_count": 21,
   "metadata": {},
   "outputs": [
    {
     "data": {
      "text/html": [
       "<div>\n",
       "<style scoped>\n",
       "    .dataframe tbody tr th:only-of-type {\n",
       "        vertical-align: middle;\n",
       "    }\n",
       "\n",
       "    .dataframe tbody tr th {\n",
       "        vertical-align: top;\n",
       "    }\n",
       "\n",
       "    .dataframe thead th {\n",
       "        text-align: right;\n",
       "    }\n",
       "</style>\n",
       "<table border=\"1\" class=\"dataframe\">\n",
       "  <thead>\n",
       "    <tr style=\"text-align: right;\">\n",
       "      <th></th>\n",
       "      <th>age</th>\n",
       "      <th>body_type</th>\n",
       "      <th>category</th>\n",
       "      <th>height</th>\n",
       "      <th>item_id</th>\n",
       "      <th>rented_for</th>\n",
       "      <th>size</th>\n",
       "      <th>user_id</th>\n",
       "      <th>weight</th>\n",
       "      <th>bust_volume</th>\n",
       "      <th>chest_diff</th>\n",
       "    </tr>\n",
       "  </thead>\n",
       "  <tbody>\n",
       "    <tr>\n",
       "      <th>10567</th>\n",
       "      <td>33</td>\n",
       "      <td>2</td>\n",
       "      <td>20</td>\n",
       "      <td>66.0</td>\n",
       "      <td>1064397</td>\n",
       "      <td>7</td>\n",
       "      <td>2</td>\n",
       "      <td>147764</td>\n",
       "      <td>120</td>\n",
       "      <td>480</td>\n",
       "      <td>4</td>\n",
       "    </tr>\n",
       "    <tr>\n",
       "      <th>64103</th>\n",
       "      <td>30</td>\n",
       "      <td>4</td>\n",
       "      <td>23</td>\n",
       "      <td>63.0</td>\n",
       "      <td>2631147</td>\n",
       "      <td>1</td>\n",
       "      <td>8</td>\n",
       "      <td>41159</td>\n",
       "      <td>125</td>\n",
       "      <td>310</td>\n",
       "      <td>2</td>\n",
       "    </tr>\n",
       "    <tr>\n",
       "      <th>141299</th>\n",
       "      <td>39</td>\n",
       "      <td>1</td>\n",
       "      <td>44</td>\n",
       "      <td>65.0</td>\n",
       "      <td>2192234</td>\n",
       "      <td>4</td>\n",
       "      <td>16</td>\n",
       "      <td>401916</td>\n",
       "      <td>140</td>\n",
       "      <td>480</td>\n",
       "      <td>2</td>\n",
       "    </tr>\n",
       "    <tr>\n",
       "      <th>63389</th>\n",
       "      <td>39</td>\n",
       "      <td>5</td>\n",
       "      <td>16</td>\n",
       "      <td>61.0</td>\n",
       "      <td>646029</td>\n",
       "      <td>7</td>\n",
       "      <td>8</td>\n",
       "      <td>319675</td>\n",
       "      <td>113</td>\n",
       "      <td>310</td>\n",
       "      <td>1</td>\n",
       "    </tr>\n",
       "    <tr>\n",
       "      <th>86128</th>\n",
       "      <td>29</td>\n",
       "      <td>4</td>\n",
       "      <td>32</td>\n",
       "      <td>65.0</td>\n",
       "      <td>661589</td>\n",
       "      <td>7</td>\n",
       "      <td>15</td>\n",
       "      <td>705224</td>\n",
       "      <td>135</td>\n",
       "      <td>480</td>\n",
       "      <td>3</td>\n",
       "    </tr>\n",
       "  </tbody>\n",
       "</table>\n",
       "</div>"
      ],
      "text/plain": [
       "        age  body_type  category  height  item_id  rented_for  size  user_id  \\\n",
       "10567    33          2        20    66.0  1064397           7     2   147764   \n",
       "64103    30          4        23    63.0  2631147           1     8    41159   \n",
       "141299   39          1        44    65.0  2192234           4    16   401916   \n",
       "63389    39          5        16    61.0   646029           7     8   319675   \n",
       "86128    29          4        32    65.0   661589           7    15   705224   \n",
       "\n",
       "        weight  bust_volume  chest_diff  \n",
       "10567      120          480           4  \n",
       "64103      125          310           2  \n",
       "141299     140          480           2  \n",
       "63389      113          310           1  \n",
       "86128      135          480           3  "
      ]
     },
     "execution_count": 21,
     "metadata": {},
     "output_type": "execute_result"
    }
   ],
   "source": [
    "X_train_resampled.head()"
   ]
  },
  {
   "cell_type": "code",
   "execution_count": 22,
   "metadata": {},
   "outputs": [
    {
     "data": {
      "text/html": [
       "<div>\n",
       "<style scoped>\n",
       "    .dataframe tbody tr th:only-of-type {\n",
       "        vertical-align: middle;\n",
       "    }\n",
       "\n",
       "    .dataframe tbody tr th {\n",
       "        vertical-align: top;\n",
       "    }\n",
       "\n",
       "    .dataframe thead th {\n",
       "        text-align: right;\n",
       "    }\n",
       "</style>\n",
       "<table border=\"1\" class=\"dataframe\">\n",
       "  <thead>\n",
       "    <tr style=\"text-align: right;\">\n",
       "      <th></th>\n",
       "      <th>age</th>\n",
       "      <th>body_type</th>\n",
       "      <th>category</th>\n",
       "      <th>height</th>\n",
       "      <th>item_id</th>\n",
       "      <th>rented_for</th>\n",
       "      <th>size</th>\n",
       "      <th>user_id</th>\n",
       "      <th>weight</th>\n",
       "      <th>bust_volume</th>\n",
       "      <th>chest_diff</th>\n",
       "    </tr>\n",
       "  </thead>\n",
       "  <tbody>\n",
       "    <tr>\n",
       "      <th>12808</th>\n",
       "      <td>30</td>\n",
       "      <td>3</td>\n",
       "      <td>16</td>\n",
       "      <td>63.0</td>\n",
       "      <td>1697200</td>\n",
       "      <td>7</td>\n",
       "      <td>16</td>\n",
       "      <td>743903</td>\n",
       "      <td>155</td>\n",
       "      <td>850</td>\n",
       "      <td>4</td>\n",
       "    </tr>\n",
       "    <tr>\n",
       "      <th>3412</th>\n",
       "      <td>33</td>\n",
       "      <td>6</td>\n",
       "      <td>16</td>\n",
       "      <td>68.0</td>\n",
       "      <td>1697200</td>\n",
       "      <td>7</td>\n",
       "      <td>4</td>\n",
       "      <td>510393</td>\n",
       "      <td>120</td>\n",
       "      <td>480</td>\n",
       "      <td>4</td>\n",
       "    </tr>\n",
       "    <tr>\n",
       "      <th>134766</th>\n",
       "      <td>30</td>\n",
       "      <td>6</td>\n",
       "      <td>16</td>\n",
       "      <td>68.0</td>\n",
       "      <td>172027</td>\n",
       "      <td>7</td>\n",
       "      <td>12</td>\n",
       "      <td>38564</td>\n",
       "      <td>135</td>\n",
       "      <td>390</td>\n",
       "      <td>2</td>\n",
       "    </tr>\n",
       "    <tr>\n",
       "      <th>8635</th>\n",
       "      <td>27</td>\n",
       "      <td>5</td>\n",
       "      <td>20</td>\n",
       "      <td>65.0</td>\n",
       "      <td>168610</td>\n",
       "      <td>2</td>\n",
       "      <td>1</td>\n",
       "      <td>303189</td>\n",
       "      <td>98</td>\n",
       "      <td>240</td>\n",
       "      <td>1</td>\n",
       "    </tr>\n",
       "    <tr>\n",
       "      <th>103623</th>\n",
       "      <td>26</td>\n",
       "      <td>4</td>\n",
       "      <td>16</td>\n",
       "      <td>68.0</td>\n",
       "      <td>1427750</td>\n",
       "      <td>1</td>\n",
       "      <td>8</td>\n",
       "      <td>359031</td>\n",
       "      <td>145</td>\n",
       "      <td>390</td>\n",
       "      <td>2</td>\n",
       "    </tr>\n",
       "  </tbody>\n",
       "</table>\n",
       "</div>"
      ],
      "text/plain": [
       "        age  body_type  category  height  item_id  rented_for  size  user_id  \\\n",
       "12808    30          3        16    63.0  1697200           7    16   743903   \n",
       "3412     33          6        16    68.0  1697200           7     4   510393   \n",
       "134766   30          6        16    68.0   172027           7    12    38564   \n",
       "8635     27          5        20    65.0   168610           2     1   303189   \n",
       "103623   26          4        16    68.0  1427750           1     8   359031   \n",
       "\n",
       "        weight  bust_volume  chest_diff  \n",
       "12808      155          850           4  \n",
       "3412       120          480           4  \n",
       "134766     135          390           2  \n",
       "8635        98          240           1  \n",
       "103623     145          390           2  "
      ]
     },
     "execution_count": 22,
     "metadata": {},
     "output_type": "execute_result"
    }
   ],
   "source": [
    "X_test_resampled.head()"
   ]
  },
  {
   "cell_type": "code",
   "execution_count": 23,
   "metadata": {},
   "outputs": [
    {
     "data": {
      "text/plain": [
       "10567     1\n",
       "64103    -1\n",
       "141299   -1\n",
       "63389    -1\n",
       "86128     1\n",
       "Name: fit, dtype: int64"
      ]
     },
     "execution_count": 23,
     "metadata": {},
     "output_type": "execute_result"
    }
   ],
   "source": [
    "Y_train_resampled.head()"
   ]
  },
  {
   "cell_type": "code",
   "execution_count": 24,
   "metadata": {},
   "outputs": [
    {
     "data": {
      "text/plain": [
       "12808     1\n",
       "3412      1\n",
       "134766   -1\n",
       "8635      1\n",
       "103623    0\n",
       "Name: fit, dtype: int64"
      ]
     },
     "execution_count": 24,
     "metadata": {},
     "output_type": "execute_result"
    }
   ],
   "source": [
    "Y_test_resampled.head()"
   ]
  },
  {
   "cell_type": "markdown",
   "metadata": {},
   "source": [
    "### Classifier Models on Resampled Data:\n",
    "- Random Forest (10 estimators)\n",
    "- Random Forest (100 estimators)\n",
    "- Gradient Boosting\n",
    "- Neural Network: Multilayer Perceptron"
   ]
  },
  {
   "cell_type": "code",
   "execution_count": 25,
   "metadata": {},
   "outputs": [
    {
     "name": "stdout",
     "output_type": "stream",
     "text": [
      "Random Forest:\n",
      "10 estimators Training Accuracy: 0.998631074606434\n",
      "10 estimators Test Accuracy: 0.3926349029441813\n",
      "100 estimators Training Accuracy: 0.9999690638329137\n",
      "100 estimators Test Accuracy: 0.38532862759666886\n",
      "\n",
      "Gradient Boosting:\n",
      "Training Accuracy: 0.5084861773338438\n",
      "Test Accuracy: 0.503715055261447\n",
      "\n",
      "Neural Network:\n",
      "Training Accuracy: 0.3333333333333333\n",
      "Test Accuracy: 0.3333333333333333\n"
     ]
    }
   ],
   "source": [
    "# Create classifers\n",
    "rf10 = RandomForestClassifier(n_estimators=10, n_jobs=-1)\n",
    "rf = RandomForestClassifier(n_estimators=100, n_jobs=-1)\n",
    "gb = GradientBoostingClassifier()\n",
    "nn = MLPClassifier()\n",
    "\n",
    "# Train Classifers\n",
    "rf10 = rf10.fit(X_train_resampled, Y_train_resampled)\n",
    "rf = rf.fit(X_train_resampled, Y_train_resampled)\n",
    "gb = gb.fit(X_train_resampled, Y_train_resampled)\n",
    "nn = nn.fit(X_train_resampled, Y_train_resampled)\n",
    "\n",
    "#Predict the response for test dataset\n",
    "rf10_y_pred = rf10.predict(X_test_resampled)\n",
    "rf_y_pred = rf.predict(X_test_resampled)\n",
    "gb_y_pred = gb.predict(X_test_resampled)\n",
    "nn_y_pred = nn.predict(X_test_resampled)\n",
    "\n",
    "print(\"Random Forest:\")\n",
    "print(\"10 estimators Training Accuracy:\", metrics.accuracy_score(Y_train_resampled, rf10.predict(X_train_resampled)))\n",
    "print(\"10 estimators Test Accuracy:\",metrics.accuracy_score(Y_test_resampled, rf10_y_pred))\n",
    "print(\"100 estimators Training Accuracy:\", metrics.accuracy_score(Y_train_resampled, rf.predict(X_train_resampled)))\n",
    "print(\"100 estimators Test Accuracy:\",metrics.accuracy_score(Y_test_resampled, rf_y_pred))\n",
    "\n",
    "print(\"\\nGradient Boosting:\")\n",
    "print(\"Training Accuracy:\", metrics.accuracy_score(Y_train_resampled, gb.predict(X_train_resampled)))\n",
    "print(\"Test Accuracy:\",metrics.accuracy_score(Y_test_resampled, gb_y_pred))\n",
    "\n",
    "print(\"\\nNeural Network:\")\n",
    "print(\"Training Accuracy:\", metrics.accuracy_score(Y_train_resampled, nn.predict(X_train_resampled)))\n",
    "print(\"Test Accuracy:\",metrics.accuracy_score(Y_test_resampled, nn_y_pred))"
   ]
  },
  {
   "cell_type": "markdown",
   "metadata": {},
   "source": [
    "On the resample: Even thirds, 33% small, 33% fit, 33% large\n",
    "Gradient Boosting here is 50% more accurate than random guessing"
   ]
  },
  {
   "cell_type": "code",
   "execution_count": 26,
   "metadata": {
    "scrolled": true
   },
   "outputs": [
    {
     "name": "stdout",
     "output_type": "stream",
     "text": [
      "        fit\n",
      "12808     1\n",
      "3412      1\n",
      "134766   -1\n",
      "8635      1\n",
      "103623    0\n",
      "0.3333333333333333\n"
     ]
    }
   ],
   "source": [
    "#Y_test_resampled.head()\n",
    "a = pd.DataFrame(Y_test_resampled)\n",
    "print(a.head())\n",
    "\n",
    "print( (len(a[a['fit'] == 0])) / (len(a.index))  )"
   ]
  },
  {
   "cell_type": "code",
   "execution_count": 27,
   "metadata": {},
   "outputs": [
    {
     "data": {
      "text/html": [
       "<div>\n",
       "<style scoped>\n",
       "    .dataframe tbody tr th:only-of-type {\n",
       "        vertical-align: middle;\n",
       "    }\n",
       "\n",
       "    .dataframe tbody tr th {\n",
       "        vertical-align: top;\n",
       "    }\n",
       "\n",
       "    .dataframe thead th {\n",
       "        text-align: right;\n",
       "    }\n",
       "</style>\n",
       "<table border=\"1\" class=\"dataframe\">\n",
       "  <thead>\n",
       "    <tr style=\"text-align: right;\">\n",
       "      <th></th>\n",
       "      <th>importance</th>\n",
       "    </tr>\n",
       "  </thead>\n",
       "  <tbody>\n",
       "    <tr>\n",
       "      <th>item_id</th>\n",
       "      <td>0.197921</td>\n",
       "    </tr>\n",
       "    <tr>\n",
       "      <th>user_id</th>\n",
       "      <td>0.161461</td>\n",
       "    </tr>\n",
       "    <tr>\n",
       "      <th>age</th>\n",
       "      <td>0.119303</td>\n",
       "    </tr>\n",
       "    <tr>\n",
       "      <th>weight</th>\n",
       "      <td>0.101192</td>\n",
       "    </tr>\n",
       "    <tr>\n",
       "      <th>height</th>\n",
       "      <td>0.089696</td>\n",
       "    </tr>\n",
       "    <tr>\n",
       "      <th>size</th>\n",
       "      <td>0.077697</td>\n",
       "    </tr>\n",
       "    <tr>\n",
       "      <th>rented_for</th>\n",
       "      <td>0.059485</td>\n",
       "    </tr>\n",
       "    <tr>\n",
       "      <th>category</th>\n",
       "      <td>0.049031</td>\n",
       "    </tr>\n",
       "    <tr>\n",
       "      <th>body_type</th>\n",
       "      <td>0.048616</td>\n",
       "    </tr>\n",
       "    <tr>\n",
       "      <th>bust_volume</th>\n",
       "      <td>0.048109</td>\n",
       "    </tr>\n",
       "    <tr>\n",
       "      <th>chest_diff</th>\n",
       "      <td>0.047488</td>\n",
       "    </tr>\n",
       "  </tbody>\n",
       "</table>\n",
       "</div>"
      ],
      "text/plain": [
       "             importance\n",
       "item_id        0.197921\n",
       "user_id        0.161461\n",
       "age            0.119303\n",
       "weight         0.101192\n",
       "height         0.089696\n",
       "size           0.077697\n",
       "rented_for     0.059485\n",
       "category       0.049031\n",
       "body_type      0.048616\n",
       "bust_volume    0.048109\n",
       "chest_diff     0.047488"
      ]
     },
     "execution_count": 27,
     "metadata": {},
     "output_type": "execute_result"
    }
   ],
   "source": [
    "# import numpy as np\n",
    "\n",
    "rfImportances = pd.DataFrame(rf.feature_importances_, index = X_train_resampled.columns, columns =['importance']).sort_values('importance', ascending=False)\n",
    "gbImportances = pd.DataFrame(gb.feature_importances_, index = X_train_resampled.columns, columns =['importance']).sort_values('importance', ascending=False)\n",
    "rfImportances"
   ]
  },
  {
   "cell_type": "code",
   "execution_count": 28,
   "metadata": {
    "scrolled": true
   },
   "outputs": [
    {
     "data": {
      "text/html": [
       "<div>\n",
       "<style scoped>\n",
       "    .dataframe tbody tr th:only-of-type {\n",
       "        vertical-align: middle;\n",
       "    }\n",
       "\n",
       "    .dataframe tbody tr th {\n",
       "        vertical-align: top;\n",
       "    }\n",
       "\n",
       "    .dataframe thead th {\n",
       "        text-align: right;\n",
       "    }\n",
       "</style>\n",
       "<table border=\"1\" class=\"dataframe\">\n",
       "  <thead>\n",
       "    <tr style=\"text-align: right;\">\n",
       "      <th></th>\n",
       "      <th>importance</th>\n",
       "    </tr>\n",
       "  </thead>\n",
       "  <tbody>\n",
       "    <tr>\n",
       "      <th>size</th>\n",
       "      <td>0.418674</td>\n",
       "    </tr>\n",
       "    <tr>\n",
       "      <th>weight</th>\n",
       "      <td>0.195246</td>\n",
       "    </tr>\n",
       "    <tr>\n",
       "      <th>item_id</th>\n",
       "      <td>0.179305</td>\n",
       "    </tr>\n",
       "    <tr>\n",
       "      <th>category</th>\n",
       "      <td>0.084627</td>\n",
       "    </tr>\n",
       "    <tr>\n",
       "      <th>rented_for</th>\n",
       "      <td>0.057233</td>\n",
       "    </tr>\n",
       "    <tr>\n",
       "      <th>body_type</th>\n",
       "      <td>0.019177</td>\n",
       "    </tr>\n",
       "    <tr>\n",
       "      <th>bust_volume</th>\n",
       "      <td>0.018532</td>\n",
       "    </tr>\n",
       "    <tr>\n",
       "      <th>age</th>\n",
       "      <td>0.012474</td>\n",
       "    </tr>\n",
       "    <tr>\n",
       "      <th>height</th>\n",
       "      <td>0.006651</td>\n",
       "    </tr>\n",
       "    <tr>\n",
       "      <th>user_id</th>\n",
       "      <td>0.006182</td>\n",
       "    </tr>\n",
       "    <tr>\n",
       "      <th>chest_diff</th>\n",
       "      <td>0.001898</td>\n",
       "    </tr>\n",
       "  </tbody>\n",
       "</table>\n",
       "</div>"
      ],
      "text/plain": [
       "             importance\n",
       "size           0.418674\n",
       "weight         0.195246\n",
       "item_id        0.179305\n",
       "category       0.084627\n",
       "rented_for     0.057233\n",
       "body_type      0.019177\n",
       "bust_volume    0.018532\n",
       "age            0.012474\n",
       "height         0.006651\n",
       "user_id        0.006182\n",
       "chest_diff     0.001898"
      ]
     },
     "execution_count": 28,
     "metadata": {},
     "output_type": "execute_result"
    }
   ],
   "source": [
    "gbImportances"
   ]
  },
  {
   "cell_type": "code",
   "execution_count": 29,
   "metadata": {},
   "outputs": [
    {
     "data": {
      "image/png": "[encoded data removed]",
      "text/plain": [
       "<Figure size 432x288 with 1 Axes>"
      ]
     },
     "metadata": {},
     "output_type": "display_data"
    }
   ],
   "source": [
    "showPie(list(Y_test_resampled), False)"
   ]
  },
  {
   "cell_type": "code",
   "execution_count": 30,
   "metadata": {},
   "outputs": [
    {
     "name": "stdout",
     "output_type": "stream",
     "text": [
      "Random Forest (10 estimators):\n"
     ]
    },
    {
     "data": {
      "image/png": "[encoded data removed]",
      "text/plain": [
       "<Figure size 432x288 with 1 Axes>"
      ]
     },
     "metadata": {},
     "output_type": "display_data"
    },
    {
     "name": "stdout",
     "output_type": "stream",
     "text": [
      "Random Forest (100 estimators):\n"
     ]
    },
    {
     "data": {
      "image/png": "[encoded data removed]",
      "text/plain": [
       "<Figure size 432x288 with 1 Axes>"
      ]
     },
     "metadata": {},
     "output_type": "display_data"
    },
    {
     "name": "stdout",
     "output_type": "stream",
     "text": [
      "Gradient Boosting:\n"
     ]
    },
    {
     "data": {
      "image/png": "[encoded data removed]",
      "text/plain": [
       "<Figure size 432x288 with 1 Axes>"
      ]
     },
     "metadata": {},
     "output_type": "display_data"
    },
    {
     "name": "stdout",
     "output_type": "stream",
     "text": [
      "Neural Network:\n"
     ]
    },
    {
     "data": {
      "image/png": "[encoded data removed]",
      "text/plain": [
       "<Figure size 432x288 with 1 Axes>"
      ]
     },
     "metadata": {},
     "output_type": "display_data"
    }
   ],
   "source": [
    "print(\"Random Forest (10 estimators):\")\n",
    "showPie(list(rf10_y_pred), False)\n",
    "print(\"Random Forest (100 estimators):\")\n",
    "showPie(list(rf_y_pred), False)\n",
    "print(\"Gradient Boosting:\")\n",
    "showPie(list(gb_y_pred), False)\n",
    "print(\"Neural Network:\")\n",
    "showPie(list(nn_y_pred), False)"
   ]
  },
  {
   "cell_type": "markdown",
   "metadata": {},
   "source": [
    "## Using Anomaly-Free Data"
   ]
  },
  {
   "cell_type": "code",
   "execution_count": 31,
   "metadata": {},
   "outputs": [],
   "source": [
    "reviews = pickle.load(open(\"../Data/reviews_anomalies_removed.pkl\", \"rb\" ))"
   ]
  },
  {
   "cell_type": "code",
   "execution_count": 32,
   "metadata": {},
   "outputs": [
    {
     "data": {
      "text/html": [
       "<div>\n",
       "<style scoped>\n",
       "    .dataframe tbody tr th:only-of-type {\n",
       "        vertical-align: middle;\n",
       "    }\n",
       "\n",
       "    .dataframe tbody tr th {\n",
       "        vertical-align: top;\n",
       "    }\n",
       "\n",
       "    .dataframe thead th {\n",
       "        text-align: right;\n",
       "    }\n",
       "</style>\n",
       "<table border=\"1\" class=\"dataframe\">\n",
       "  <thead>\n",
       "    <tr style=\"text-align: right;\">\n",
       "      <th></th>\n",
       "      <th>age</th>\n",
       "      <th>body_type</th>\n",
       "      <th>category</th>\n",
       "      <th>height</th>\n",
       "      <th>item_id</th>\n",
       "      <th>rented_for</th>\n",
       "      <th>size</th>\n",
       "      <th>user_id</th>\n",
       "      <th>weight</th>\n",
       "      <th>bust_volume</th>\n",
       "      <th>chest_diff</th>\n",
       "    </tr>\n",
       "  </thead>\n",
       "  <tbody>\n",
       "    <tr>\n",
       "      <th>58489</th>\n",
       "      <td>33</td>\n",
       "      <td>1</td>\n",
       "      <td>20</td>\n",
       "      <td>68.0</td>\n",
       "      <td>1615177</td>\n",
       "      <td>7</td>\n",
       "      <td>17</td>\n",
       "      <td>317401</td>\n",
       "      <td>135</td>\n",
       "      <td>390</td>\n",
       "      <td>2</td>\n",
       "    </tr>\n",
       "    <tr>\n",
       "      <th>31496</th>\n",
       "      <td>33</td>\n",
       "      <td>3</td>\n",
       "      <td>16</td>\n",
       "      <td>69.0</td>\n",
       "      <td>1566348</td>\n",
       "      <td>7</td>\n",
       "      <td>8</td>\n",
       "      <td>474466</td>\n",
       "      <td>145</td>\n",
       "      <td>480</td>\n",
       "      <td>3</td>\n",
       "    </tr>\n",
       "    <tr>\n",
       "      <th>74561</th>\n",
       "      <td>32</td>\n",
       "      <td>4</td>\n",
       "      <td>20</td>\n",
       "      <td>64.0</td>\n",
       "      <td>153475</td>\n",
       "      <td>2</td>\n",
       "      <td>8</td>\n",
       "      <td>527830</td>\n",
       "      <td>120</td>\n",
       "      <td>480</td>\n",
       "      <td>3</td>\n",
       "    </tr>\n",
       "    <tr>\n",
       "      <th>59076</th>\n",
       "      <td>37</td>\n",
       "      <td>5</td>\n",
       "      <td>20</td>\n",
       "      <td>59.0</td>\n",
       "      <td>134015</td>\n",
       "      <td>2</td>\n",
       "      <td>3</td>\n",
       "      <td>906352</td>\n",
       "      <td>115</td>\n",
       "      <td>590</td>\n",
       "      <td>4</td>\n",
       "    </tr>\n",
       "    <tr>\n",
       "      <th>17737</th>\n",
       "      <td>28</td>\n",
       "      <td>4</td>\n",
       "      <td>16</td>\n",
       "      <td>66.0</td>\n",
       "      <td>1675905</td>\n",
       "      <td>3</td>\n",
       "      <td>8</td>\n",
       "      <td>598630</td>\n",
       "      <td>130</td>\n",
       "      <td>390</td>\n",
       "      <td>2</td>\n",
       "    </tr>\n",
       "  </tbody>\n",
       "</table>\n",
       "</div>"
      ],
      "text/plain": [
       "       age  body_type  category  height  item_id  rented_for  size  user_id  \\\n",
       "58489   33          1        20    68.0  1615177           7    17   317401   \n",
       "31496   33          3        16    69.0  1566348           7     8   474466   \n",
       "74561   32          4        20    64.0   153475           2     8   527830   \n",
       "59076   37          5        20    59.0   134015           2     3   906352   \n",
       "17737   28          4        16    66.0  1675905           3     8   598630   \n",
       "\n",
       "       weight  bust_volume  chest_diff  \n",
       "58489     135          390           2  \n",
       "31496     145          480           3  \n",
       "74561     120          480           3  \n",
       "59076     115          590           4  \n",
       "17737     130          390           2  "
      ]
     },
     "execution_count": 32,
     "metadata": {},
     "output_type": "execute_result"
    }
   ],
   "source": [
    "# Remove fit, the target variable, and features that\n",
    "# are only received after the item has been bought.\n",
    "X = reviews.drop(['fit', 'rating', 'review_date'], axis=1)\n",
    "Y = reviews['fit']\n",
    "\n",
    "X_train, X_test, Y_train, Y_test = train_test_split(X, Y, test_size=0.2, random_state=1)\n",
    "X_train.head()"
   ]
  },
  {
   "cell_type": "markdown",
   "metadata": {},
   "source": [
    "### Classifier Models:\n",
    "- Random Forest (10 estimators)\n",
    "- Random Forest (100 estimators)\n",
    "- Gradient Boosting\n",
    "- Neural Network: Multilayer Perceptron"
   ]
  },
  {
   "cell_type": "code",
   "execution_count": 33,
   "metadata": {},
   "outputs": [
    {
     "name": "stdout",
     "output_type": "stream",
     "text": [
      "Random Forest:\n",
      "10 estimators Training Accuracy: 0.975217251367879\n",
      "10 estimators Test Accuracy: 0.7281639928698752\n",
      "100 estimators Training Accuracy: 1.0\n",
      "100 estimators Test Accuracy: 0.7409387997623291\n",
      "\n",
      "Gradient Boosting:\n",
      "Training Accuracy: 0.7537075090985615\n",
      "Test Accuracy: 0.7450980392156863\n",
      "\n",
      "Neural Network:\n",
      "Training Accuracy: 0.7377881211160903\n",
      "Test Accuracy: 0.7318280847692612\n"
     ]
    }
   ],
   "source": [
    "# # Create classifers\n",
    "rf10 = RandomForestClassifier(n_estimators=10)\n",
    "rf = RandomForestClassifier(n_estimators=100)\n",
    "gb = GradientBoostingClassifier(random_state=1, learning_rate=.1)\n",
    "nn = MLPClassifier()\n",
    "\n",
    "# Train Classifers\n",
    "rf10 = rf10.fit(X_train, Y_train)\n",
    "rf = rf.fit(X_train, Y_train)\n",
    "gb = gb.fit(X_train, Y_train)\n",
    "nn = nn.fit(X_train, Y_train)\n",
    "\n",
    "#Predict the response for test dataset\n",
    "rf10_y_pred = rf10.predict(X_test)\n",
    "rf_y_pred = rf.predict(X_test)\n",
    "gb_y_pred = gb.predict(X_test)\n",
    "nn_y_pred = nn.predict(X_test)\n",
    "\n",
    "print(\"Random Forest:\")\n",
    "print(\"10 estimators Training Accuracy:\", metrics.accuracy_score(Y_train, rf10.predict(X_train)))\n",
    "print(\"10 estimators Test Accuracy:\",metrics.accuracy_score(Y_test, rf10_y_pred))\n",
    "print(\"100 estimators Training Accuracy:\", metrics.accuracy_score(Y_train, rf.predict(X_train)))\n",
    "print(\"100 estimators Test Accuracy:\",metrics.accuracy_score(Y_test, rf_y_pred))\n",
    "\n",
    "print(\"\\nGradient Boosting:\")\n",
    "print(\"Training Accuracy:\", metrics.accuracy_score(Y_train, gb.predict(X_train)))\n",
    "print(\"Test Accuracy:\",metrics.accuracy_score(Y_test, gb_y_pred))\n",
    "\n",
    "print(\"\\nNeural Network:\")\n",
    "print(\"Training Accuracy:\", metrics.accuracy_score(Y_train, nn.predict(X_train)))\n",
    "print(\"Test Accuracy:\",metrics.accuracy_score(Y_test, nn_y_pred))"
   ]
  },
  {
   "cell_type": "markdown",
   "metadata": {},
   "source": [
    "What % of users rate the fit of the product as \"fit\" to see if either model gave us additional information"
   ]
  },
  {
   "cell_type": "code",
   "execution_count": 34,
   "metadata": {
    "scrolled": false
   },
   "outputs": [
    {
     "name": "stdout",
     "output_type": "stream",
     "text": [
      "Fit   %: 0.7398047099368179\n",
      "Small %: 0.13361326229475728\n",
      "Large %: 0.1265820277684248\n"
     ]
    },
    {
     "data": {
      "image/png": "[encoded data removed]",
      "text/plain": [
       "<Figure size 432x288 with 1 Axes>"
      ]
     },
     "metadata": {},
     "output_type": "display_data"
    }
   ],
   "source": [
    "print(\"Fit   %:\", ((reviews[reviews.fit == 'fit'].shape[0]) / (len(reviews.index))))\n",
    "print(\"Small %:\", ((reviews[reviews.fit == 'small'].shape[0]) / (len(reviews.index))))\n",
    "print(\"Large %:\", ((reviews[reviews.fit == 'large'].shape[0]) / (len(reviews.index))))\n",
    "\n",
    "sizes = [reviews[reviews.fit == 'fit'].shape[0], reviews[reviews.fit == 'small'].shape[0], reviews[reviews.fit == 'large'].shape[0]]\n",
    "labels = [\"Fit\", \"Small\", \"Large\"]\n",
    "import matplotlib.pyplot as plt\n",
    "fig1, ax1 = plt.subplots()\n",
    "ax1.pie(sizes, labels=labels, autopct='%1.1f%%', shadow=True, startangle=90)\n",
    "ax1.axis('equal')\n",
    "plt.show()"
   ]
  },
  {
   "cell_type": "code",
   "execution_count": 35,
   "metadata": {},
   "outputs": [
    {
     "data": {
      "image/png": "[encoded data removed]",
      "text/plain": [
       "<Figure size 432x288 with 1 Axes>"
      ]
     },
     "metadata": {},
     "output_type": "display_data"
    }
   ],
   "source": [
    "showPie(list(Y_test), True)"
   ]
  },
  {
   "cell_type": "code",
   "execution_count": 36,
   "metadata": {},
   "outputs": [
    {
     "name": "stdout",
     "output_type": "stream",
     "text": [
      "Random Forest (10 estimators):\n"
     ]
    },
    {
     "data": {
      "image/png": "[encoded data removed]",
      "text/plain": [
       "<Figure size 432x288 with 1 Axes>"
      ]
     },
     "metadata": {},
     "output_type": "display_data"
    },
    {
     "name": "stdout",
     "output_type": "stream",
     "text": [
      "Random Forest (100 estimators):\n"
     ]
    },
    {
     "data": {
      "image/png": "[encoded data removed]",
      "text/plain": [
       "<Figure size 432x288 with 1 Axes>"
      ]
     },
     "metadata": {},
     "output_type": "display_data"
    },
    {
     "name": "stdout",
     "output_type": "stream",
     "text": [
      "Gradient Boosting:\n"
     ]
    },
    {
     "data": {
      "image/png": "[encoded data removed]",
      "text/plain": [
       "<Figure size 432x288 with 1 Axes>"
      ]
     },
     "metadata": {},
     "output_type": "display_data"
    },
    {
     "name": "stdout",
     "output_type": "stream",
     "text": [
      "Neural Network:\n"
     ]
    },
    {
     "data": {
      "image/png": "[encoded data removed]",
      "text/plain": [
       "<Figure size 432x288 with 1 Axes>"
      ]
     },
     "metadata": {},
     "output_type": "display_data"
    }
   ],
   "source": [
    "print(\"Random Forest (10 estimators):\")\n",
    "showPie(list(rf10_y_pred), True)\n",
    "print(\"Random Forest (100 estimators):\")\n",
    "showPie(list(rf_y_pred), True)\n",
    "print(\"Gradient Boosting:\")\n",
    "showPie(list(gb_y_pred), True)\n",
    "print(\"Neural Network:\")\n",
    "showPie(list(nn_y_pred), True)"
   ]
  },
  {
   "cell_type": "markdown",
   "metadata": {},
   "source": [
    "More information is gained simply by guessing \"fit\" on every item, so these models provide us no additional information."
   ]
  },
  {
   "cell_type": "code",
   "execution_count": 37,
   "metadata": {},
   "outputs": [
    {
     "data": {
      "text/html": [
       "<div>\n",
       "<style scoped>\n",
       "    .dataframe tbody tr th:only-of-type {\n",
       "        vertical-align: middle;\n",
       "    }\n",
       "\n",
       "    .dataframe tbody tr th {\n",
       "        vertical-align: top;\n",
       "    }\n",
       "\n",
       "    .dataframe thead th {\n",
       "        text-align: right;\n",
       "    }\n",
       "</style>\n",
       "<table border=\"1\" class=\"dataframe\">\n",
       "  <thead>\n",
       "    <tr style=\"text-align: right;\">\n",
       "      <th></th>\n",
       "      <th>importance</th>\n",
       "    </tr>\n",
       "  </thead>\n",
       "  <tbody>\n",
       "    <tr>\n",
       "      <th>user_id</th>\n",
       "      <td>0.180514</td>\n",
       "    </tr>\n",
       "    <tr>\n",
       "      <th>item_id</th>\n",
       "      <td>0.166106</td>\n",
       "    </tr>\n",
       "    <tr>\n",
       "      <th>age</th>\n",
       "      <td>0.134983</td>\n",
       "    </tr>\n",
       "    <tr>\n",
       "      <th>height</th>\n",
       "      <td>0.099319</td>\n",
       "    </tr>\n",
       "    <tr>\n",
       "      <th>weight</th>\n",
       "      <td>0.093420</td>\n",
       "    </tr>\n",
       "    <tr>\n",
       "      <th>size</th>\n",
       "      <td>0.069627</td>\n",
       "    </tr>\n",
       "    <tr>\n",
       "      <th>body_type</th>\n",
       "      <td>0.060899</td>\n",
       "    </tr>\n",
       "    <tr>\n",
       "      <th>bust_volume</th>\n",
       "      <td>0.059495</td>\n",
       "    </tr>\n",
       "    <tr>\n",
       "      <th>chest_diff</th>\n",
       "      <td>0.054616</td>\n",
       "    </tr>\n",
       "    <tr>\n",
       "      <th>rented_for</th>\n",
       "      <td>0.053674</td>\n",
       "    </tr>\n",
       "    <tr>\n",
       "      <th>category</th>\n",
       "      <td>0.027346</td>\n",
       "    </tr>\n",
       "  </tbody>\n",
       "</table>\n",
       "</div>"
      ],
      "text/plain": [
       "             importance\n",
       "user_id        0.180514\n",
       "item_id        0.166106\n",
       "age            0.134983\n",
       "height         0.099319\n",
       "weight         0.093420\n",
       "size           0.069627\n",
       "body_type      0.060899\n",
       "bust_volume    0.059495\n",
       "chest_diff     0.054616\n",
       "rented_for     0.053674\n",
       "category       0.027346"
      ]
     },
     "execution_count": 37,
     "metadata": {},
     "output_type": "execute_result"
    }
   ],
   "source": [
    "import numpy as np\n",
    "rfImportances = pd.DataFrame(rf.feature_importances_, index = X_train.columns, columns =['importance']).sort_values('importance', ascending=False)\n",
    "gbImportances = pd.DataFrame(gb.feature_importances_, index = X_train.columns, columns =['importance']).sort_values('importance', ascending=False)\n",
    "rfImportances"
   ]
  },
  {
   "cell_type": "code",
   "execution_count": 38,
   "metadata": {
    "scrolled": true
   },
   "outputs": [
    {
     "data": {
      "text/html": [
       "<div>\n",
       "<style scoped>\n",
       "    .dataframe tbody tr th:only-of-type {\n",
       "        vertical-align: middle;\n",
       "    }\n",
       "\n",
       "    .dataframe tbody tr th {\n",
       "        vertical-align: top;\n",
       "    }\n",
       "\n",
       "    .dataframe thead th {\n",
       "        text-align: right;\n",
       "    }\n",
       "</style>\n",
       "<table border=\"1\" class=\"dataframe\">\n",
       "  <thead>\n",
       "    <tr style=\"text-align: right;\">\n",
       "      <th></th>\n",
       "      <th>importance</th>\n",
       "    </tr>\n",
       "  </thead>\n",
       "  <tbody>\n",
       "    <tr>\n",
       "      <th>item_id</th>\n",
       "      <td>0.361457</td>\n",
       "    </tr>\n",
       "    <tr>\n",
       "      <th>size</th>\n",
       "      <td>0.271240</td>\n",
       "    </tr>\n",
       "    <tr>\n",
       "      <th>weight</th>\n",
       "      <td>0.119751</td>\n",
       "    </tr>\n",
       "    <tr>\n",
       "      <th>category</th>\n",
       "      <td>0.101302</td>\n",
       "    </tr>\n",
       "    <tr>\n",
       "      <th>chest_diff</th>\n",
       "      <td>0.042440</td>\n",
       "    </tr>\n",
       "    <tr>\n",
       "      <th>bust_volume</th>\n",
       "      <td>0.036337</td>\n",
       "    </tr>\n",
       "    <tr>\n",
       "      <th>age</th>\n",
       "      <td>0.028807</td>\n",
       "    </tr>\n",
       "    <tr>\n",
       "      <th>height</th>\n",
       "      <td>0.016965</td>\n",
       "    </tr>\n",
       "    <tr>\n",
       "      <th>user_id</th>\n",
       "      <td>0.011663</td>\n",
       "    </tr>\n",
       "    <tr>\n",
       "      <th>body_type</th>\n",
       "      <td>0.007558</td>\n",
       "    </tr>\n",
       "    <tr>\n",
       "      <th>rented_for</th>\n",
       "      <td>0.002479</td>\n",
       "    </tr>\n",
       "  </tbody>\n",
       "</table>\n",
       "</div>"
      ],
      "text/plain": [
       "             importance\n",
       "item_id        0.361457\n",
       "size           0.271240\n",
       "weight         0.119751\n",
       "category       0.101302\n",
       "chest_diff     0.042440\n",
       "bust_volume    0.036337\n",
       "age            0.028807\n",
       "height         0.016965\n",
       "user_id        0.011663\n",
       "body_type      0.007558\n",
       "rented_for     0.002479"
      ]
     },
     "execution_count": 38,
     "metadata": {},
     "output_type": "execute_result"
    }
   ],
   "source": [
    "gbImportances"
   ]
  },
  {
   "cell_type": "code",
   "execution_count": 39,
   "metadata": {},
   "outputs": [],
   "source": [
    "from sklearn.utils import resample\n",
    "def resample_data(df):\n",
    "    # Separate majority and minority classes\n",
    "    df_majority = df[df.fit=='fit']\n",
    "    df_minority_1 = df[df.fit=='small']\n",
    "    df_minority_2 = df[df.fit=='large']\n",
    "\n",
    "    size = df_majority.shape[0]\n",
    "    \n",
    "    # Upsample minority class\n",
    "    df_minority_1_upsampled = resample(df_minority_1, \n",
    "                                     replace=True,     # sample with replacement\n",
    "                                     n_samples=size,    # to match majority class\n",
    "                                     random_state=123) # reproducible results\n",
    "    \n",
    "    df_minority_2_upsampled = resample(df_minority_2, \n",
    "                                     replace=True,     # sample with replacement\n",
    "                                     n_samples=size,    # to match majority class\n",
    "                                     random_state=123) # reproducible results\n",
    "    # # Combine majority class with upsampled minority class\n",
    "    df_upsampled = pd.concat([df_majority, df_minority_1_upsampled, df_minority_2_upsampled]).sample(frac=1)\n",
    "\n",
    "    return df_upsampled"
   ]
  },
  {
   "cell_type": "code",
   "execution_count": 40,
   "metadata": {},
   "outputs": [],
   "source": [
    "X_train['fit'] = Y_train.values\n",
    "X_test['fit'] = Y_test.values"
   ]
  },
  {
   "cell_type": "code",
   "execution_count": 41,
   "metadata": {},
   "outputs": [],
   "source": [
    "X_train_resampled = resample_data(X_train)\n",
    "X_test_resampled = resample_data(X_test)"
   ]
  },
  {
   "cell_type": "code",
   "execution_count": 42,
   "metadata": {},
   "outputs": [],
   "source": [
    "Y_train_resampled = X_train_resampled['fit']\n",
    "Y_test_resampled = X_test_resampled['fit']\n",
    "X_train_resampled = X_train_resampled.drop(['fit'],axis = 1)\n",
    "X_test_resampled = X_test_resampled.drop(['fit'], axis = 1)"
   ]
  },
  {
   "cell_type": "code",
   "execution_count": 43,
   "metadata": {},
   "outputs": [],
   "source": [
    "def fit_to_int(x):\n",
    "    if x == 'fit':\n",
    "        return 0\n",
    "    elif x == 'large':\n",
    "        return 1\n",
    "    return -1\n",
    "Y_train_resampled = Y_train_resampled.map(fit_to_int)\n",
    "Y_test_resampled = Y_test_resampled.map(fit_to_int)"
   ]
  },
  {
   "cell_type": "markdown",
   "metadata": {},
   "source": [
    "### Display the Resampled Data"
   ]
  },
  {
   "cell_type": "code",
   "execution_count": 44,
   "metadata": {},
   "outputs": [
    {
     "data": {
      "text/html": [
       "<div>\n",
       "<style scoped>\n",
       "    .dataframe tbody tr th:only-of-type {\n",
       "        vertical-align: middle;\n",
       "    }\n",
       "\n",
       "    .dataframe tbody tr th {\n",
       "        vertical-align: top;\n",
       "    }\n",
       "\n",
       "    .dataframe thead th {\n",
       "        text-align: right;\n",
       "    }\n",
       "</style>\n",
       "<table border=\"1\" class=\"dataframe\">\n",
       "  <thead>\n",
       "    <tr style=\"text-align: right;\">\n",
       "      <th></th>\n",
       "      <th>age</th>\n",
       "      <th>body_type</th>\n",
       "      <th>category</th>\n",
       "      <th>height</th>\n",
       "      <th>item_id</th>\n",
       "      <th>rented_for</th>\n",
       "      <th>size</th>\n",
       "      <th>user_id</th>\n",
       "      <th>weight</th>\n",
       "      <th>bust_volume</th>\n",
       "      <th>chest_diff</th>\n",
       "    </tr>\n",
       "  </thead>\n",
       "  <tbody>\n",
       "    <tr>\n",
       "      <th>32280</th>\n",
       "      <td>29</td>\n",
       "      <td>4</td>\n",
       "      <td>20</td>\n",
       "      <td>65.0</td>\n",
       "      <td>139086</td>\n",
       "      <td>7</td>\n",
       "      <td>12</td>\n",
       "      <td>485296</td>\n",
       "      <td>130</td>\n",
       "      <td>310</td>\n",
       "      <td>1</td>\n",
       "    </tr>\n",
       "    <tr>\n",
       "      <th>107143</th>\n",
       "      <td>43</td>\n",
       "      <td>3</td>\n",
       "      <td>20</td>\n",
       "      <td>66.0</td>\n",
       "      <td>134015</td>\n",
       "      <td>2</td>\n",
       "      <td>9</td>\n",
       "      <td>801736</td>\n",
       "      <td>135</td>\n",
       "      <td>710</td>\n",
       "      <td>5</td>\n",
       "    </tr>\n",
       "    <tr>\n",
       "      <th>56627</th>\n",
       "      <td>32</td>\n",
       "      <td>2</td>\n",
       "      <td>32</td>\n",
       "      <td>66.0</td>\n",
       "      <td>1378631</td>\n",
       "      <td>7</td>\n",
       "      <td>8</td>\n",
       "      <td>523265</td>\n",
       "      <td>125</td>\n",
       "      <td>850</td>\n",
       "      <td>5</td>\n",
       "    </tr>\n",
       "    <tr>\n",
       "      <th>649</th>\n",
       "      <td>28</td>\n",
       "      <td>4</td>\n",
       "      <td>16</td>\n",
       "      <td>66.0</td>\n",
       "      <td>1449570</td>\n",
       "      <td>7</td>\n",
       "      <td>12</td>\n",
       "      <td>631817</td>\n",
       "      <td>145</td>\n",
       "      <td>480</td>\n",
       "      <td>2</td>\n",
       "    </tr>\n",
       "    <tr>\n",
       "      <th>52145</th>\n",
       "      <td>34</td>\n",
       "      <td>2</td>\n",
       "      <td>20</td>\n",
       "      <td>71.0</td>\n",
       "      <td>1501987</td>\n",
       "      <td>2</td>\n",
       "      <td>13</td>\n",
       "      <td>682032</td>\n",
       "      <td>135</td>\n",
       "      <td>710</td>\n",
       "      <td>5</td>\n",
       "    </tr>\n",
       "  </tbody>\n",
       "</table>\n",
       "</div>"
      ],
      "text/plain": [
       "        age  body_type  category  height  item_id  rented_for  size  user_id  \\\n",
       "32280    29          4        20    65.0   139086           7    12   485296   \n",
       "107143   43          3        20    66.0   134015           2     9   801736   \n",
       "56627    32          2        32    66.0  1378631           7     8   523265   \n",
       "649      28          4        16    66.0  1449570           7    12   631817   \n",
       "52145    34          2        20    71.0  1501987           2    13   682032   \n",
       "\n",
       "        weight  bust_volume  chest_diff  \n",
       "32280      130          310           1  \n",
       "107143     135          710           5  \n",
       "56627      125          850           5  \n",
       "649        145          480           2  \n",
       "52145      135          710           5  "
      ]
     },
     "execution_count": 44,
     "metadata": {},
     "output_type": "execute_result"
    }
   ],
   "source": [
    "X_train_resampled.head()"
   ]
  },
  {
   "cell_type": "code",
   "execution_count": 45,
   "metadata": {},
   "outputs": [
    {
     "data": {
      "text/html": [
       "<div>\n",
       "<style scoped>\n",
       "    .dataframe tbody tr th:only-of-type {\n",
       "        vertical-align: middle;\n",
       "    }\n",
       "\n",
       "    .dataframe tbody tr th {\n",
       "        vertical-align: top;\n",
       "    }\n",
       "\n",
       "    .dataframe thead th {\n",
       "        text-align: right;\n",
       "    }\n",
       "</style>\n",
       "<table border=\"1\" class=\"dataframe\">\n",
       "  <thead>\n",
       "    <tr style=\"text-align: right;\">\n",
       "      <th></th>\n",
       "      <th>age</th>\n",
       "      <th>body_type</th>\n",
       "      <th>category</th>\n",
       "      <th>height</th>\n",
       "      <th>item_id</th>\n",
       "      <th>rented_for</th>\n",
       "      <th>size</th>\n",
       "      <th>user_id</th>\n",
       "      <th>weight</th>\n",
       "      <th>bust_volume</th>\n",
       "      <th>chest_diff</th>\n",
       "    </tr>\n",
       "  </thead>\n",
       "  <tbody>\n",
       "    <tr>\n",
       "      <th>134361</th>\n",
       "      <td>23</td>\n",
       "      <td>3</td>\n",
       "      <td>16</td>\n",
       "      <td>64.0</td>\n",
       "      <td>172914</td>\n",
       "      <td>2</td>\n",
       "      <td>4</td>\n",
       "      <td>121522</td>\n",
       "      <td>105</td>\n",
       "      <td>310</td>\n",
       "      <td>1</td>\n",
       "    </tr>\n",
       "    <tr>\n",
       "      <th>41528</th>\n",
       "      <td>41</td>\n",
       "      <td>5</td>\n",
       "      <td>20</td>\n",
       "      <td>65.0</td>\n",
       "      <td>131533</td>\n",
       "      <td>7</td>\n",
       "      <td>1</td>\n",
       "      <td>155612</td>\n",
       "      <td>110</td>\n",
       "      <td>390</td>\n",
       "      <td>2</td>\n",
       "    </tr>\n",
       "    <tr>\n",
       "      <th>51444</th>\n",
       "      <td>36</td>\n",
       "      <td>6</td>\n",
       "      <td>16</td>\n",
       "      <td>66.0</td>\n",
       "      <td>1954806</td>\n",
       "      <td>2</td>\n",
       "      <td>8</td>\n",
       "      <td>479440</td>\n",
       "      <td>120</td>\n",
       "      <td>310</td>\n",
       "      <td>1</td>\n",
       "    </tr>\n",
       "    <tr>\n",
       "      <th>115931</th>\n",
       "      <td>37</td>\n",
       "      <td>1</td>\n",
       "      <td>16</td>\n",
       "      <td>70.0</td>\n",
       "      <td>130259</td>\n",
       "      <td>4</td>\n",
       "      <td>20</td>\n",
       "      <td>350261</td>\n",
       "      <td>160</td>\n",
       "      <td>480</td>\n",
       "      <td>2</td>\n",
       "    </tr>\n",
       "    <tr>\n",
       "      <th>113468</th>\n",
       "      <td>31</td>\n",
       "      <td>2</td>\n",
       "      <td>16</td>\n",
       "      <td>62.0</td>\n",
       "      <td>1859039</td>\n",
       "      <td>3</td>\n",
       "      <td>20</td>\n",
       "      <td>1856</td>\n",
       "      <td>135</td>\n",
       "      <td>590</td>\n",
       "      <td>4</td>\n",
       "    </tr>\n",
       "  </tbody>\n",
       "</table>\n",
       "</div>"
      ],
      "text/plain": [
       "        age  body_type  category  height  item_id  rented_for  size  user_id  \\\n",
       "134361   23          3        16    64.0   172914           2     4   121522   \n",
       "41528    41          5        20    65.0   131533           7     1   155612   \n",
       "51444    36          6        16    66.0  1954806           2     8   479440   \n",
       "115931   37          1        16    70.0   130259           4    20   350261   \n",
       "113468   31          2        16    62.0  1859039           3    20     1856   \n",
       "\n",
       "        weight  bust_volume  chest_diff  \n",
       "134361     105          310           1  \n",
       "41528      110          390           2  \n",
       "51444      120          310           1  \n",
       "115931     160          480           2  \n",
       "113468     135          590           4  "
      ]
     },
     "execution_count": 45,
     "metadata": {},
     "output_type": "execute_result"
    }
   ],
   "source": [
    "X_test_resampled.head()"
   ]
  },
  {
   "cell_type": "code",
   "execution_count": 46,
   "metadata": {},
   "outputs": [
    {
     "data": {
      "text/plain": [
       "32280     0\n",
       "107143    1\n",
       "56627     0\n",
       "649      -1\n",
       "52145    -1\n",
       "Name: fit, dtype: int64"
      ]
     },
     "execution_count": 46,
     "metadata": {},
     "output_type": "execute_result"
    }
   ],
   "source": [
    "Y_train_resampled.head()"
   ]
  },
  {
   "cell_type": "code",
   "execution_count": 47,
   "metadata": {},
   "outputs": [
    {
     "data": {
      "text/plain": [
       "134361    1\n",
       "41528     0\n",
       "51444     0\n",
       "115931    1\n",
       "113468    0\n",
       "Name: fit, dtype: int64"
      ]
     },
     "execution_count": 47,
     "metadata": {},
     "output_type": "execute_result"
    }
   ],
   "source": [
    "Y_test_resampled.head()"
   ]
  },
  {
   "cell_type": "code",
   "execution_count": 48,
   "metadata": {},
   "outputs": [
    {
     "data": {
      "image/png": "[encoded data removed]",
      "text/plain": [
       "<Figure size 432x288 with 1 Axes>"
      ]
     },
     "metadata": {},
     "output_type": "display_data"
    }
   ],
   "source": [
    "ytr = list(Y_test_resampled)\n",
    "sizes = [len([x for x in ytr if x == 0]), len([x for x in ytr if x == -1]), len([x for x in ytr if x == 1])]\n",
    "labels = [\"Fit\", \"Small\", \"Large\"]\n",
    "import matplotlib.pyplot as plt\n",
    "fig1, ax1 = plt.subplots()\n",
    "ax1.pie(sizes, labels=labels, autopct='%1.1f%%', shadow=True, startangle=90)\n",
    "ax1.axis('equal')\n",
    "plt.show()"
   ]
  },
  {
   "cell_type": "markdown",
   "metadata": {},
   "source": [
    "### Classifier Models on Resampled Data:\n",
    "- Random Forest (10 estimators)\n",
    "- Random Forest (100 estimators)\n",
    "- Gradient Boosting\n",
    "- Neural Network: Multilayer Perceptron"
   ]
  },
  {
   "cell_type": "code",
   "execution_count": 49,
   "metadata": {},
   "outputs": [
    {
     "name": "stdout",
     "output_type": "stream",
     "text": [
      "Random Forest:\n",
      "10 estimators Training Accuracy: 0.9990643274853801\n",
      "10 estimators Test Accuracy: 0.43018715497509086\n",
      "100 estimators Training Accuracy: 1.0\n",
      "100 estimators Test Accuracy: 0.4153314483191957\n",
      "\n",
      "Gradient Boosting:\n",
      "Training Accuracy: 0.5879922027290448\n",
      "Test Accuracy: 0.5606570620708227\n",
      "\n",
      "Neural Network:\n",
      "Training Accuracy: 0.3813868003341688\n",
      "Test Accuracy: 0.3777209281450563\n"
     ]
    }
   ],
   "source": [
    "# Create classifers\n",
    "rf10 = RandomForestClassifier(n_estimators=10)\n",
    "rf = RandomForestClassifier(n_estimators=100)\n",
    "gb = GradientBoostingClassifier()\n",
    "nn = MLPClassifier()\n",
    "\n",
    "# Train Classifers\n",
    "rf10 = rf10.fit(X_train_resampled, Y_train_resampled)\n",
    "rf = rf.fit(X_train_resampled, Y_train_resampled)\n",
    "gb = gb.fit(X_train_resampled, Y_train_resampled)\n",
    "nn = nn.fit(X_train_resampled, Y_train_resampled)\n",
    "\n",
    "#Predict the response for test dataset\n",
    "rf10_y_pred = rf10.predict(X_test_resampled)\n",
    "rf_y_pred = rf.predict(X_test_resampled)\n",
    "gb_y_pred = gb.predict(X_test_resampled)\n",
    "nn_y_pred = nn.predict(X_test_resampled)\n",
    "\n",
    "print(\"Random Forest:\")\n",
    "print(\"10 estimators Training Accuracy:\", metrics.accuracy_score(Y_train_resampled, rf10.predict(X_train_resampled)))\n",
    "print(\"10 estimators Test Accuracy:\",metrics.accuracy_score(Y_test_resampled, rf10_y_pred))\n",
    "print(\"100 estimators Training Accuracy:\", metrics.accuracy_score(Y_train_resampled, rf.predict(X_train_resampled)))\n",
    "print(\"100 estimators Test Accuracy:\",metrics.accuracy_score(Y_test_resampled, rf_y_pred))\n",
    "\n",
    "print(\"\\nGradient Boosting:\")\n",
    "print(\"Training Accuracy:\", metrics.accuracy_score(Y_train_resampled, gb.predict(X_train_resampled)))\n",
    "print(\"Test Accuracy:\",metrics.accuracy_score(Y_test_resampled, gb_y_pred))\n",
    "\n",
    "print(\"\\nNeural Network:\")\n",
    "print(\"Training Accuracy:\", metrics.accuracy_score(Y_train_resampled, nn.predict(X_train_resampled)))\n",
    "print(\"Test Accuracy:\",metrics.accuracy_score(Y_test_resampled, nn_y_pred))"
   ]
  },
  {
   "cell_type": "markdown",
   "metadata": {},
   "source": [
    "On the resample: Even thirds, 33% small, 33% fit, 33% large\n",
    "Gradient Boosting here is 50% more accurate than random guessing"
   ]
  },
  {
   "cell_type": "code",
   "execution_count": 50,
   "metadata": {},
   "outputs": [
    {
     "data": {
      "image/png": "[encoded data removed]",
      "text/plain": [
       "<Figure size 432x288 with 1 Axes>"
      ]
     },
     "metadata": {},
     "output_type": "display_data"
    }
   ],
   "source": [
    "showPie(list(Y_test_resampled), False)"
   ]
  },
  {
   "cell_type": "code",
   "execution_count": 51,
   "metadata": {
    "scrolled": false
   },
   "outputs": [
    {
     "name": "stdout",
     "output_type": "stream",
     "text": [
      "Random Forest (10 estimators):\n"
     ]
    },
    {
     "data": {
      "image/png": "[encoded data removed]",
      "text/plain": [
       "<Figure size 432x288 with 1 Axes>"
      ]
     },
     "metadata": {},
     "output_type": "display_data"
    },
    {
     "name": "stdout",
     "output_type": "stream",
     "text": [
      "Random Forest (100 estimators):\n"
     ]
    },
    {
     "data": {
      "image/png": "[encoded data removed]",
      "text/plain": [
       "<Figure size 432x288 with 1 Axes>"
      ]
     },
     "metadata": {},
     "output_type": "display_data"
    },
    {
     "name": "stdout",
     "output_type": "stream",
     "text": [
      "Gradient Boosting:\n"
     ]
    },
    {
     "data": {
      "image/png": "[encoded data removed]",
      "text/plain": [
       "<Figure size 432x288 with 1 Axes>"
      ]
     },
     "metadata": {},
     "output_type": "display_data"
    },
    {
     "name": "stdout",
     "output_type": "stream",
     "text": [
      "Neural Network:\n"
     ]
    },
    {
     "data": {
      "image/png": "[encoded data removed]",
      "text/plain": [
       "<Figure size 432x288 with 1 Axes>"
      ]
     },
     "metadata": {},
     "output_type": "display_data"
    }
   ],
   "source": [
    "print(\"Random Forest (10 estimators):\")\n",
    "showPie(list(rf10_y_pred), False)\n",
    "print(\"Random Forest (100 estimators):\")\n",
    "showPie(list(rf_y_pred), False)\n",
    "print(\"Gradient Boosting:\")\n",
    "showPie(list(gb_y_pred), False)\n",
    "print(\"Neural Network:\")\n",
    "showPie(list(nn_y_pred), False)"
   ]
  },
  {
   "cell_type": "code",
   "execution_count": 52,
   "metadata": {},
   "outputs": [
    {
     "data": {
      "text/html": [
       "<div>\n",
       "<style scoped>\n",
       "    .dataframe tbody tr th:only-of-type {\n",
       "        vertical-align: middle;\n",
       "    }\n",
       "\n",
       "    .dataframe tbody tr th {\n",
       "        vertical-align: top;\n",
       "    }\n",
       "\n",
       "    .dataframe thead th {\n",
       "        text-align: right;\n",
       "    }\n",
       "</style>\n",
       "<table border=\"1\" class=\"dataframe\">\n",
       "  <thead>\n",
       "    <tr style=\"text-align: right;\">\n",
       "      <th></th>\n",
       "      <th>importance</th>\n",
       "    </tr>\n",
       "  </thead>\n",
       "  <tbody>\n",
       "    <tr>\n",
       "      <th>item_id</th>\n",
       "      <td>0.187546</td>\n",
       "    </tr>\n",
       "    <tr>\n",
       "      <th>user_id</th>\n",
       "      <td>0.162877</td>\n",
       "    </tr>\n",
       "    <tr>\n",
       "      <th>age</th>\n",
       "      <td>0.124101</td>\n",
       "    </tr>\n",
       "    <tr>\n",
       "      <th>size</th>\n",
       "      <td>0.100301</td>\n",
       "    </tr>\n",
       "    <tr>\n",
       "      <th>height</th>\n",
       "      <td>0.092226</td>\n",
       "    </tr>\n",
       "    <tr>\n",
       "      <th>weight</th>\n",
       "      <td>0.086763</td>\n",
       "    </tr>\n",
       "    <tr>\n",
       "      <th>body_type</th>\n",
       "      <td>0.057268</td>\n",
       "    </tr>\n",
       "    <tr>\n",
       "      <th>bust_volume</th>\n",
       "      <td>0.052781</td>\n",
       "    </tr>\n",
       "    <tr>\n",
       "      <th>rented_for</th>\n",
       "      <td>0.050028</td>\n",
       "    </tr>\n",
       "    <tr>\n",
       "      <th>chest_diff</th>\n",
       "      <td>0.048544</td>\n",
       "    </tr>\n",
       "    <tr>\n",
       "      <th>category</th>\n",
       "      <td>0.037565</td>\n",
       "    </tr>\n",
       "  </tbody>\n",
       "</table>\n",
       "</div>"
      ],
      "text/plain": [
       "             importance\n",
       "item_id        0.187546\n",
       "user_id        0.162877\n",
       "age            0.124101\n",
       "size           0.100301\n",
       "height         0.092226\n",
       "weight         0.086763\n",
       "body_type      0.057268\n",
       "bust_volume    0.052781\n",
       "rented_for     0.050028\n",
       "chest_diff     0.048544\n",
       "category       0.037565"
      ]
     },
     "execution_count": 52,
     "metadata": {},
     "output_type": "execute_result"
    }
   ],
   "source": [
    "import numpy as np\n",
    "\n",
    "rfImportances = pd.DataFrame(rf.feature_importances_, index = X_train_resampled.columns, columns =['importance']).sort_values('importance', ascending=False)\n",
    "gbImportances = pd.DataFrame(gb.feature_importances_, index = X_train_resampled.columns, columns =['importance']).sort_values('importance', ascending=False)\n",
    "rfImportances"
   ]
  },
  {
   "cell_type": "code",
   "execution_count": 53,
   "metadata": {
    "scrolled": true
   },
   "outputs": [
    {
     "data": {
      "text/html": [
       "<div>\n",
       "<style scoped>\n",
       "    .dataframe tbody tr th:only-of-type {\n",
       "        vertical-align: middle;\n",
       "    }\n",
       "\n",
       "    .dataframe tbody tr th {\n",
       "        vertical-align: top;\n",
       "    }\n",
       "\n",
       "    .dataframe thead th {\n",
       "        text-align: right;\n",
       "    }\n",
       "</style>\n",
       "<table border=\"1\" class=\"dataframe\">\n",
       "  <thead>\n",
       "    <tr style=\"text-align: right;\">\n",
       "      <th></th>\n",
       "      <th>importance</th>\n",
       "    </tr>\n",
       "  </thead>\n",
       "  <tbody>\n",
       "    <tr>\n",
       "      <th>item_id</th>\n",
       "      <td>0.379676</td>\n",
       "    </tr>\n",
       "    <tr>\n",
       "      <th>size</th>\n",
       "      <td>0.350934</td>\n",
       "    </tr>\n",
       "    <tr>\n",
       "      <th>weight</th>\n",
       "      <td>0.108903</td>\n",
       "    </tr>\n",
       "    <tr>\n",
       "      <th>category</th>\n",
       "      <td>0.088149</td>\n",
       "    </tr>\n",
       "    <tr>\n",
       "      <th>bust_volume</th>\n",
       "      <td>0.019253</td>\n",
       "    </tr>\n",
       "    <tr>\n",
       "      <th>age</th>\n",
       "      <td>0.015333</td>\n",
       "    </tr>\n",
       "    <tr>\n",
       "      <th>user_id</th>\n",
       "      <td>0.010761</td>\n",
       "    </tr>\n",
       "    <tr>\n",
       "      <th>body_type</th>\n",
       "      <td>0.009909</td>\n",
       "    </tr>\n",
       "    <tr>\n",
       "      <th>chest_diff</th>\n",
       "      <td>0.009416</td>\n",
       "    </tr>\n",
       "    <tr>\n",
       "      <th>height</th>\n",
       "      <td>0.005794</td>\n",
       "    </tr>\n",
       "    <tr>\n",
       "      <th>rented_for</th>\n",
       "      <td>0.001871</td>\n",
       "    </tr>\n",
       "  </tbody>\n",
       "</table>\n",
       "</div>"
      ],
      "text/plain": [
       "             importance\n",
       "item_id        0.379676\n",
       "size           0.350934\n",
       "weight         0.108903\n",
       "category       0.088149\n",
       "bust_volume    0.019253\n",
       "age            0.015333\n",
       "user_id        0.010761\n",
       "body_type      0.009909\n",
       "chest_diff     0.009416\n",
       "height         0.005794\n",
       "rented_for     0.001871"
      ]
     },
     "execution_count": 53,
     "metadata": {},
     "output_type": "execute_result"
    }
   ],
   "source": [
    "gbImportances"
   ]
  },
  {
   "cell_type": "markdown",
   "metadata": {},
   "source": [
    "### Create a function that plots the accuracy of different parameter values"
   ]
  },
  {
   "cell_type": "code",
   "execution_count": 54,
   "metadata": {},
   "outputs": [],
   "source": [
    "def plotTunedGb(parameterName, parameters):\n",
    "    train_results = []\n",
    "    test_results = []\n",
    "    \n",
    "    for p in parameters:\n",
    "        if (parameterName == \"Learning Rate\"):\n",
    "            gb = GradientBoostingClassifier(learning_rate=p)\n",
    "        elif (parameterName == \"N Estimators\"):\n",
    "            gb = GradientBoostingClassifier(n_estimators=p)\n",
    "        elif (parameterName == \"Max Depth\"):\n",
    "            gb = GradientBoostingClassifier(max_depth=p)\n",
    "        else:\n",
    "            return\n",
    "        \n",
    "        gb.fit(X_train_resampled, Y_train_resampled)\n",
    "\n",
    "        train_pred = gb.predict(X_train_resampled)\n",
    "        acc = metrics.accuracy_score(Y_train_resampled, train_pred)\n",
    "        train_results.append(acc)\n",
    "\n",
    "        y_pred = gb.predict(X_test_resampled)\n",
    "        acc = metrics.accuracy_score(Y_test_resampled, y_pred)\n",
    "        test_results.append(acc)\n",
    "\n",
    "    from matplotlib.legend_handler import HandlerLine2D\n",
    "\n",
    "    line1, = plt.plot(parameters, train_results, 'b', label=\"Train Accuracy\")\n",
    "    line2, = plt.plot(parameters, test_results, 'r', label=\"Test Accuracy\")\n",
    "\n",
    "    plt.legend(handler_map={line1: HandlerLine2D(numpoints=2)})\n",
    "    plt.title(\"Accuracy vs. \" + parameterName)\n",
    "    plt.ylabel('Accuracy')\n",
    "    plt.xlabel(parameterName)\n",
    "    plt.show()\n",
    "\n",
    "    max_value = max(test_results)\n",
    "    max_index = test_results.index(max_value)\n",
    "    print(\"%s of %4.2f provided the max test accuracy of %4.4f\" % (parameterName, parameters[max_index], max_value))"
   ]
  },
  {
   "cell_type": "code",
   "execution_count": 55,
   "metadata": {},
   "outputs": [
    {
     "data": {
      "image/png": "[encoded data removed]",
      "text/plain": [
       "<Figure size 432x288 with 1 Axes>"
      ]
     },
     "metadata": {
      "needs_background": "light"
     },
     "output_type": "display_data"
    },
    {
     "name": "stdout",
     "output_type": "stream",
     "text": [
      "Learning Rate of 0.50 provided the max test accuracy of 0.5919\n"
     ]
    }
   ],
   "source": [
    "learning_rates = [1, 0.5, 0.25, 0.1, 0.05, 0.01]\n",
    "plotTunedGb(\"Learning Rate\", learning_rates)"
   ]
  },
  {
   "cell_type": "code",
   "execution_count": 56,
   "metadata": {},
   "outputs": [
    {
     "data": {
      "image/png": "[encoded data removed]",
      "text/plain": [
       "<Figure size 432x288 with 1 Axes>"
      ]
     },
     "metadata": {
      "needs_background": "light"
     },
     "output_type": "display_data"
    },
    {
     "name": "stdout",
     "output_type": "stream",
     "text": [
      "N Estimators of 300.00 provided the max test accuracy of 0.5896\n"
     ]
    }
   ],
   "source": [
    "n_estimators = [10, 50, 100, 200, 300]\n",
    "plotTunedGb(\"N Estimators\", n_estimators)"
   ]
  },
  {
   "cell_type": "code",
   "execution_count": null,
   "metadata": {},
   "outputs": [],
   "source": [
    "max_depths = [3, 6, 9, 12, 15]\n",
    "plotTunedGb(\"Max Depth\", max_depths)"
   ]
  },
  {
   "cell_type": "code",
   "execution_count": null,
   "metadata": {},
   "outputs": [],
   "source": [
    "gb = GradientBoostingClassifier(learning_rate=1, n_estimators=300, max_depth=9)\n",
    "gb = gb.fit(X_train_resampled, Y_train_resampled)\n",
    "gb_y_pred = gb.predict(X_test_resampled)\n",
    "print(\"\\nGradient Boosting:\")\n",
    "print(\"Training Accuracy:\", metrics.accuracy_score(Y_train_resampled, gb.predict(X_train_resampled)))\n",
    "print(\"Test Accuracy:\",metrics.accuracy_score(Y_test_resampled, gb_y_pred))"
   ]
  },
  {
   "cell_type": "code",
   "execution_count": null,
   "metadata": {},
   "outputs": [],
   "source": []
  },
  {
   "cell_type": "code",
   "execution_count": null,
   "metadata": {},
   "outputs": [],
   "source": []
  },
  {
   "cell_type": "code",
   "execution_count": null,
   "metadata": {},
   "outputs": [],
   "source": []
  }
 ],
 "metadata": {
  "kernelspec": {
   "display_name": "Python 3",
   "language": "python",
   "name": "python3"
  },
  "language_info": {
   "codemirror_mode": {
    "name": "ipython",
    "version": 3
   },
   "file_extension": ".py",
   "mimetype": "text/x-python",
   "name": "python",
   "nbconvert_exporter": "python",
   "pygments_lexer": "ipython3",
   "version": "3.7.3"
  }
 },
 "nbformat": 4,
 "nbformat_minor": 2
}
