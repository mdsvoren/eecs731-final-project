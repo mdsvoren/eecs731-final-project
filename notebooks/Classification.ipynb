{
 "cells": [
  {
   "cell_type": "markdown",
   "metadata": {},
   "source": [
    "# EECS 731 Final Project - Clothing One\n",
    "## Classification"
   ]
  },
  {
   "cell_type": "code",
   "execution_count": 1,
   "metadata": {},
   "outputs": [],
   "source": [
    "import pandas as pd\n",
    "import pickle\n",
    "import warnings\n",
    "warnings.filterwarnings('ignore')"
   ]
  },
  {
   "cell_type": "code",
   "execution_count": 2,
   "metadata": {},
   "outputs": [],
   "source": [
    "reviews = pickle.load(open(\"../Data/reviews.pkl\", \"rb\" ))\n",
    "rented_for_encoding = pickle.load(open(\"../Data/rented_for_encoding.pkl\", \"rb\"))\n",
    "body_type_encoding = pickle.load(open(\"../Data/body_type_encoding.pkl\", \"rb\"))\n",
    "category_encoding = pickle.load(open(\"../Data/category_encoding.pkl\", \"rb\"))"
   ]
  },
  {
   "cell_type": "markdown",
   "metadata": {},
   "source": [
    "### Display the Dataframes from the Pickles"
   ]
  },
  {
   "cell_type": "code",
   "execution_count": 3,
   "metadata": {
    "scrolled": false
   },
   "outputs": [
    {
     "data": {
      "text/html": [
       "<div>\n",
       "<style scoped>\n",
       "    .dataframe tbody tr th:only-of-type {\n",
       "        vertical-align: middle;\n",
       "    }\n",
       "\n",
       "    .dataframe tbody tr th {\n",
       "        vertical-align: top;\n",
       "    }\n",
       "\n",
       "    .dataframe thead th {\n",
       "        text-align: right;\n",
       "    }\n",
       "</style>\n",
       "<table border=\"1\" class=\"dataframe\">\n",
       "  <thead>\n",
       "    <tr style=\"text-align: right;\">\n",
       "      <th></th>\n",
       "      <th>age</th>\n",
       "      <th>body_type</th>\n",
       "      <th>category</th>\n",
       "      <th>fit</th>\n",
       "      <th>height</th>\n",
       "      <th>item_id</th>\n",
       "      <th>rating</th>\n",
       "      <th>rented_for</th>\n",
       "      <th>review_date</th>\n",
       "      <th>size</th>\n",
       "      <th>user_id</th>\n",
       "      <th>weight</th>\n",
       "      <th>bust_volume</th>\n",
       "      <th>chest_diff</th>\n",
       "    </tr>\n",
       "  </thead>\n",
       "  <tbody>\n",
       "    <tr>\n",
       "      <th>0</th>\n",
       "      <td>28</td>\n",
       "      <td>3</td>\n",
       "      <td>44</td>\n",
       "      <td>fit</td>\n",
       "      <td>68.0</td>\n",
       "      <td>2260466</td>\n",
       "      <td>10</td>\n",
       "      <td>6</td>\n",
       "      <td>2016-04-20</td>\n",
       "      <td>14</td>\n",
       "      <td>420272</td>\n",
       "      <td>137</td>\n",
       "      <td>590</td>\n",
       "      <td>4</td>\n",
       "    </tr>\n",
       "    <tr>\n",
       "      <th>1</th>\n",
       "      <td>36</td>\n",
       "      <td>6</td>\n",
       "      <td>20</td>\n",
       "      <td>fit</td>\n",
       "      <td>66.0</td>\n",
       "      <td>153475</td>\n",
       "      <td>10</td>\n",
       "      <td>3</td>\n",
       "      <td>2013-06-18</td>\n",
       "      <td>12</td>\n",
       "      <td>273551</td>\n",
       "      <td>132</td>\n",
       "      <td>390</td>\n",
       "      <td>2</td>\n",
       "    </tr>\n",
       "    <tr>\n",
       "      <th>2</th>\n",
       "      <td>34</td>\n",
       "      <td>4</td>\n",
       "      <td>16</td>\n",
       "      <td>fit</td>\n",
       "      <td>65.0</td>\n",
       "      <td>126335</td>\n",
       "      <td>8</td>\n",
       "      <td>2</td>\n",
       "      <td>2014-02-12</td>\n",
       "      <td>8</td>\n",
       "      <td>909926</td>\n",
       "      <td>135</td>\n",
       "      <td>480</td>\n",
       "      <td>3</td>\n",
       "    </tr>\n",
       "    <tr>\n",
       "      <th>3</th>\n",
       "      <td>27</td>\n",
       "      <td>1</td>\n",
       "      <td>20</td>\n",
       "      <td>fit</td>\n",
       "      <td>69.0</td>\n",
       "      <td>616682</td>\n",
       "      <td>10</td>\n",
       "      <td>7</td>\n",
       "      <td>2016-09-26</td>\n",
       "      <td>12</td>\n",
       "      <td>151944</td>\n",
       "      <td>145</td>\n",
       "      <td>390</td>\n",
       "      <td>2</td>\n",
       "    </tr>\n",
       "    <tr>\n",
       "      <th>4</th>\n",
       "      <td>45</td>\n",
       "      <td>1</td>\n",
       "      <td>16</td>\n",
       "      <td>fit</td>\n",
       "      <td>68.0</td>\n",
       "      <td>364092</td>\n",
       "      <td>8</td>\n",
       "      <td>0</td>\n",
       "      <td>2016-04-30</td>\n",
       "      <td>8</td>\n",
       "      <td>734848</td>\n",
       "      <td>138</td>\n",
       "      <td>310</td>\n",
       "      <td>2</td>\n",
       "    </tr>\n",
       "  </tbody>\n",
       "</table>\n",
       "</div>"
      ],
      "text/plain": [
       "   age  body_type  category  fit  height  item_id  rating  rented_for  \\\n",
       "0   28          3        44  fit    68.0  2260466      10           6   \n",
       "1   36          6        20  fit    66.0   153475      10           3   \n",
       "2   34          4        16  fit    65.0   126335       8           2   \n",
       "3   27          1        20  fit    69.0   616682      10           7   \n",
       "4   45          1        16  fit    68.0   364092       8           0   \n",
       "\n",
       "  review_date  size  user_id  weight  bust_volume  chest_diff  \n",
       "0  2016-04-20    14   420272     137          590           4  \n",
       "1  2013-06-18    12   273551     132          390           2  \n",
       "2  2014-02-12     8   909926     135          480           3  \n",
       "3  2016-09-26    12   151944     145          390           2  \n",
       "4  2016-04-30     8   734848     138          310           2  "
      ]
     },
     "execution_count": 3,
     "metadata": {},
     "output_type": "execute_result"
    }
   ],
   "source": [
    "reviews.head()"
   ]
  },
  {
   "cell_type": "code",
   "execution_count": 4,
   "metadata": {
    "scrolled": true
   },
   "outputs": [
    {
     "data": {
      "text/html": [
       "<div>\n",
       "<style scoped>\n",
       "    .dataframe tbody tr th:only-of-type {\n",
       "        vertical-align: middle;\n",
       "    }\n",
       "\n",
       "    .dataframe tbody tr th {\n",
       "        vertical-align: top;\n",
       "    }\n",
       "\n",
       "    .dataframe thead th {\n",
       "        text-align: right;\n",
       "    }\n",
       "</style>\n",
       "<table border=\"1\" class=\"dataframe\">\n",
       "  <thead>\n",
       "    <tr style=\"text-align: right;\">\n",
       "      <th></th>\n",
       "      <th>encoding</th>\n",
       "    </tr>\n",
       "    <tr>\n",
       "      <th>labels</th>\n",
       "      <th></th>\n",
       "    </tr>\n",
       "  </thead>\n",
       "  <tbody>\n",
       "    <tr>\n",
       "      <th>date</th>\n",
       "      <td>0</td>\n",
       "    </tr>\n",
       "    <tr>\n",
       "      <th>everyday</th>\n",
       "      <td>1</td>\n",
       "    </tr>\n",
       "    <tr>\n",
       "      <th>formal affair</th>\n",
       "      <td>2</td>\n",
       "    </tr>\n",
       "    <tr>\n",
       "      <th>other</th>\n",
       "      <td>3</td>\n",
       "    </tr>\n",
       "    <tr>\n",
       "      <th>party</th>\n",
       "      <td>4</td>\n",
       "    </tr>\n",
       "  </tbody>\n",
       "</table>\n",
       "</div>"
      ],
      "text/plain": [
       "               encoding\n",
       "labels                 \n",
       "date                  0\n",
       "everyday              1\n",
       "formal affair         2\n",
       "other                 3\n",
       "party                 4"
      ]
     },
     "execution_count": 4,
     "metadata": {},
     "output_type": "execute_result"
    }
   ],
   "source": [
    "rented_for_encoding.head()"
   ]
  },
  {
   "cell_type": "code",
   "execution_count": 5,
   "metadata": {},
   "outputs": [
    {
     "data": {
      "text/html": [
       "<div>\n",
       "<style scoped>\n",
       "    .dataframe tbody tr th:only-of-type {\n",
       "        vertical-align: middle;\n",
       "    }\n",
       "\n",
       "    .dataframe tbody tr th {\n",
       "        vertical-align: top;\n",
       "    }\n",
       "\n",
       "    .dataframe thead th {\n",
       "        text-align: right;\n",
       "    }\n",
       "</style>\n",
       "<table border=\"1\" class=\"dataframe\">\n",
       "  <thead>\n",
       "    <tr style=\"text-align: right;\">\n",
       "      <th></th>\n",
       "      <th>encoding</th>\n",
       "    </tr>\n",
       "    <tr>\n",
       "      <th>labels</th>\n",
       "      <th></th>\n",
       "    </tr>\n",
       "  </thead>\n",
       "  <tbody>\n",
       "    <tr>\n",
       "      <th>apple</th>\n",
       "      <td>0</td>\n",
       "    </tr>\n",
       "    <tr>\n",
       "      <th>athletic</th>\n",
       "      <td>1</td>\n",
       "    </tr>\n",
       "    <tr>\n",
       "      <th>full bust</th>\n",
       "      <td>2</td>\n",
       "    </tr>\n",
       "    <tr>\n",
       "      <th>hourglass</th>\n",
       "      <td>3</td>\n",
       "    </tr>\n",
       "    <tr>\n",
       "      <th>pear</th>\n",
       "      <td>4</td>\n",
       "    </tr>\n",
       "  </tbody>\n",
       "</table>\n",
       "</div>"
      ],
      "text/plain": [
       "           encoding\n",
       "labels             \n",
       "apple             0\n",
       "athletic          1\n",
       "full bust         2\n",
       "hourglass         3\n",
       "pear              4"
      ]
     },
     "execution_count": 5,
     "metadata": {},
     "output_type": "execute_result"
    }
   ],
   "source": [
    "body_type_encoding.head()"
   ]
  },
  {
   "cell_type": "code",
   "execution_count": 6,
   "metadata": {
    "scrolled": true
   },
   "outputs": [
    {
     "data": {
      "text/html": [
       "<div>\n",
       "<style scoped>\n",
       "    .dataframe tbody tr th:only-of-type {\n",
       "        vertical-align: middle;\n",
       "    }\n",
       "\n",
       "    .dataframe tbody tr th {\n",
       "        vertical-align: top;\n",
       "    }\n",
       "\n",
       "    .dataframe thead th {\n",
       "        text-align: right;\n",
       "    }\n",
       "</style>\n",
       "<table border=\"1\" class=\"dataframe\">\n",
       "  <thead>\n",
       "    <tr style=\"text-align: right;\">\n",
       "      <th></th>\n",
       "      <th>encoding</th>\n",
       "    </tr>\n",
       "    <tr>\n",
       "      <th>labels</th>\n",
       "      <th></th>\n",
       "    </tr>\n",
       "  </thead>\n",
       "  <tbody>\n",
       "    <tr>\n",
       "      <th>ballgown</th>\n",
       "      <td>0</td>\n",
       "    </tr>\n",
       "    <tr>\n",
       "      <th>blazer</th>\n",
       "      <td>1</td>\n",
       "    </tr>\n",
       "    <tr>\n",
       "      <th>blouse</th>\n",
       "      <td>2</td>\n",
       "    </tr>\n",
       "    <tr>\n",
       "      <th>blouson</th>\n",
       "      <td>3</td>\n",
       "    </tr>\n",
       "    <tr>\n",
       "      <th>bomber</th>\n",
       "      <td>4</td>\n",
       "    </tr>\n",
       "  </tbody>\n",
       "</table>\n",
       "</div>"
      ],
      "text/plain": [
       "          encoding\n",
       "labels            \n",
       "ballgown         0\n",
       "blazer           1\n",
       "blouse           2\n",
       "blouson          3\n",
       "bomber           4"
      ]
     },
     "execution_count": 6,
     "metadata": {},
     "output_type": "execute_result"
    }
   ],
   "source": [
    "category_encoding.head()"
   ]
  },
  {
   "cell_type": "code",
   "execution_count": 7,
   "metadata": {},
   "outputs": [],
   "source": [
    "#Necessary imports\n",
    "from sklearn.ensemble import RandomForestClassifier #Decision Tree Classifier\n",
    "from sklearn.ensemble import GradientBoostingClassifier\n",
    "from sklearn.model_selection import train_test_split # can split data into test test & train set\n",
    "from sklearn import metrics # Can calculate how accurrate our model is\n",
    "from sklearn import preprocessing\n",
    "from sklearn.neural_network import MLPClassifier"
   ]
  },
  {
   "cell_type": "markdown",
   "metadata": {},
   "source": [
    "### Split the Dataset Into Training and Testing Data"
   ]
  },
  {
   "cell_type": "code",
   "execution_count": 8,
   "metadata": {},
   "outputs": [
    {
     "data": {
      "text/html": [
       "<div>\n",
       "<style scoped>\n",
       "    .dataframe tbody tr th:only-of-type {\n",
       "        vertical-align: middle;\n",
       "    }\n",
       "\n",
       "    .dataframe tbody tr th {\n",
       "        vertical-align: top;\n",
       "    }\n",
       "\n",
       "    .dataframe thead th {\n",
       "        text-align: right;\n",
       "    }\n",
       "</style>\n",
       "<table border=\"1\" class=\"dataframe\">\n",
       "  <thead>\n",
       "    <tr style=\"text-align: right;\">\n",
       "      <th></th>\n",
       "      <th>age</th>\n",
       "      <th>body_type</th>\n",
       "      <th>category</th>\n",
       "      <th>height</th>\n",
       "      <th>item_id</th>\n",
       "      <th>rented_for</th>\n",
       "      <th>size</th>\n",
       "      <th>user_id</th>\n",
       "      <th>weight</th>\n",
       "      <th>bust_volume</th>\n",
       "      <th>chest_diff</th>\n",
       "    </tr>\n",
       "  </thead>\n",
       "  <tbody>\n",
       "    <tr>\n",
       "      <th>84461</th>\n",
       "      <td>32</td>\n",
       "      <td>1</td>\n",
       "      <td>16</td>\n",
       "      <td>66.0</td>\n",
       "      <td>620288</td>\n",
       "      <td>4</td>\n",
       "      <td>8</td>\n",
       "      <td>699477</td>\n",
       "      <td>132</td>\n",
       "      <td>590</td>\n",
       "      <td>4</td>\n",
       "    </tr>\n",
       "    <tr>\n",
       "      <th>76724</th>\n",
       "      <td>30</td>\n",
       "      <td>6</td>\n",
       "      <td>20</td>\n",
       "      <td>64.0</td>\n",
       "      <td>125564</td>\n",
       "      <td>7</td>\n",
       "      <td>4</td>\n",
       "      <td>565624</td>\n",
       "      <td>115</td>\n",
       "      <td>310</td>\n",
       "      <td>2</td>\n",
       "    </tr>\n",
       "    <tr>\n",
       "      <th>52214</th>\n",
       "      <td>23</td>\n",
       "      <td>1</td>\n",
       "      <td>20</td>\n",
       "      <td>65.0</td>\n",
       "      <td>125564</td>\n",
       "      <td>2</td>\n",
       "      <td>12</td>\n",
       "      <td>903377</td>\n",
       "      <td>140</td>\n",
       "      <td>480</td>\n",
       "      <td>3</td>\n",
       "    </tr>\n",
       "    <tr>\n",
       "      <th>113062</th>\n",
       "      <td>23</td>\n",
       "      <td>2</td>\n",
       "      <td>45</td>\n",
       "      <td>61.0</td>\n",
       "      <td>963476</td>\n",
       "      <td>4</td>\n",
       "      <td>1</td>\n",
       "      <td>256614</td>\n",
       "      <td>120</td>\n",
       "      <td>590</td>\n",
       "      <td>6</td>\n",
       "    </tr>\n",
       "    <tr>\n",
       "      <th>85702</th>\n",
       "      <td>29</td>\n",
       "      <td>1</td>\n",
       "      <td>53</td>\n",
       "      <td>70.0</td>\n",
       "      <td>2007354</td>\n",
       "      <td>1</td>\n",
       "      <td>8</td>\n",
       "      <td>550942</td>\n",
       "      <td>135</td>\n",
       "      <td>480</td>\n",
       "      <td>3</td>\n",
       "    </tr>\n",
       "  </tbody>\n",
       "</table>\n",
       "</div>"
      ],
      "text/plain": [
       "        age  body_type  category  height  item_id  rented_for  size  user_id  \\\n",
       "84461    32          1        16    66.0   620288           4     8   699477   \n",
       "76724    30          6        20    64.0   125564           7     4   565624   \n",
       "52214    23          1        20    65.0   125564           2    12   903377   \n",
       "113062   23          2        45    61.0   963476           4     1   256614   \n",
       "85702    29          1        53    70.0  2007354           1     8   550942   \n",
       "\n",
       "        weight  bust_volume  chest_diff  \n",
       "84461      132          590           4  \n",
       "76724      115          310           2  \n",
       "52214      140          480           3  \n",
       "113062     120          590           6  \n",
       "85702      135          480           3  "
      ]
     },
     "execution_count": 8,
     "metadata": {},
     "output_type": "execute_result"
    }
   ],
   "source": [
    "# Remove fit, the target variable, and features that\n",
    "# are only received after the item has been bought.\n",
    "X = reviews.drop(['fit', 'rating', 'review_date'], axis=1)\n",
    "Y = reviews['fit']\n",
    "\n",
    "X_train, X_test, Y_train, Y_test = train_test_split(X, Y, test_size=0.2, random_state=1)\n",
    "X_train.head()"
   ]
  },
  {
   "cell_type": "markdown",
   "metadata": {},
   "source": [
    "### Classifier Models:\n",
    "- Random Forest (10 estimators)\n",
    "- Random Forest (100 estimators)\n",
    "- Gradient Boosting\n",
    "- Neural Network: Multilayer Perceptron"
   ]
  },
  {
   "cell_type": "code",
   "execution_count": 9,
   "metadata": {},
   "outputs": [
    {
     "name": "stdout",
     "output_type": "stream",
     "text": [
      "Random Forest:\n",
      "10 estimators Training Accuracy: 0.9726397048777156\n",
      "10 estimators Test Accuracy: 0.7156470949892407\n",
      "100 estimators Training Accuracy: 0.9999402240743271\n",
      "100 estimators Test Accuracy: 0.7314957133586092\n",
      "\n",
      "Gradient Boosting:\n",
      "Training Accuracy: 0.7371225577264654\n",
      "Test Accuracy: 0.7357652764969088\n",
      "\n",
      "Neural Network:\n",
      "Training Accuracy: 0.7360892881541194\n",
      "Test Accuracy: 0.7355261809611641\n"
     ]
    }
   ],
   "source": [
    "# # Create classifers\n",
    "rf10 = RandomForestClassifier(n_estimators=10, n_jobs=-1)\n",
    "rf = RandomForestClassifier(n_estimators=100, n_jobs=-1)\n",
    "gb = GradientBoostingClassifier(random_state=1, learning_rate=.1)\n",
    "nn = MLPClassifier()\n",
    "\n",
    "# Train Classifers\n",
    "rf10 = rf10.fit(X_train, Y_train)\n",
    "rf = rf.fit(X_train, Y_train)\n",
    "gb = gb.fit(X_train, Y_train)\n",
    "nn = nn.fit(X_train, Y_train)\n",
    "\n",
    "#Predict the response for test dataset\n",
    "rf10_y_pred = rf10.predict(X_test)\n",
    "rf_y_pred = rf.predict(X_test)\n",
    "gb_y_pred = gb.predict(X_test)\n",
    "nn_y_pred = nn.predict(X_test)\n",
    "\n",
    "print(\"Random Forest:\")\n",
    "print(\"10 estimators Training Accuracy:\", metrics.accuracy_score(Y_train, rf10.predict(X_train)))\n",
    "print(\"10 estimators Test Accuracy:\",metrics.accuracy_score(Y_test, rf10_y_pred))\n",
    "print(\"100 estimators Training Accuracy:\", metrics.accuracy_score(Y_train, rf.predict(X_train)))\n",
    "print(\"100 estimators Test Accuracy:\",metrics.accuracy_score(Y_test, rf_y_pred))\n",
    "\n",
    "print(\"\\nGradient Boosting:\")\n",
    "print(\"Training Accuracy:\", metrics.accuracy_score(Y_train, gb.predict(X_train)))\n",
    "print(\"Test Accuracy:\",metrics.accuracy_score(Y_test, gb_y_pred))\n",
    "\n",
    "print(\"\\nNeural Network:\")\n",
    "print(\"Training Accuracy:\", metrics.accuracy_score(Y_train, nn.predict(X_train)))\n",
    "print(\"Test Accuracy:\",metrics.accuracy_score(Y_test, nn_y_pred))"
   ]
  },
  {
   "cell_type": "markdown",
   "metadata": {},
   "source": [
    "What % of users rate the fit of the product as \"fit\" to see if either model gave us additional information"
   ]
  },
  {
   "cell_type": "code",
   "execution_count": 10,
   "metadata": {},
   "outputs": [],
   "source": [
    "import matplotlib.pyplot as plt\n",
    "\n",
    "def showPie(data, words):\n",
    "    if words:\n",
    "        sizes = [len([x for x in data if x == \"fit\"]), len([x for x in data if x == \"small\"]), len([x for x in data if x == \"large\"])]\n",
    "    else:\n",
    "        sizes = [len([x for x in data if x == 0]), len([x for x in data if x == -1]), len([x for x in data if x == 1])]\n",
    "    labels = [\"Fit\", \"Small\", \"Large\"]\n",
    "    fig1, ax1 = plt.subplots()\n",
    "    ax1.pie(sizes, labels=labels, autopct='%4.2f%%', shadow=True, startangle=90)\n",
    "    ax1.axis('equal')\n",
    "    plt.show()"
   ]
  },
  {
   "cell_type": "code",
   "execution_count": 11,
   "metadata": {
    "scrolled": false
   },
   "outputs": [
    {
     "name": "stdout",
     "output_type": "stream",
     "text": [
      "Fit   %: 0.7359766636380405\n",
      "Small %: 0.1340474515135161\n",
      "Large %: 0.12997588484844344\n"
     ]
    },
    {
     "data": {
      "image/png": "[encoded data removed]",
      "text/plain": [
       "<Figure size 432x288 with 1 Axes>"
      ]
     },
     "metadata": {},
     "output_type": "display_data"
    }
   ],
   "source": [
    "print(\"Fit   %:\", ((reviews[reviews.fit == 'fit'].shape[0]) / (len(reviews.index))))\n",
    "print(\"Small %:\", ((reviews[reviews.fit == 'small'].shape[0]) / (len(reviews.index))))\n",
    "print(\"Large %:\", ((reviews[reviews.fit == 'large'].shape[0]) / (len(reviews.index))))\n",
    "\n",
    "showPie(list(reviews[\"fit\"]), True)"
   ]
  },
  {
   "cell_type": "code",
   "execution_count": 12,
   "metadata": {},
   "outputs": [
    {
     "data": {
      "image/png": "[encoded data removed]",
      "text/plain": [
       "<Figure size 432x288 with 1 Axes>"
      ]
     },
     "metadata": {},
     "output_type": "display_data"
    }
   ],
   "source": [
    "showPie(list(Y_test), True)"
   ]
  },
  {
   "cell_type": "code",
   "execution_count": 13,
   "metadata": {},
   "outputs": [
    {
     "name": "stdout",
     "output_type": "stream",
     "text": [
      "Random Forest (10 estimators):\n"
     ]
    },
    {
     "data": {
      "image/png": "[encoded data removed]",
      "text/plain": [
       "<Figure size 432x288 with 1 Axes>"
      ]
     },
     "metadata": {},
     "output_type": "display_data"
    },
    {
     "name": "stdout",
     "output_type": "stream",
     "text": [
      "Random Forest (100 estimators):\n"
     ]
    },
    {
     "data": {
      "image/png": "[encoded data removed]",
      "text/plain": [
       "<Figure size 432x288 with 1 Axes>"
      ]
     },
     "metadata": {},
     "output_type": "display_data"
    },
    {
     "name": "stdout",
     "output_type": "stream",
     "text": [
      "Gradient Boosting:\n"
     ]
    },
    {
     "data": {
      "image/png": "[encoded data removed]",
      "text/plain": [
       "<Figure size 432x288 with 1 Axes>"
      ]
     },
     "metadata": {},
     "output_type": "display_data"
    },
    {
     "name": "stdout",
     "output_type": "stream",
     "text": [
      "Neural Network:\n"
     ]
    },
    {
     "data": {
      "image/png": "[encoded data removed]",
      "text/plain": [
       "<Figure size 432x288 with 1 Axes>"
      ]
     },
     "metadata": {},
     "output_type": "display_data"
    }
   ],
   "source": [
    "print(\"Random Forest (10 estimators):\")\n",
    "showPie(list(rf10_y_pred), True)\n",
    "print(\"Random Forest (100 estimators):\")\n",
    "showPie(list(rf_y_pred), True)\n",
    "print(\"Gradient Boosting:\")\n",
    "showPie(list(gb_y_pred), True)\n",
    "print(\"Neural Network:\")\n",
    "showPie(list(nn_y_pred), True)"
   ]
  },
  {
   "cell_type": "markdown",
   "metadata": {},
   "source": [
    "More information is gained simply by guessing \"fit\" on every item, so these models provide us no additional information."
   ]
  },
  {
   "cell_type": "code",
   "execution_count": 14,
   "metadata": {},
   "outputs": [
    {
     "data": {
      "text/html": [
       "<div>\n",
       "<style scoped>\n",
       "    .dataframe tbody tr th:only-of-type {\n",
       "        vertical-align: middle;\n",
       "    }\n",
       "\n",
       "    .dataframe tbody tr th {\n",
       "        vertical-align: top;\n",
       "    }\n",
       "\n",
       "    .dataframe thead th {\n",
       "        text-align: right;\n",
       "    }\n",
       "</style>\n",
       "<table border=\"1\" class=\"dataframe\">\n",
       "  <thead>\n",
       "    <tr style=\"text-align: right;\">\n",
       "      <th></th>\n",
       "      <th>importance</th>\n",
       "    </tr>\n",
       "  </thead>\n",
       "  <tbody>\n",
       "    <tr>\n",
       "      <th>item_id</th>\n",
       "      <td>0.201525</td>\n",
       "    </tr>\n",
       "    <tr>\n",
       "      <th>user_id</th>\n",
       "      <td>0.173966</td>\n",
       "    </tr>\n",
       "    <tr>\n",
       "      <th>age</th>\n",
       "      <td>0.121838</td>\n",
       "    </tr>\n",
       "    <tr>\n",
       "      <th>weight</th>\n",
       "      <td>0.103178</td>\n",
       "    </tr>\n",
       "    <tr>\n",
       "      <th>height</th>\n",
       "      <td>0.091642</td>\n",
       "    </tr>\n",
       "    <tr>\n",
       "      <th>rented_for</th>\n",
       "      <td>0.058593</td>\n",
       "    </tr>\n",
       "    <tr>\n",
       "      <th>size</th>\n",
       "      <td>0.054486</td>\n",
       "    </tr>\n",
       "    <tr>\n",
       "      <th>body_type</th>\n",
       "      <td>0.052742</td>\n",
       "    </tr>\n",
       "    <tr>\n",
       "      <th>bust_volume</th>\n",
       "      <td>0.051432</td>\n",
       "    </tr>\n",
       "    <tr>\n",
       "      <th>chest_diff</th>\n",
       "      <td>0.050890</td>\n",
       "    </tr>\n",
       "    <tr>\n",
       "      <th>category</th>\n",
       "      <td>0.039707</td>\n",
       "    </tr>\n",
       "  </tbody>\n",
       "</table>\n",
       "</div>"
      ],
      "text/plain": [
       "             importance\n",
       "item_id        0.201525\n",
       "user_id        0.173966\n",
       "age            0.121838\n",
       "weight         0.103178\n",
       "height         0.091642\n",
       "rented_for     0.058593\n",
       "size           0.054486\n",
       "body_type      0.052742\n",
       "bust_volume    0.051432\n",
       "chest_diff     0.050890\n",
       "category       0.039707"
      ]
     },
     "execution_count": 14,
     "metadata": {},
     "output_type": "execute_result"
    }
   ],
   "source": [
    "# import numpy as np\n",
    "rfImportances = pd.DataFrame(rf.feature_importances_, index = X_train.columns, columns =['importance']).sort_values('importance', ascending=False)\n",
    "gbImportances = pd.DataFrame(gb.feature_importances_, index = X_train.columns, columns =['importance']).sort_values('importance', ascending=False)\n",
    "rfImportances"
   ]
  },
  {
   "cell_type": "code",
   "execution_count": 15,
   "metadata": {
    "scrolled": true
   },
   "outputs": [
    {
     "data": {
      "text/html": [
       "<div>\n",
       "<style scoped>\n",
       "    .dataframe tbody tr th:only-of-type {\n",
       "        vertical-align: middle;\n",
       "    }\n",
       "\n",
       "    .dataframe tbody tr th {\n",
       "        vertical-align: top;\n",
       "    }\n",
       "\n",
       "    .dataframe thead th {\n",
       "        text-align: right;\n",
       "    }\n",
       "</style>\n",
       "<table border=\"1\" class=\"dataframe\">\n",
       "  <thead>\n",
       "    <tr style=\"text-align: right;\">\n",
       "      <th></th>\n",
       "      <th>importance</th>\n",
       "    </tr>\n",
       "  </thead>\n",
       "  <tbody>\n",
       "    <tr>\n",
       "      <th>size</th>\n",
       "      <td>0.321014</td>\n",
       "    </tr>\n",
       "    <tr>\n",
       "      <th>item_id</th>\n",
       "      <td>0.218016</td>\n",
       "    </tr>\n",
       "    <tr>\n",
       "      <th>weight</th>\n",
       "      <td>0.205683</td>\n",
       "    </tr>\n",
       "    <tr>\n",
       "      <th>category</th>\n",
       "      <td>0.125788</td>\n",
       "    </tr>\n",
       "    <tr>\n",
       "      <th>rented_for</th>\n",
       "      <td>0.047647</td>\n",
       "    </tr>\n",
       "    <tr>\n",
       "      <th>age</th>\n",
       "      <td>0.022415</td>\n",
       "    </tr>\n",
       "    <tr>\n",
       "      <th>bust_volume</th>\n",
       "      <td>0.018113</td>\n",
       "    </tr>\n",
       "    <tr>\n",
       "      <th>body_type</th>\n",
       "      <td>0.017964</td>\n",
       "    </tr>\n",
       "    <tr>\n",
       "      <th>height</th>\n",
       "      <td>0.011069</td>\n",
       "    </tr>\n",
       "    <tr>\n",
       "      <th>user_id</th>\n",
       "      <td>0.009415</td>\n",
       "    </tr>\n",
       "    <tr>\n",
       "      <th>chest_diff</th>\n",
       "      <td>0.002876</td>\n",
       "    </tr>\n",
       "  </tbody>\n",
       "</table>\n",
       "</div>"
      ],
      "text/plain": [
       "             importance\n",
       "size           0.321014\n",
       "item_id        0.218016\n",
       "weight         0.205683\n",
       "category       0.125788\n",
       "rented_for     0.047647\n",
       "age            0.022415\n",
       "bust_volume    0.018113\n",
       "body_type      0.017964\n",
       "height         0.011069\n",
       "user_id        0.009415\n",
       "chest_diff     0.002876"
      ]
     },
     "execution_count": 15,
     "metadata": {},
     "output_type": "execute_result"
    }
   ],
   "source": [
    "gbImportances"
   ]
  },
  {
   "cell_type": "code",
   "execution_count": 16,
   "metadata": {},
   "outputs": [],
   "source": [
    "from sklearn.utils import resample\n",
    "def resample_data(df):\n",
    "    # Separate majority and minority classes\n",
    "    df_majority = df[df.fit=='fit']\n",
    "    df_minority_1 = df[df.fit=='small']\n",
    "    df_minority_2 = df[df.fit=='large']\n",
    "\n",
    "    size = df_majority.shape[0]\n",
    "    \n",
    "    # Upsample minority class\n",
    "    df_minority_1_upsampled = resample(df_minority_1, \n",
    "                                     replace=True,     # sample with replacement\n",
    "                                     n_samples=size,    # to match majority class\n",
    "                                     random_state=123) # reproducible results\n",
    "    \n",
    "    df_minority_2_upsampled = resample(df_minority_2, \n",
    "                                     replace=True,     # sample with replacement\n",
    "                                     n_samples=size,    # to match majority class\n",
    "                                     random_state=123) # reproducible results\n",
    "    # # Combine majority class with upsampled minority class\n",
    "    df_upsampled = pd.concat([df_majority, df_minority_1_upsampled, df_minority_2_upsampled]).sample(frac=1)\n",
    "\n",
    "    return df_upsampled"
   ]
  },
  {
   "cell_type": "code",
   "execution_count": 17,
   "metadata": {},
   "outputs": [],
   "source": [
    "X_train['fit'] = Y_train.values\n",
    "X_test['fit'] = Y_test.values"
   ]
  },
  {
   "cell_type": "code",
   "execution_count": 18,
   "metadata": {},
   "outputs": [],
   "source": [
    "X_train_resampled = resample_data(X_train)\n",
    "X_test_resampled = resample_data(X_test)"
   ]
  },
  {
   "cell_type": "code",
   "execution_count": 19,
   "metadata": {},
   "outputs": [],
   "source": [
    "Y_train_resampled = X_train_resampled['fit']\n",
    "Y_test_resampled = X_test_resampled['fit']\n",
    "X_train_resampled = X_train_resampled.drop(['fit'],axis = 1)\n",
    "X_test_resampled = X_test_resampled.drop(['fit'], axis = 1)"
   ]
  },
  {
   "cell_type": "code",
   "execution_count": 20,
   "metadata": {},
   "outputs": [],
   "source": [
    "def fit_to_int(x):\n",
    "    if x == 'fit':\n",
    "        return 0\n",
    "    elif x == 'large':\n",
    "        return 1\n",
    "    return -1\n",
    "Y_train_resampled = Y_train_resampled.map(fit_to_int)\n",
    "Y_test_resampled = Y_test_resampled.map(fit_to_int)"
   ]
  },
  {
   "cell_type": "markdown",
   "metadata": {},
   "source": [
    "### Display the Resampled Data"
   ]
  },
  {
   "cell_type": "code",
   "execution_count": 21,
   "metadata": {},
   "outputs": [
    {
     "data": {
      "text/html": [
       "<div>\n",
       "<style scoped>\n",
       "    .dataframe tbody tr th:only-of-type {\n",
       "        vertical-align: middle;\n",
       "    }\n",
       "\n",
       "    .dataframe tbody tr th {\n",
       "        vertical-align: top;\n",
       "    }\n",
       "\n",
       "    .dataframe thead th {\n",
       "        text-align: right;\n",
       "    }\n",
       "</style>\n",
       "<table border=\"1\" class=\"dataframe\">\n",
       "  <thead>\n",
       "    <tr style=\"text-align: right;\">\n",
       "      <th></th>\n",
       "      <th>age</th>\n",
       "      <th>body_type</th>\n",
       "      <th>category</th>\n",
       "      <th>height</th>\n",
       "      <th>item_id</th>\n",
       "      <th>rented_for</th>\n",
       "      <th>size</th>\n",
       "      <th>user_id</th>\n",
       "      <th>weight</th>\n",
       "      <th>bust_volume</th>\n",
       "      <th>chest_diff</th>\n",
       "    </tr>\n",
       "  </thead>\n",
       "  <tbody>\n",
       "    <tr>\n",
       "      <th>117637</th>\n",
       "      <td>41</td>\n",
       "      <td>5</td>\n",
       "      <td>16</td>\n",
       "      <td>62.0</td>\n",
       "      <td>148089</td>\n",
       "      <td>3</td>\n",
       "      <td>12</td>\n",
       "      <td>488486</td>\n",
       "      <td>125</td>\n",
       "      <td>390</td>\n",
       "      <td>2</td>\n",
       "    </tr>\n",
       "    <tr>\n",
       "      <th>105808</th>\n",
       "      <td>37</td>\n",
       "      <td>4</td>\n",
       "      <td>16</td>\n",
       "      <td>67.0</td>\n",
       "      <td>1325648</td>\n",
       "      <td>7</td>\n",
       "      <td>20</td>\n",
       "      <td>312726</td>\n",
       "      <td>170</td>\n",
       "      <td>390</td>\n",
       "      <td>1</td>\n",
       "    </tr>\n",
       "    <tr>\n",
       "      <th>25028</th>\n",
       "      <td>56</td>\n",
       "      <td>4</td>\n",
       "      <td>16</td>\n",
       "      <td>65.0</td>\n",
       "      <td>1514308</td>\n",
       "      <td>1</td>\n",
       "      <td>14</td>\n",
       "      <td>205559</td>\n",
       "      <td>150</td>\n",
       "      <td>480</td>\n",
       "      <td>2</td>\n",
       "    </tr>\n",
       "    <tr>\n",
       "      <th>66306</th>\n",
       "      <td>41</td>\n",
       "      <td>3</td>\n",
       "      <td>20</td>\n",
       "      <td>66.0</td>\n",
       "      <td>166006</td>\n",
       "      <td>2</td>\n",
       "      <td>16</td>\n",
       "      <td>925737</td>\n",
       "      <td>140</td>\n",
       "      <td>590</td>\n",
       "      <td>3</td>\n",
       "    </tr>\n",
       "    <tr>\n",
       "      <th>73584</th>\n",
       "      <td>34</td>\n",
       "      <td>1</td>\n",
       "      <td>44</td>\n",
       "      <td>63.0</td>\n",
       "      <td>2707303</td>\n",
       "      <td>4</td>\n",
       "      <td>8</td>\n",
       "      <td>499423</td>\n",
       "      <td>130</td>\n",
       "      <td>390</td>\n",
       "      <td>3</td>\n",
       "    </tr>\n",
       "  </tbody>\n",
       "</table>\n",
       "</div>"
      ],
      "text/plain": [
       "        age  body_type  category  height  item_id  rented_for  size  user_id  \\\n",
       "117637   41          5        16    62.0   148089           3    12   488486   \n",
       "105808   37          4        16    67.0  1325648           7    20   312726   \n",
       "25028    56          4        16    65.0  1514308           1    14   205559   \n",
       "66306    41          3        20    66.0   166006           2    16   925737   \n",
       "73584    34          1        44    63.0  2707303           4     8   499423   \n",
       "\n",
       "        weight  bust_volume  chest_diff  \n",
       "117637     125          390           2  \n",
       "105808     170          390           1  \n",
       "25028      150          480           2  \n",
       "66306      140          590           3  \n",
       "73584      130          390           3  "
      ]
     },
     "execution_count": 21,
     "metadata": {},
     "output_type": "execute_result"
    }
   ],
   "source": [
    "X_train_resampled.head()"
   ]
  },
  {
   "cell_type": "code",
   "execution_count": 22,
   "metadata": {},
   "outputs": [
    {
     "data": {
      "text/html": [
       "<div>\n",
       "<style scoped>\n",
       "    .dataframe tbody tr th:only-of-type {\n",
       "        vertical-align: middle;\n",
       "    }\n",
       "\n",
       "    .dataframe tbody tr th {\n",
       "        vertical-align: top;\n",
       "    }\n",
       "\n",
       "    .dataframe thead th {\n",
       "        text-align: right;\n",
       "    }\n",
       "</style>\n",
       "<table border=\"1\" class=\"dataframe\">\n",
       "  <thead>\n",
       "    <tr style=\"text-align: right;\">\n",
       "      <th></th>\n",
       "      <th>age</th>\n",
       "      <th>body_type</th>\n",
       "      <th>category</th>\n",
       "      <th>height</th>\n",
       "      <th>item_id</th>\n",
       "      <th>rented_for</th>\n",
       "      <th>size</th>\n",
       "      <th>user_id</th>\n",
       "      <th>weight</th>\n",
       "      <th>bust_volume</th>\n",
       "      <th>chest_diff</th>\n",
       "    </tr>\n",
       "  </thead>\n",
       "  <tbody>\n",
       "    <tr>\n",
       "      <th>59805</th>\n",
       "      <td>30</td>\n",
       "      <td>3</td>\n",
       "      <td>16</td>\n",
       "      <td>68.0</td>\n",
       "      <td>1784020</td>\n",
       "      <td>3</td>\n",
       "      <td>20</td>\n",
       "      <td>215471</td>\n",
       "      <td>153</td>\n",
       "      <td>480</td>\n",
       "      <td>3</td>\n",
       "    </tr>\n",
       "    <tr>\n",
       "      <th>59549</th>\n",
       "      <td>26</td>\n",
       "      <td>3</td>\n",
       "      <td>20</td>\n",
       "      <td>66.0</td>\n",
       "      <td>466944</td>\n",
       "      <td>7</td>\n",
       "      <td>8</td>\n",
       "      <td>373117</td>\n",
       "      <td>145</td>\n",
       "      <td>710</td>\n",
       "      <td>5</td>\n",
       "    </tr>\n",
       "    <tr>\n",
       "      <th>132225</th>\n",
       "      <td>47</td>\n",
       "      <td>1</td>\n",
       "      <td>45</td>\n",
       "      <td>64.0</td>\n",
       "      <td>1200223</td>\n",
       "      <td>7</td>\n",
       "      <td>16</td>\n",
       "      <td>112760</td>\n",
       "      <td>123</td>\n",
       "      <td>310</td>\n",
       "      <td>1</td>\n",
       "    </tr>\n",
       "    <tr>\n",
       "      <th>94249</th>\n",
       "      <td>38</td>\n",
       "      <td>4</td>\n",
       "      <td>16</td>\n",
       "      <td>61.0</td>\n",
       "      <td>1656325</td>\n",
       "      <td>4</td>\n",
       "      <td>4</td>\n",
       "      <td>483420</td>\n",
       "      <td>96</td>\n",
       "      <td>390</td>\n",
       "      <td>2</td>\n",
       "    </tr>\n",
       "    <tr>\n",
       "      <th>71056</th>\n",
       "      <td>29</td>\n",
       "      <td>1</td>\n",
       "      <td>20</td>\n",
       "      <td>66.0</td>\n",
       "      <td>1064397</td>\n",
       "      <td>2</td>\n",
       "      <td>1</td>\n",
       "      <td>979788</td>\n",
       "      <td>125</td>\n",
       "      <td>310</td>\n",
       "      <td>1</td>\n",
       "    </tr>\n",
       "  </tbody>\n",
       "</table>\n",
       "</div>"
      ],
      "text/plain": [
       "        age  body_type  category  height  item_id  rented_for  size  user_id  \\\n",
       "59805    30          3        16    68.0  1784020           3    20   215471   \n",
       "59549    26          3        20    66.0   466944           7     8   373117   \n",
       "132225   47          1        45    64.0  1200223           7    16   112760   \n",
       "94249    38          4        16    61.0  1656325           4     4   483420   \n",
       "71056    29          1        20    66.0  1064397           2     1   979788   \n",
       "\n",
       "        weight  bust_volume  chest_diff  \n",
       "59805      153          480           3  \n",
       "59549      145          710           5  \n",
       "132225     123          310           1  \n",
       "94249       96          390           2  \n",
       "71056      125          310           1  "
      ]
     },
     "execution_count": 22,
     "metadata": {},
     "output_type": "execute_result"
    }
   ],
   "source": [
    "X_test_resampled.head()"
   ]
  },
  {
   "cell_type": "code",
   "execution_count": 23,
   "metadata": {},
   "outputs": [
    {
     "data": {
      "text/plain": [
       "117637    0\n",
       "105808   -1\n",
       "25028     1\n",
       "66306     0\n",
       "73584    -1\n",
       "Name: fit, dtype: int64"
      ]
     },
     "execution_count": 23,
     "metadata": {},
     "output_type": "execute_result"
    }
   ],
   "source": [
    "Y_train_resampled.head()"
   ]
  },
  {
   "cell_type": "code",
   "execution_count": 24,
   "metadata": {},
   "outputs": [
    {
     "data": {
      "text/plain": [
       "59805    -1\n",
       "59549     0\n",
       "132225   -1\n",
       "94249     0\n",
       "71056     0\n",
       "Name: fit, dtype: int64"
      ]
     },
     "execution_count": 24,
     "metadata": {},
     "output_type": "execute_result"
    }
   ],
   "source": [
    "Y_test_resampled.head()"
   ]
  },
  {
   "cell_type": "markdown",
   "metadata": {},
   "source": [
    "### Classifier Models on Resampled Data:\n",
    "- Random Forest (10 estimators)\n",
    "- Random Forest (100 estimators)\n",
    "- Gradient Boosting\n",
    "- Neural Network: Multilayer Perceptron"
   ]
  },
  {
   "cell_type": "code",
   "execution_count": 25,
   "metadata": {},
   "outputs": [
    {
     "name": "stdout",
     "output_type": "stream",
     "text": [
      "Random Forest:\n",
      "10 estimators Training Accuracy: 0.9984222554786019\n",
      "10 estimators Test Accuracy: 0.40116405064858673\n",
      "100 estimators Training Accuracy: 0.9999690638329137\n",
      "100 estimators Test Accuracy: 0.3835175381567134\n",
      "\n",
      "Gradient Boosting:\n",
      "Training Accuracy: 0.5084861773338438\n",
      "Test Accuracy: 0.503715055261447\n",
      "\n",
      "Neural Network:\n",
      "Training Accuracy: 0.3333333333333333\n",
      "Test Accuracy: 0.3333333333333333\n"
     ]
    }
   ],
   "source": [
    "# Create classifers\n",
    "rf10 = RandomForestClassifier(n_estimators=10, n_jobs=-1)\n",
    "rf = RandomForestClassifier(n_estimators=100, n_jobs=-1)\n",
    "gb = GradientBoostingClassifier()\n",
    "nn = MLPClassifier()\n",
    "\n",
    "# Train Classifers\n",
    "rf10 = rf10.fit(X_train_resampled, Y_train_resampled)\n",
    "rf = rf.fit(X_train_resampled, Y_train_resampled)\n",
    "gb = gb.fit(X_train_resampled, Y_train_resampled)\n",
    "nn = nn.fit(X_train_resampled, Y_train_resampled)\n",
    "\n",
    "#Predict the response for test dataset\n",
    "rf10_y_pred = rf10.predict(X_test_resampled)\n",
    "rf_y_pred = rf.predict(X_test_resampled)\n",
    "gb_y_pred = gb.predict(X_test_resampled)\n",
    "nn_y_pred = nn.predict(X_test_resampled)\n",
    "\n",
    "print(\"Random Forest:\")\n",
    "print(\"10 estimators Training Accuracy:\", metrics.accuracy_score(Y_train_resampled, rf10.predict(X_train_resampled)))\n",
    "print(\"10 estimators Test Accuracy:\",metrics.accuracy_score(Y_test_resampled, rf10_y_pred))\n",
    "print(\"100 estimators Training Accuracy:\", metrics.accuracy_score(Y_train_resampled, rf.predict(X_train_resampled)))\n",
    "print(\"100 estimators Test Accuracy:\",metrics.accuracy_score(Y_test_resampled, rf_y_pred))\n",
    "\n",
    "print(\"\\nGradient Boosting:\")\n",
    "print(\"Training Accuracy:\", metrics.accuracy_score(Y_train_resampled, gb.predict(X_train_resampled)))\n",
    "print(\"Test Accuracy:\",metrics.accuracy_score(Y_test_resampled, gb_y_pred))\n",
    "\n",
    "print(\"\\nNeural Network:\")\n",
    "print(\"Training Accuracy:\", metrics.accuracy_score(Y_train_resampled, nn.predict(X_train_resampled)))\n",
    "print(\"Test Accuracy:\",metrics.accuracy_score(Y_test_resampled, nn_y_pred))"
   ]
  },
  {
   "cell_type": "markdown",
   "metadata": {},
   "source": [
    "On the resample: Even thirds, 33% small, 33% fit, 33% large\n",
    "Gradient Boosting here is 50% more accurate than random guessing"
   ]
  },
  {
   "cell_type": "code",
   "execution_count": 26,
   "metadata": {
    "scrolled": true
   },
   "outputs": [
    {
     "name": "stdout",
     "output_type": "stream",
     "text": [
      "        fit\n",
      "59805    -1\n",
      "59549     0\n",
      "132225   -1\n",
      "94249     0\n",
      "71056     0\n",
      "0.3333333333333333\n"
     ]
    }
   ],
   "source": [
    "#Y_test_resampled.head()\n",
    "a = pd.DataFrame(Y_test_resampled)\n",
    "print(a.head())\n",
    "\n",
    "print( (len(a[a['fit'] == 0])) / (len(a.index))  )"
   ]
  },
  {
   "cell_type": "code",
   "execution_count": 27,
   "metadata": {},
   "outputs": [
    {
     "data": {
      "text/html": [
       "<div>\n",
       "<style scoped>\n",
       "    .dataframe tbody tr th:only-of-type {\n",
       "        vertical-align: middle;\n",
       "    }\n",
       "\n",
       "    .dataframe tbody tr th {\n",
       "        vertical-align: top;\n",
       "    }\n",
       "\n",
       "    .dataframe thead th {\n",
       "        text-align: right;\n",
       "    }\n",
       "</style>\n",
       "<table border=\"1\" class=\"dataframe\">\n",
       "  <thead>\n",
       "    <tr style=\"text-align: right;\">\n",
       "      <th></th>\n",
       "      <th>importance</th>\n",
       "    </tr>\n",
       "  </thead>\n",
       "  <tbody>\n",
       "    <tr>\n",
       "      <th>item_id</th>\n",
       "      <td>0.198253</td>\n",
       "    </tr>\n",
       "    <tr>\n",
       "      <th>user_id</th>\n",
       "      <td>0.161386</td>\n",
       "    </tr>\n",
       "    <tr>\n",
       "      <th>age</th>\n",
       "      <td>0.119927</td>\n",
       "    </tr>\n",
       "    <tr>\n",
       "      <th>weight</th>\n",
       "      <td>0.101402</td>\n",
       "    </tr>\n",
       "    <tr>\n",
       "      <th>height</th>\n",
       "      <td>0.088900</td>\n",
       "    </tr>\n",
       "    <tr>\n",
       "      <th>size</th>\n",
       "      <td>0.078320</td>\n",
       "    </tr>\n",
       "    <tr>\n",
       "      <th>rented_for</th>\n",
       "      <td>0.059159</td>\n",
       "    </tr>\n",
       "    <tr>\n",
       "      <th>body_type</th>\n",
       "      <td>0.049181</td>\n",
       "    </tr>\n",
       "    <tr>\n",
       "      <th>category</th>\n",
       "      <td>0.048150</td>\n",
       "    </tr>\n",
       "    <tr>\n",
       "      <th>bust_volume</th>\n",
       "      <td>0.048124</td>\n",
       "    </tr>\n",
       "    <tr>\n",
       "      <th>chest_diff</th>\n",
       "      <td>0.047200</td>\n",
       "    </tr>\n",
       "  </tbody>\n",
       "</table>\n",
       "</div>"
      ],
      "text/plain": [
       "             importance\n",
       "item_id        0.198253\n",
       "user_id        0.161386\n",
       "age            0.119927\n",
       "weight         0.101402\n",
       "height         0.088900\n",
       "size           0.078320\n",
       "rented_for     0.059159\n",
       "body_type      0.049181\n",
       "category       0.048150\n",
       "bust_volume    0.048124\n",
       "chest_diff     0.047200"
      ]
     },
     "execution_count": 27,
     "metadata": {},
     "output_type": "execute_result"
    }
   ],
   "source": [
    "# import numpy as np\n",
    "\n",
    "rfImportances = pd.DataFrame(rf.feature_importances_, index = X_train_resampled.columns, columns =['importance']).sort_values('importance', ascending=False)\n",
    "gbImportances = pd.DataFrame(gb.feature_importances_, index = X_train_resampled.columns, columns =['importance']).sort_values('importance', ascending=False)\n",
    "rfImportances"
   ]
  },
  {
   "cell_type": "code",
   "execution_count": 28,
   "metadata": {
    "scrolled": true
   },
   "outputs": [
    {
     "data": {
      "text/html": [
       "<div>\n",
       "<style scoped>\n",
       "    .dataframe tbody tr th:only-of-type {\n",
       "        vertical-align: middle;\n",
       "    }\n",
       "\n",
       "    .dataframe tbody tr th {\n",
       "        vertical-align: top;\n",
       "    }\n",
       "\n",
       "    .dataframe thead th {\n",
       "        text-align: right;\n",
       "    }\n",
       "</style>\n",
       "<table border=\"1\" class=\"dataframe\">\n",
       "  <thead>\n",
       "    <tr style=\"text-align: right;\">\n",
       "      <th></th>\n",
       "      <th>importance</th>\n",
       "    </tr>\n",
       "  </thead>\n",
       "  <tbody>\n",
       "    <tr>\n",
       "      <th>size</th>\n",
       "      <td>0.418674</td>\n",
       "    </tr>\n",
       "    <tr>\n",
       "      <th>weight</th>\n",
       "      <td>0.195246</td>\n",
       "    </tr>\n",
       "    <tr>\n",
       "      <th>item_id</th>\n",
       "      <td>0.179306</td>\n",
       "    </tr>\n",
       "    <tr>\n",
       "      <th>category</th>\n",
       "      <td>0.084627</td>\n",
       "    </tr>\n",
       "    <tr>\n",
       "      <th>rented_for</th>\n",
       "      <td>0.057233</td>\n",
       "    </tr>\n",
       "    <tr>\n",
       "      <th>body_type</th>\n",
       "      <td>0.019177</td>\n",
       "    </tr>\n",
       "    <tr>\n",
       "      <th>bust_volume</th>\n",
       "      <td>0.018532</td>\n",
       "    </tr>\n",
       "    <tr>\n",
       "      <th>age</th>\n",
       "      <td>0.012474</td>\n",
       "    </tr>\n",
       "    <tr>\n",
       "      <th>height</th>\n",
       "      <td>0.006651</td>\n",
       "    </tr>\n",
       "    <tr>\n",
       "      <th>user_id</th>\n",
       "      <td>0.006182</td>\n",
       "    </tr>\n",
       "    <tr>\n",
       "      <th>chest_diff</th>\n",
       "      <td>0.001898</td>\n",
       "    </tr>\n",
       "  </tbody>\n",
       "</table>\n",
       "</div>"
      ],
      "text/plain": [
       "             importance\n",
       "size           0.418674\n",
       "weight         0.195246\n",
       "item_id        0.179306\n",
       "category       0.084627\n",
       "rented_for     0.057233\n",
       "body_type      0.019177\n",
       "bust_volume    0.018532\n",
       "age            0.012474\n",
       "height         0.006651\n",
       "user_id        0.006182\n",
       "chest_diff     0.001898"
      ]
     },
     "execution_count": 28,
     "metadata": {},
     "output_type": "execute_result"
    }
   ],
   "source": [
    "gbImportances"
   ]
  },
  {
   "cell_type": "code",
   "execution_count": 29,
   "metadata": {},
   "outputs": [
    {
     "data": {
      "image/png": "[encoded data removed]",
      "text/plain": [
       "<Figure size 432x288 with 1 Axes>"
      ]
     },
     "metadata": {},
     "output_type": "display_data"
    }
   ],
   "source": [
    "showPie(list(Y_test_resampled), False)"
   ]
  },
  {
   "cell_type": "code",
   "execution_count": 30,
   "metadata": {},
   "outputs": [
    {
     "name": "stdout",
     "output_type": "stream",
     "text": [
      "Random Forest (10 estimators):\n"
     ]
    },
    {
     "data": {
      "image/png": "[encoded data removed]",
      "text/plain": [
       "<Figure size 432x288 with 1 Axes>"
      ]
     },
     "metadata": {},
     "output_type": "display_data"
    },
    {
     "name": "stdout",
     "output_type": "stream",
     "text": [
      "Random Forest (100 estimators):\n"
     ]
    },
    {
     "data": {
      "image/png": "[encoded data removed]",
      "text/plain": [
       "<Figure size 432x288 with 1 Axes>"
      ]
     },
     "metadata": {},
     "output_type": "display_data"
    },
    {
     "name": "stdout",
     "output_type": "stream",
     "text": [
      "Gradient Boosting:\n"
     ]
    },
    {
     "data": {
      "image/png": "[encoded data removed]",
      "text/plain": [
       "<Figure size 432x288 with 1 Axes>"
      ]
     },
     "metadata": {},
     "output_type": "display_data"
    },
    {
     "name": "stdout",
     "output_type": "stream",
     "text": [
      "Neural Network:\n"
     ]
    },
    {
     "data": {
      "image/png": "[encoded data removed]",
      "text/plain": [
       "<Figure size 432x288 with 1 Axes>"
      ]
     },
     "metadata": {},
     "output_type": "display_data"
    }
   ],
   "source": [
    "print(\"Random Forest (10 estimators):\")\n",
    "showPie(list(rf10_y_pred), False)\n",
    "print(\"Random Forest (100 estimators):\")\n",
    "showPie(list(rf_y_pred), False)\n",
    "print(\"Gradient Boosting:\")\n",
    "showPie(list(gb_y_pred), False)\n",
    "print(\"Neural Network:\")\n",
    "showPie(list(nn_y_pred), False)"
   ]
  },
  {
   "cell_type": "markdown",
   "metadata": {},
   "source": [
    "## Using Anomaly-Free Data"
   ]
  },
  {
   "cell_type": "code",
   "execution_count": 31,
   "metadata": {},
   "outputs": [],
   "source": [
    "reviews = pickle.load(open(\"../Data/reviews_anomalies_removed.pkl\", \"rb\" ))"
   ]
  },
  {
   "cell_type": "code",
   "execution_count": 32,
   "metadata": {},
   "outputs": [
    {
     "data": {
      "text/html": [
       "<div>\n",
       "<style scoped>\n",
       "    .dataframe tbody tr th:only-of-type {\n",
       "        vertical-align: middle;\n",
       "    }\n",
       "\n",
       "    .dataframe tbody tr th {\n",
       "        vertical-align: top;\n",
       "    }\n",
       "\n",
       "    .dataframe thead th {\n",
       "        text-align: right;\n",
       "    }\n",
       "</style>\n",
       "<table border=\"1\" class=\"dataframe\">\n",
       "  <thead>\n",
       "    <tr style=\"text-align: right;\">\n",
       "      <th></th>\n",
       "      <th>age</th>\n",
       "      <th>body_type</th>\n",
       "      <th>category</th>\n",
       "      <th>height</th>\n",
       "      <th>item_id</th>\n",
       "      <th>rented_for</th>\n",
       "      <th>size</th>\n",
       "      <th>user_id</th>\n",
       "      <th>weight</th>\n",
       "      <th>bust_volume</th>\n",
       "      <th>chest_diff</th>\n",
       "    </tr>\n",
       "  </thead>\n",
       "  <tbody>\n",
       "    <tr>\n",
       "      <th>129033</th>\n",
       "      <td>31</td>\n",
       "      <td>4</td>\n",
       "      <td>16</td>\n",
       "      <td>64.0</td>\n",
       "      <td>1746190</td>\n",
       "      <td>7</td>\n",
       "      <td>4</td>\n",
       "      <td>278562</td>\n",
       "      <td>130</td>\n",
       "      <td>310</td>\n",
       "      <td>2</td>\n",
       "    </tr>\n",
       "    <tr>\n",
       "      <th>61782</th>\n",
       "      <td>28</td>\n",
       "      <td>3</td>\n",
       "      <td>32</td>\n",
       "      <td>65.0</td>\n",
       "      <td>265806</td>\n",
       "      <td>7</td>\n",
       "      <td>8</td>\n",
       "      <td>356213</td>\n",
       "      <td>130</td>\n",
       "      <td>390</td>\n",
       "      <td>3</td>\n",
       "    </tr>\n",
       "    <tr>\n",
       "      <th>15590</th>\n",
       "      <td>58</td>\n",
       "      <td>4</td>\n",
       "      <td>20</td>\n",
       "      <td>67.0</td>\n",
       "      <td>132738</td>\n",
       "      <td>2</td>\n",
       "      <td>13</td>\n",
       "      <td>833182</td>\n",
       "      <td>133</td>\n",
       "      <td>310</td>\n",
       "      <td>1</td>\n",
       "    </tr>\n",
       "    <tr>\n",
       "      <th>111496</th>\n",
       "      <td>28</td>\n",
       "      <td>3</td>\n",
       "      <td>16</td>\n",
       "      <td>65.0</td>\n",
       "      <td>126335</td>\n",
       "      <td>4</td>\n",
       "      <td>12</td>\n",
       "      <td>193966</td>\n",
       "      <td>140</td>\n",
       "      <td>590</td>\n",
       "      <td>4</td>\n",
       "    </tr>\n",
       "    <tr>\n",
       "      <th>140918</th>\n",
       "      <td>27</td>\n",
       "      <td>4</td>\n",
       "      <td>16</td>\n",
       "      <td>65.0</td>\n",
       "      <td>148690</td>\n",
       "      <td>0</td>\n",
       "      <td>20</td>\n",
       "      <td>165402</td>\n",
       "      <td>160</td>\n",
       "      <td>590</td>\n",
       "      <td>3</td>\n",
       "    </tr>\n",
       "  </tbody>\n",
       "</table>\n",
       "</div>"
      ],
      "text/plain": [
       "        age  body_type  category  height  item_id  rented_for  size  user_id  \\\n",
       "129033   31          4        16    64.0  1746190           7     4   278562   \n",
       "61782    28          3        32    65.0   265806           7     8   356213   \n",
       "15590    58          4        20    67.0   132738           2    13   833182   \n",
       "111496   28          3        16    65.0   126335           4    12   193966   \n",
       "140918   27          4        16    65.0   148690           0    20   165402   \n",
       "\n",
       "        weight  bust_volume  chest_diff  \n",
       "129033     130          310           2  \n",
       "61782      130          390           3  \n",
       "15590      133          310           1  \n",
       "111496     140          590           4  \n",
       "140918     160          590           3  "
      ]
     },
     "execution_count": 32,
     "metadata": {},
     "output_type": "execute_result"
    }
   ],
   "source": [
    "# Remove fit, the target variable, and features that\n",
    "# are only received after the item has been bought.\n",
    "X = reviews.drop(['fit', 'rating', 'review_date'], axis=1)\n",
    "Y = reviews['fit']\n",
    "\n",
    "X_train, X_test, Y_train, Y_test = train_test_split(X, Y, test_size=0.2, random_state=1)\n",
    "X_train.head()"
   ]
  },
  {
   "cell_type": "markdown",
   "metadata": {},
   "source": [
    "### Classifier Models:\n",
    "- Random Forest (10 estimators)\n",
    "- Random Forest (100 estimators)\n",
    "- Gradient Boosting\n",
    "- Neural Network: Multilayer Perceptron"
   ]
  },
  {
   "cell_type": "code",
   "execution_count": 33,
   "metadata": {},
   "outputs": [
    {
     "name": "stdout",
     "output_type": "stream",
     "text": [
      "Random Forest:\n",
      "10 estimators Training Accuracy: 0.9800270569425655\n",
      "10 estimators Test Accuracy: 0.6564344746162928\n",
      "100 estimators Training Accuracy: 0.9999754027794859\n",
      "100 estimators Test Accuracy: 0.6922471467926014\n",
      "\n",
      "Gradient Boosting:\n",
      "Training Accuracy: 0.6979953265281024\n",
      "Test Accuracy: 0.6909681227863046\n",
      "\n",
      "Neural Network:\n",
      "Training Accuracy: 0.6163817488623785\n",
      "Test Accuracy: 0.6100944510035419\n"
     ]
    }
   ],
   "source": [
    "# # Create classifers\n",
    "rf10 = RandomForestClassifier(n_estimators=10)\n",
    "rf = RandomForestClassifier(n_estimators=100)\n",
    "gb = GradientBoostingClassifier(random_state=1, learning_rate=.1)\n",
    "nn = MLPClassifier()\n",
    "\n",
    "# Train Classifers\n",
    "rf10 = rf10.fit(X_train, Y_train)\n",
    "rf = rf.fit(X_train, Y_train)\n",
    "gb = gb.fit(X_train, Y_train)\n",
    "nn = nn.fit(X_train, Y_train)\n",
    "\n",
    "#Predict the response for test dataset\n",
    "rf10_y_pred = rf10.predict(X_test)\n",
    "rf_y_pred = rf.predict(X_test)\n",
    "gb_y_pred = gb.predict(X_test)\n",
    "nn_y_pred = nn.predict(X_test)\n",
    "\n",
    "print(\"Random Forest:\")\n",
    "print(\"10 estimators Training Accuracy:\", metrics.accuracy_score(Y_train, rf10.predict(X_train)))\n",
    "print(\"10 estimators Test Accuracy:\",metrics.accuracy_score(Y_test, rf10_y_pred))\n",
    "print(\"100 estimators Training Accuracy:\", metrics.accuracy_score(Y_train, rf.predict(X_train)))\n",
    "print(\"100 estimators Test Accuracy:\",metrics.accuracy_score(Y_test, rf_y_pred))\n",
    "\n",
    "print(\"\\nGradient Boosting:\")\n",
    "print(\"Training Accuracy:\", metrics.accuracy_score(Y_train, gb.predict(X_train)))\n",
    "print(\"Test Accuracy:\",metrics.accuracy_score(Y_test, gb_y_pred))\n",
    "\n",
    "print(\"\\nNeural Network:\")\n",
    "print(\"Training Accuracy:\", metrics.accuracy_score(Y_train, nn.predict(X_train)))\n",
    "print(\"Test Accuracy:\",metrics.accuracy_score(Y_test, nn_y_pred))"
   ]
  },
  {
   "cell_type": "markdown",
   "metadata": {},
   "source": [
    "What % of users rate the fit of the product as \"fit\" to see if either model gave us additional information"
   ]
  },
  {
   "cell_type": "code",
   "execution_count": 34,
   "metadata": {
    "scrolled": false
   },
   "outputs": [
    {
     "name": "stdout",
     "output_type": "stream",
     "text": [
      "Fit   %: 0.6149078100710365\n",
      "Small %: 0.20996084141758004\n",
      "Large %: 0.17513134851138354\n"
     ]
    },
    {
     "data": {
      "image/png": "[encoded data removed]",
      "text/plain": [
       "<Figure size 432x288 with 1 Axes>"
      ]
     },
     "metadata": {},
     "output_type": "display_data"
    }
   ],
   "source": [
    "print(\"Fit   %:\", ((reviews[reviews.fit == 'fit'].shape[0]) / (len(reviews.index))))\n",
    "print(\"Small %:\", ((reviews[reviews.fit == 'small'].shape[0]) / (len(reviews.index))))\n",
    "print(\"Large %:\", ((reviews[reviews.fit == 'large'].shape[0]) / (len(reviews.index))))\n",
    "\n",
    "sizes = [reviews[reviews.fit == 'fit'].shape[0], reviews[reviews.fit == 'small'].shape[0], reviews[reviews.fit == 'large'].shape[0]]\n",
    "labels = [\"Fit\", \"Small\", \"Large\"]\n",
    "import matplotlib.pyplot as plt\n",
    "fig1, ax1 = plt.subplots()\n",
    "ax1.pie(sizes, labels=labels, autopct='%1.1f%%', shadow=True, startangle=90)\n",
    "ax1.axis('equal')\n",
    "plt.show()"
   ]
  },
  {
   "cell_type": "code",
   "execution_count": 35,
   "metadata": {},
   "outputs": [
    {
     "data": {
      "image/png": "[encoded data removed]",
      "text/plain": [
       "<Figure size 432x288 with 1 Axes>"
      ]
     },
     "metadata": {},
     "output_type": "display_data"
    }
   ],
   "source": [
    "showPie(list(Y_test), True)"
   ]
  },
  {
   "cell_type": "code",
   "execution_count": 36,
   "metadata": {},
   "outputs": [
    {
     "name": "stdout",
     "output_type": "stream",
     "text": [
      "Random Forest (10 estimators):\n"
     ]
    },
    {
     "data": {
      "image/png": "[encoded data removed]",
      "text/plain": [
       "<Figure size 432x288 with 1 Axes>"
      ]
     },
     "metadata": {},
     "output_type": "display_data"
    },
    {
     "name": "stdout",
     "output_type": "stream",
     "text": [
      "Random Forest (100 estimators):\n"
     ]
    },
    {
     "data": {
      "image/png": "[encoded data removed]",
      "text/plain": [
       "<Figure size 432x288 with 1 Axes>"
      ]
     },
     "metadata": {},
     "output_type": "display_data"
    },
    {
     "name": "stdout",
     "output_type": "stream",
     "text": [
      "Gradient Boosting:\n"
     ]
    },
    {
     "data": {
      "image/png": "[encoded data removed]",
      "text/plain": [
       "<Figure size 432x288 with 1 Axes>"
      ]
     },
     "metadata": {},
     "output_type": "display_data"
    },
    {
     "name": "stdout",
     "output_type": "stream",
     "text": [
      "Neural Network:\n"
     ]
    },
    {
     "data": {
      "image/png": "[encoded data removed]",
      "text/plain": [
       "<Figure size 432x288 with 1 Axes>"
      ]
     },
     "metadata": {},
     "output_type": "display_data"
    }
   ],
   "source": [
    "print(\"Random Forest (10 estimators):\")\n",
    "showPie(list(rf10_y_pred), True)\n",
    "print(\"Random Forest (100 estimators):\")\n",
    "showPie(list(rf_y_pred), True)\n",
    "print(\"Gradient Boosting:\")\n",
    "showPie(list(gb_y_pred), True)\n",
    "print(\"Neural Network:\")\n",
    "showPie(list(nn_y_pred), True)"
   ]
  },
  {
   "cell_type": "markdown",
   "metadata": {},
   "source": [
    "More information is gained simply by guessing \"fit\" on every item, so these models provide us no additional information."
   ]
  },
  {
   "cell_type": "code",
   "execution_count": 37,
   "metadata": {},
   "outputs": [
    {
     "data": {
      "text/html": [
       "<div>\n",
       "<style scoped>\n",
       "    .dataframe tbody tr th:only-of-type {\n",
       "        vertical-align: middle;\n",
       "    }\n",
       "\n",
       "    .dataframe tbody tr th {\n",
       "        vertical-align: top;\n",
       "    }\n",
       "\n",
       "    .dataframe thead th {\n",
       "        text-align: right;\n",
       "    }\n",
       "</style>\n",
       "<table border=\"1\" class=\"dataframe\">\n",
       "  <thead>\n",
       "    <tr style=\"text-align: right;\">\n",
       "      <th></th>\n",
       "      <th>importance</th>\n",
       "    </tr>\n",
       "  </thead>\n",
       "  <tbody>\n",
       "    <tr>\n",
       "      <th>item_id</th>\n",
       "      <td>0.217126</td>\n",
       "    </tr>\n",
       "    <tr>\n",
       "      <th>user_id</th>\n",
       "      <td>0.151434</td>\n",
       "    </tr>\n",
       "    <tr>\n",
       "      <th>age</th>\n",
       "      <td>0.115267</td>\n",
       "    </tr>\n",
       "    <tr>\n",
       "      <th>weight</th>\n",
       "      <td>0.111676</td>\n",
       "    </tr>\n",
       "    <tr>\n",
       "      <th>height</th>\n",
       "      <td>0.088406</td>\n",
       "    </tr>\n",
       "    <tr>\n",
       "      <th>size</th>\n",
       "      <td>0.075466</td>\n",
       "    </tr>\n",
       "    <tr>\n",
       "      <th>body_type</th>\n",
       "      <td>0.054234</td>\n",
       "    </tr>\n",
       "    <tr>\n",
       "      <th>bust_volume</th>\n",
       "      <td>0.052916</td>\n",
       "    </tr>\n",
       "    <tr>\n",
       "      <th>rented_for</th>\n",
       "      <td>0.051693</td>\n",
       "    </tr>\n",
       "    <tr>\n",
       "      <th>chest_diff</th>\n",
       "      <td>0.048859</td>\n",
       "    </tr>\n",
       "    <tr>\n",
       "      <th>category</th>\n",
       "      <td>0.032922</td>\n",
       "    </tr>\n",
       "  </tbody>\n",
       "</table>\n",
       "</div>"
      ],
      "text/plain": [
       "             importance\n",
       "item_id        0.217126\n",
       "user_id        0.151434\n",
       "age            0.115267\n",
       "weight         0.111676\n",
       "height         0.088406\n",
       "size           0.075466\n",
       "body_type      0.054234\n",
       "bust_volume    0.052916\n",
       "rented_for     0.051693\n",
       "chest_diff     0.048859\n",
       "category       0.032922"
      ]
     },
     "execution_count": 37,
     "metadata": {},
     "output_type": "execute_result"
    }
   ],
   "source": [
    "import numpy as np\n",
    "rfImportances = pd.DataFrame(rf.feature_importances_, index = X_train.columns, columns =['importance']).sort_values('importance', ascending=False)\n",
    "gbImportances = pd.DataFrame(gb.feature_importances_, index = X_train.columns, columns =['importance']).sort_values('importance', ascending=False)\n",
    "rfImportances"
   ]
  },
  {
   "cell_type": "code",
   "execution_count": 38,
   "metadata": {
    "scrolled": true
   },
   "outputs": [
    {
     "data": {
      "text/html": [
       "<div>\n",
       "<style scoped>\n",
       "    .dataframe tbody tr th:only-of-type {\n",
       "        vertical-align: middle;\n",
       "    }\n",
       "\n",
       "    .dataframe tbody tr th {\n",
       "        vertical-align: top;\n",
       "    }\n",
       "\n",
       "    .dataframe thead th {\n",
       "        text-align: right;\n",
       "    }\n",
       "</style>\n",
       "<table border=\"1\" class=\"dataframe\">\n",
       "  <thead>\n",
       "    <tr style=\"text-align: right;\">\n",
       "      <th></th>\n",
       "      <th>importance</th>\n",
       "    </tr>\n",
       "  </thead>\n",
       "  <tbody>\n",
       "    <tr>\n",
       "      <th>item_id</th>\n",
       "      <td>0.571600</td>\n",
       "    </tr>\n",
       "    <tr>\n",
       "      <th>size</th>\n",
       "      <td>0.196928</td>\n",
       "    </tr>\n",
       "    <tr>\n",
       "      <th>weight</th>\n",
       "      <td>0.084649</td>\n",
       "    </tr>\n",
       "    <tr>\n",
       "      <th>category</th>\n",
       "      <td>0.067224</td>\n",
       "    </tr>\n",
       "    <tr>\n",
       "      <th>rented_for</th>\n",
       "      <td>0.022480</td>\n",
       "    </tr>\n",
       "    <tr>\n",
       "      <th>chest_diff</th>\n",
       "      <td>0.017373</td>\n",
       "    </tr>\n",
       "    <tr>\n",
       "      <th>bust_volume</th>\n",
       "      <td>0.016632</td>\n",
       "    </tr>\n",
       "    <tr>\n",
       "      <th>age</th>\n",
       "      <td>0.010833</td>\n",
       "    </tr>\n",
       "    <tr>\n",
       "      <th>body_type</th>\n",
       "      <td>0.005109</td>\n",
       "    </tr>\n",
       "    <tr>\n",
       "      <th>height</th>\n",
       "      <td>0.004342</td>\n",
       "    </tr>\n",
       "    <tr>\n",
       "      <th>user_id</th>\n",
       "      <td>0.002831</td>\n",
       "    </tr>\n",
       "  </tbody>\n",
       "</table>\n",
       "</div>"
      ],
      "text/plain": [
       "             importance\n",
       "item_id        0.571600\n",
       "size           0.196928\n",
       "weight         0.084649\n",
       "category       0.067224\n",
       "rented_for     0.022480\n",
       "chest_diff     0.017373\n",
       "bust_volume    0.016632\n",
       "age            0.010833\n",
       "body_type      0.005109\n",
       "height         0.004342\n",
       "user_id        0.002831"
      ]
     },
     "execution_count": 38,
     "metadata": {},
     "output_type": "execute_result"
    }
   ],
   "source": [
    "gbImportances"
   ]
  },
  {
   "cell_type": "code",
   "execution_count": 39,
   "metadata": {},
   "outputs": [],
   "source": [
    "from sklearn.utils import resample\n",
    "def resample_data(df):\n",
    "    # Separate majority and minority classes\n",
    "    df_majority = df[df.fit=='fit']\n",
    "    df_minority_1 = df[df.fit=='small']\n",
    "    df_minority_2 = df[df.fit=='large']\n",
    "\n",
    "    size = df_majority.shape[0]\n",
    "    \n",
    "    # Upsample minority class\n",
    "    df_minority_1_upsampled = resample(df_minority_1, \n",
    "                                     replace=True,     # sample with replacement\n",
    "                                     n_samples=size,    # to match majority class\n",
    "                                     random_state=123) # reproducible results\n",
    "    \n",
    "    df_minority_2_upsampled = resample(df_minority_2, \n",
    "                                     replace=True,     # sample with replacement\n",
    "                                     n_samples=size,    # to match majority class\n",
    "                                     random_state=123) # reproducible results\n",
    "    # # Combine majority class with upsampled minority class\n",
    "    df_upsampled = pd.concat([df_majority, df_minority_1_upsampled, df_minority_2_upsampled]).sample(frac=1)\n",
    "\n",
    "    return df_upsampled"
   ]
  },
  {
   "cell_type": "code",
   "execution_count": 40,
   "metadata": {},
   "outputs": [],
   "source": [
    "X_train['fit'] = Y_train.values\n",
    "X_test['fit'] = Y_test.values"
   ]
  },
  {
   "cell_type": "code",
   "execution_count": 41,
   "metadata": {},
   "outputs": [],
   "source": [
    "X_train_resampled = resample_data(X_train)\n",
    "X_test_resampled = resample_data(X_test)"
   ]
  },
  {
   "cell_type": "code",
   "execution_count": 42,
   "metadata": {},
   "outputs": [],
   "source": [
    "Y_train_resampled = X_train_resampled['fit']\n",
    "Y_test_resampled = X_test_resampled['fit']\n",
    "X_train_resampled = X_train_resampled.drop(['fit'],axis = 1)\n",
    "X_test_resampled = X_test_resampled.drop(['fit'], axis = 1)"
   ]
  },
  {
   "cell_type": "code",
   "execution_count": 43,
   "metadata": {},
   "outputs": [],
   "source": [
    "def fit_to_int(x):\n",
    "    if x == 'fit':\n",
    "        return 0\n",
    "    elif x == 'large':\n",
    "        return 1\n",
    "    return -1\n",
    "Y_train_resampled = Y_train_resampled.map(fit_to_int)\n",
    "Y_test_resampled = Y_test_resampled.map(fit_to_int)"
   ]
  },
  {
   "cell_type": "markdown",
   "metadata": {},
   "source": [
    "### Display the Resampled Data"
   ]
  },
  {
   "cell_type": "code",
   "execution_count": 44,
   "metadata": {},
   "outputs": [
    {
     "data": {
      "text/html": [
       "<div>\n",
       "<style scoped>\n",
       "    .dataframe tbody tr th:only-of-type {\n",
       "        vertical-align: middle;\n",
       "    }\n",
       "\n",
       "    .dataframe tbody tr th {\n",
       "        vertical-align: top;\n",
       "    }\n",
       "\n",
       "    .dataframe thead th {\n",
       "        text-align: right;\n",
       "    }\n",
       "</style>\n",
       "<table border=\"1\" class=\"dataframe\">\n",
       "  <thead>\n",
       "    <tr style=\"text-align: right;\">\n",
       "      <th></th>\n",
       "      <th>age</th>\n",
       "      <th>body_type</th>\n",
       "      <th>category</th>\n",
       "      <th>height</th>\n",
       "      <th>item_id</th>\n",
       "      <th>rented_for</th>\n",
       "      <th>size</th>\n",
       "      <th>user_id</th>\n",
       "      <th>weight</th>\n",
       "      <th>bust_volume</th>\n",
       "      <th>chest_diff</th>\n",
       "    </tr>\n",
       "  </thead>\n",
       "  <tbody>\n",
       "    <tr>\n",
       "      <th>9967</th>\n",
       "      <td>49</td>\n",
       "      <td>1</td>\n",
       "      <td>26</td>\n",
       "      <td>65.0</td>\n",
       "      <td>2396750</td>\n",
       "      <td>4</td>\n",
       "      <td>5</td>\n",
       "      <td>354380</td>\n",
       "      <td>114</td>\n",
       "      <td>310</td>\n",
       "      <td>1</td>\n",
       "    </tr>\n",
       "    <tr>\n",
       "      <th>107499</th>\n",
       "      <td>48</td>\n",
       "      <td>6</td>\n",
       "      <td>20</td>\n",
       "      <td>68.0</td>\n",
       "      <td>132738</td>\n",
       "      <td>2</td>\n",
       "      <td>9</td>\n",
       "      <td>73712</td>\n",
       "      <td>130</td>\n",
       "      <td>310</td>\n",
       "      <td>2</td>\n",
       "    </tr>\n",
       "    <tr>\n",
       "      <th>107664</th>\n",
       "      <td>28</td>\n",
       "      <td>1</td>\n",
       "      <td>20</td>\n",
       "      <td>63.0</td>\n",
       "      <td>154002</td>\n",
       "      <td>2</td>\n",
       "      <td>1</td>\n",
       "      <td>519782</td>\n",
       "      <td>120</td>\n",
       "      <td>390</td>\n",
       "      <td>3</td>\n",
       "    </tr>\n",
       "    <tr>\n",
       "      <th>83818</th>\n",
       "      <td>33</td>\n",
       "      <td>0</td>\n",
       "      <td>16</td>\n",
       "      <td>64.0</td>\n",
       "      <td>136110</td>\n",
       "      <td>2</td>\n",
       "      <td>20</td>\n",
       "      <td>23934</td>\n",
       "      <td>150</td>\n",
       "      <td>390</td>\n",
       "      <td>2</td>\n",
       "    </tr>\n",
       "    <tr>\n",
       "      <th>9149</th>\n",
       "      <td>40</td>\n",
       "      <td>1</td>\n",
       "      <td>16</td>\n",
       "      <td>64.0</td>\n",
       "      <td>858304</td>\n",
       "      <td>7</td>\n",
       "      <td>12</td>\n",
       "      <td>884170</td>\n",
       "      <td>135</td>\n",
       "      <td>390</td>\n",
       "      <td>3</td>\n",
       "    </tr>\n",
       "  </tbody>\n",
       "</table>\n",
       "</div>"
      ],
      "text/plain": [
       "        age  body_type  category  height  item_id  rented_for  size  user_id  \\\n",
       "9967     49          1        26    65.0  2396750           4     5   354380   \n",
       "107499   48          6        20    68.0   132738           2     9    73712   \n",
       "107664   28          1        20    63.0   154002           2     1   519782   \n",
       "83818    33          0        16    64.0   136110           2    20    23934   \n",
       "9149     40          1        16    64.0   858304           7    12   884170   \n",
       "\n",
       "        weight  bust_volume  chest_diff  \n",
       "9967       114          310           1  \n",
       "107499     130          310           2  \n",
       "107664     120          390           3  \n",
       "83818      150          390           2  \n",
       "9149       135          390           3  "
      ]
     },
     "execution_count": 44,
     "metadata": {},
     "output_type": "execute_result"
    }
   ],
   "source": [
    "X_train_resampled.head()"
   ]
  },
  {
   "cell_type": "code",
   "execution_count": 45,
   "metadata": {},
   "outputs": [
    {
     "data": {
      "text/html": [
       "<div>\n",
       "<style scoped>\n",
       "    .dataframe tbody tr th:only-of-type {\n",
       "        vertical-align: middle;\n",
       "    }\n",
       "\n",
       "    .dataframe tbody tr th {\n",
       "        vertical-align: top;\n",
       "    }\n",
       "\n",
       "    .dataframe thead th {\n",
       "        text-align: right;\n",
       "    }\n",
       "</style>\n",
       "<table border=\"1\" class=\"dataframe\">\n",
       "  <thead>\n",
       "    <tr style=\"text-align: right;\">\n",
       "      <th></th>\n",
       "      <th>age</th>\n",
       "      <th>body_type</th>\n",
       "      <th>category</th>\n",
       "      <th>height</th>\n",
       "      <th>item_id</th>\n",
       "      <th>rented_for</th>\n",
       "      <th>size</th>\n",
       "      <th>user_id</th>\n",
       "      <th>weight</th>\n",
       "      <th>bust_volume</th>\n",
       "      <th>chest_diff</th>\n",
       "    </tr>\n",
       "  </thead>\n",
       "  <tbody>\n",
       "    <tr>\n",
       "      <th>129591</th>\n",
       "      <td>36</td>\n",
       "      <td>4</td>\n",
       "      <td>20</td>\n",
       "      <td>66.0</td>\n",
       "      <td>985499</td>\n",
       "      <td>2</td>\n",
       "      <td>16</td>\n",
       "      <td>214478</td>\n",
       "      <td>140</td>\n",
       "      <td>390</td>\n",
       "      <td>1</td>\n",
       "    </tr>\n",
       "    <tr>\n",
       "      <th>13030</th>\n",
       "      <td>26</td>\n",
       "      <td>3</td>\n",
       "      <td>32</td>\n",
       "      <td>70.0</td>\n",
       "      <td>1378631</td>\n",
       "      <td>2</td>\n",
       "      <td>17</td>\n",
       "      <td>726051</td>\n",
       "      <td>150</td>\n",
       "      <td>480</td>\n",
       "      <td>2</td>\n",
       "    </tr>\n",
       "    <tr>\n",
       "      <th>39198</th>\n",
       "      <td>35</td>\n",
       "      <td>2</td>\n",
       "      <td>20</td>\n",
       "      <td>70.0</td>\n",
       "      <td>131533</td>\n",
       "      <td>7</td>\n",
       "      <td>21</td>\n",
       "      <td>592782</td>\n",
       "      <td>150</td>\n",
       "      <td>480</td>\n",
       "      <td>4</td>\n",
       "    </tr>\n",
       "    <tr>\n",
       "      <th>75743</th>\n",
       "      <td>63</td>\n",
       "      <td>1</td>\n",
       "      <td>20</td>\n",
       "      <td>69.0</td>\n",
       "      <td>134849</td>\n",
       "      <td>2</td>\n",
       "      <td>25</td>\n",
       "      <td>485065</td>\n",
       "      <td>185</td>\n",
       "      <td>710</td>\n",
       "      <td>4</td>\n",
       "    </tr>\n",
       "    <tr>\n",
       "      <th>120478</th>\n",
       "      <td>33</td>\n",
       "      <td>1</td>\n",
       "      <td>16</td>\n",
       "      <td>66.0</td>\n",
       "      <td>1831026</td>\n",
       "      <td>7</td>\n",
       "      <td>4</td>\n",
       "      <td>431679</td>\n",
       "      <td>125</td>\n",
       "      <td>310</td>\n",
       "      <td>1</td>\n",
       "    </tr>\n",
       "  </tbody>\n",
       "</table>\n",
       "</div>"
      ],
      "text/plain": [
       "        age  body_type  category  height  item_id  rented_for  size  user_id  \\\n",
       "129591   36          4        20    66.0   985499           2    16   214478   \n",
       "13030    26          3        32    70.0  1378631           2    17   726051   \n",
       "39198    35          2        20    70.0   131533           7    21   592782   \n",
       "75743    63          1        20    69.0   134849           2    25   485065   \n",
       "120478   33          1        16    66.0  1831026           7     4   431679   \n",
       "\n",
       "        weight  bust_volume  chest_diff  \n",
       "129591     140          390           1  \n",
       "13030      150          480           2  \n",
       "39198      150          480           4  \n",
       "75743      185          710           4  \n",
       "120478     125          310           1  "
      ]
     },
     "execution_count": 45,
     "metadata": {},
     "output_type": "execute_result"
    }
   ],
   "source": [
    "X_test_resampled.head()"
   ]
  },
  {
   "cell_type": "code",
   "execution_count": 46,
   "metadata": {},
   "outputs": [
    {
     "data": {
      "text/plain": [
       "9967      1\n",
       "107499    0\n",
       "107664    0\n",
       "83818    -1\n",
       "9149     -1\n",
       "Name: fit, dtype: int64"
      ]
     },
     "execution_count": 46,
     "metadata": {},
     "output_type": "execute_result"
    }
   ],
   "source": [
    "Y_train_resampled.head()"
   ]
  },
  {
   "cell_type": "code",
   "execution_count": 47,
   "metadata": {},
   "outputs": [
    {
     "data": {
      "text/plain": [
       "129591   -1\n",
       "13030     1\n",
       "39198     0\n",
       "75743     1\n",
       "120478    1\n",
       "Name: fit, dtype: int64"
      ]
     },
     "execution_count": 47,
     "metadata": {},
     "output_type": "execute_result"
    }
   ],
   "source": [
    "Y_test_resampled.head()"
   ]
  },
  {
   "cell_type": "code",
   "execution_count": 48,
   "metadata": {},
   "outputs": [
    {
     "data": {
      "image/png": "[encoded data removed]",
      "text/plain": [
       "<Figure size 432x288 with 1 Axes>"
      ]
     },
     "metadata": {},
     "output_type": "display_data"
    }
   ],
   "source": [
    "ytr = list(Y_test_resampled)\n",
    "sizes = [len([x for x in ytr if x == 0]), len([x for x in ytr if x == -1]), len([x for x in ytr if x == 1])]\n",
    "labels = [\"Fit\", \"Small\", \"Large\"]\n",
    "import matplotlib.pyplot as plt\n",
    "fig1, ax1 = plt.subplots()\n",
    "ax1.pie(sizes, labels=labels, autopct='%1.1f%%', shadow=True, startangle=90)\n",
    "ax1.axis('equal')\n",
    "plt.show()"
   ]
  },
  {
   "cell_type": "markdown",
   "metadata": {},
   "source": [
    "### Classifier Models on Resampled Data:\n",
    "- Random Forest (10 estimators)\n",
    "- Random Forest (100 estimators)\n",
    "- Gradient Boosting\n",
    "- Neural Network: Multilayer Perceptron"
   ]
  },
  {
   "cell_type": "code",
   "execution_count": 49,
   "metadata": {},
   "outputs": [
    {
     "name": "stdout",
     "output_type": "stream",
     "text": [
      "Random Forest:\n",
      "10 estimators Training Accuracy: 0.9972054772645614\n",
      "10 estimators Test Accuracy: 0.5231182795698924\n",
      "100 estimators Training Accuracy: 1.0\n",
      "100 estimators Test Accuracy: 0.5376344086021505\n",
      "\n",
      "Gradient Boosting:\n",
      "Training Accuracy: 0.6100310058951123\n",
      "Test Accuracy: 0.5964516129032258\n",
      "\n",
      "Neural Network:\n",
      "Training Accuracy: 0.35387972906436715\n",
      "Test Accuracy: 0.35376344086021505\n"
     ]
    }
   ],
   "source": [
    "# Create classifers\n",
    "rf10 = RandomForestClassifier(n_estimators=10)\n",
    "rf = RandomForestClassifier(n_estimators=100)\n",
    "gb = GradientBoostingClassifier()\n",
    "nn = MLPClassifier()\n",
    "\n",
    "# Train Classifers\n",
    "rf10 = rf10.fit(X_train_resampled, Y_train_resampled)\n",
    "rf = rf.fit(X_train_resampled, Y_train_resampled)\n",
    "gb = gb.fit(X_train_resampled, Y_train_resampled)\n",
    "nn = nn.fit(X_train_resampled, Y_train_resampled)\n",
    "\n",
    "#Predict the response for test dataset\n",
    "rf10_y_pred = rf10.predict(X_test_resampled)\n",
    "rf_y_pred = rf.predict(X_test_resampled)\n",
    "gb_y_pred = gb.predict(X_test_resampled)\n",
    "nn_y_pred = nn.predict(X_test_resampled)\n",
    "\n",
    "print(\"Random Forest:\")\n",
    "print(\"10 estimators Training Accuracy:\", metrics.accuracy_score(Y_train_resampled, rf10.predict(X_train_resampled)))\n",
    "print(\"10 estimators Test Accuracy:\",metrics.accuracy_score(Y_test_resampled, rf10_y_pred))\n",
    "print(\"100 estimators Training Accuracy:\", metrics.accuracy_score(Y_train_resampled, rf.predict(X_train_resampled)))\n",
    "print(\"100 estimators Test Accuracy:\",metrics.accuracy_score(Y_test_resampled, rf_y_pred))\n",
    "\n",
    "print(\"\\nGradient Boosting:\")\n",
    "print(\"Training Accuracy:\", metrics.accuracy_score(Y_train_resampled, gb.predict(X_train_resampled)))\n",
    "print(\"Test Accuracy:\",metrics.accuracy_score(Y_test_resampled, gb_y_pred))\n",
    "\n",
    "print(\"\\nNeural Network:\")\n",
    "print(\"Training Accuracy:\", metrics.accuracy_score(Y_train_resampled, nn.predict(X_train_resampled)))\n",
    "print(\"Test Accuracy:\",metrics.accuracy_score(Y_test_resampled, nn_y_pred))"
   ]
  },
  {
   "cell_type": "markdown",
   "metadata": {},
   "source": [
    "On the resample: Even thirds, 33% small, 33% fit, 33% large\n",
    "Gradient Boosting here is 50% more accurate than random guessing"
   ]
  },
  {
   "cell_type": "code",
   "execution_count": 50,
   "metadata": {},
   "outputs": [
    {
     "data": {
      "image/png": "[encoded data removed]",
      "text/plain": [
       "<Figure size 432x288 with 1 Axes>"
      ]
     },
     "metadata": {},
     "output_type": "display_data"
    }
   ],
   "source": [
    "showPie(list(Y_test_resampled), False)"
   ]
  },
  {
   "cell_type": "code",
   "execution_count": 51,
   "metadata": {
    "scrolled": false
   },
   "outputs": [
    {
     "name": "stdout",
     "output_type": "stream",
     "text": [
      "Random Forest (10 estimators):\n"
     ]
    },
    {
     "data": {
      "image/png": "[encoded data removed]",
      "text/plain": [
       "<Figure size 432x288 with 1 Axes>"
      ]
     },
     "metadata": {},
     "output_type": "display_data"
    },
    {
     "name": "stdout",
     "output_type": "stream",
     "text": [
      "Random Forest (100 estimators):\n"
     ]
    },
    {
     "data": {
      "image/png": "[encoded data removed]",
      "text/plain": [
       "<Figure size 432x288 with 1 Axes>"
      ]
     },
     "metadata": {},
     "output_type": "display_data"
    },
    {
     "name": "stdout",
     "output_type": "stream",
     "text": [
      "Gradient Boosting:\n"
     ]
    },
    {
     "data": {
      "image/png": "[encoded data removed]",
      "text/plain": [
       "<Figure size 432x288 with 1 Axes>"
      ]
     },
     "metadata": {},
     "output_type": "display_data"
    },
    {
     "name": "stdout",
     "output_type": "stream",
     "text": [
      "Neural Network:\n"
     ]
    },
    {
     "data": {
      "image/png": "[encoded data removed]",
      "text/plain": [
       "<Figure size 432x288 with 1 Axes>"
      ]
     },
     "metadata": {},
     "output_type": "display_data"
    }
   ],
   "source": [
    "print(\"Random Forest (10 estimators):\")\n",
    "showPie(list(rf10_y_pred), False)\n",
    "print(\"Random Forest (100 estimators):\")\n",
    "showPie(list(rf_y_pred), False)\n",
    "print(\"Gradient Boosting:\")\n",
    "showPie(list(gb_y_pred), False)\n",
    "print(\"Neural Network:\")\n",
    "showPie(list(nn_y_pred), False)"
   ]
  },
  {
   "cell_type": "code",
   "execution_count": 52,
   "metadata": {},
   "outputs": [
    {
     "data": {
      "text/html": [
       "<div>\n",
       "<style scoped>\n",
       "    .dataframe tbody tr th:only-of-type {\n",
       "        vertical-align: middle;\n",
       "    }\n",
       "\n",
       "    .dataframe tbody tr th {\n",
       "        vertical-align: top;\n",
       "    }\n",
       "\n",
       "    .dataframe thead th {\n",
       "        text-align: right;\n",
       "    }\n",
       "</style>\n",
       "<table border=\"1\" class=\"dataframe\">\n",
       "  <thead>\n",
       "    <tr style=\"text-align: right;\">\n",
       "      <th></th>\n",
       "      <th>importance</th>\n",
       "    </tr>\n",
       "  </thead>\n",
       "  <tbody>\n",
       "    <tr>\n",
       "      <th>item_id</th>\n",
       "      <td>0.205496</td>\n",
       "    </tr>\n",
       "    <tr>\n",
       "      <th>user_id</th>\n",
       "      <td>0.149734</td>\n",
       "    </tr>\n",
       "    <tr>\n",
       "      <th>age</th>\n",
       "      <td>0.114638</td>\n",
       "    </tr>\n",
       "    <tr>\n",
       "      <th>weight</th>\n",
       "      <td>0.110196</td>\n",
       "    </tr>\n",
       "    <tr>\n",
       "      <th>size</th>\n",
       "      <td>0.097752</td>\n",
       "    </tr>\n",
       "    <tr>\n",
       "      <th>height</th>\n",
       "      <td>0.086830</td>\n",
       "    </tr>\n",
       "    <tr>\n",
       "      <th>body_type</th>\n",
       "      <td>0.053761</td>\n",
       "    </tr>\n",
       "    <tr>\n",
       "      <th>bust_volume</th>\n",
       "      <td>0.050470</td>\n",
       "    </tr>\n",
       "    <tr>\n",
       "      <th>rented_for</th>\n",
       "      <td>0.048187</td>\n",
       "    </tr>\n",
       "    <tr>\n",
       "      <th>chest_diff</th>\n",
       "      <td>0.046496</td>\n",
       "    </tr>\n",
       "    <tr>\n",
       "      <th>category</th>\n",
       "      <td>0.036439</td>\n",
       "    </tr>\n",
       "  </tbody>\n",
       "</table>\n",
       "</div>"
      ],
      "text/plain": [
       "             importance\n",
       "item_id        0.205496\n",
       "user_id        0.149734\n",
       "age            0.114638\n",
       "weight         0.110196\n",
       "size           0.097752\n",
       "height         0.086830\n",
       "body_type      0.053761\n",
       "bust_volume    0.050470\n",
       "rented_for     0.048187\n",
       "chest_diff     0.046496\n",
       "category       0.036439"
      ]
     },
     "execution_count": 52,
     "metadata": {},
     "output_type": "execute_result"
    }
   ],
   "source": [
    "import numpy as np\n",
    "\n",
    "rfImportances = pd.DataFrame(rf.feature_importances_, index = X_train_resampled.columns, columns =['importance']).sort_values('importance', ascending=False)\n",
    "gbImportances = pd.DataFrame(gb.feature_importances_, index = X_train_resampled.columns, columns =['importance']).sort_values('importance', ascending=False)\n",
    "rfImportances"
   ]
  },
  {
   "cell_type": "code",
   "execution_count": 53,
   "metadata": {
    "scrolled": true
   },
   "outputs": [
    {
     "data": {
      "text/html": [
       "<div>\n",
       "<style scoped>\n",
       "    .dataframe tbody tr th:only-of-type {\n",
       "        vertical-align: middle;\n",
       "    }\n",
       "\n",
       "    .dataframe tbody tr th {\n",
       "        vertical-align: top;\n",
       "    }\n",
       "\n",
       "    .dataframe thead th {\n",
       "        text-align: right;\n",
       "    }\n",
       "</style>\n",
       "<table border=\"1\" class=\"dataframe\">\n",
       "  <thead>\n",
       "    <tr style=\"text-align: right;\">\n",
       "      <th></th>\n",
       "      <th>importance</th>\n",
       "    </tr>\n",
       "  </thead>\n",
       "  <tbody>\n",
       "    <tr>\n",
       "      <th>item_id</th>\n",
       "      <td>0.457315</td>\n",
       "    </tr>\n",
       "    <tr>\n",
       "      <th>size</th>\n",
       "      <td>0.293345</td>\n",
       "    </tr>\n",
       "    <tr>\n",
       "      <th>weight</th>\n",
       "      <td>0.116054</td>\n",
       "    </tr>\n",
       "    <tr>\n",
       "      <th>category</th>\n",
       "      <td>0.065080</td>\n",
       "    </tr>\n",
       "    <tr>\n",
       "      <th>bust_volume</th>\n",
       "      <td>0.013727</td>\n",
       "    </tr>\n",
       "    <tr>\n",
       "      <th>age</th>\n",
       "      <td>0.011937</td>\n",
       "    </tr>\n",
       "    <tr>\n",
       "      <th>body_type</th>\n",
       "      <td>0.011804</td>\n",
       "    </tr>\n",
       "    <tr>\n",
       "      <th>rented_for</th>\n",
       "      <td>0.011774</td>\n",
       "    </tr>\n",
       "    <tr>\n",
       "      <th>chest_diff</th>\n",
       "      <td>0.007505</td>\n",
       "    </tr>\n",
       "    <tr>\n",
       "      <th>height</th>\n",
       "      <td>0.006418</td>\n",
       "    </tr>\n",
       "    <tr>\n",
       "      <th>user_id</th>\n",
       "      <td>0.005041</td>\n",
       "    </tr>\n",
       "  </tbody>\n",
       "</table>\n",
       "</div>"
      ],
      "text/plain": [
       "             importance\n",
       "item_id        0.457315\n",
       "size           0.293345\n",
       "weight         0.116054\n",
       "category       0.065080\n",
       "bust_volume    0.013727\n",
       "age            0.011937\n",
       "body_type      0.011804\n",
       "rented_for     0.011774\n",
       "chest_diff     0.007505\n",
       "height         0.006418\n",
       "user_id        0.005041"
      ]
     },
     "execution_count": 53,
     "metadata": {},
     "output_type": "execute_result"
    }
   ],
   "source": [
    "gbImportances"
   ]
  },
  {
   "cell_type": "markdown",
   "metadata": {},
   "source": [
    "### Create a function that plots the accuracy of different parameter values"
   ]
  },
  {
   "cell_type": "code",
   "execution_count": 54,
   "metadata": {},
   "outputs": [],
   "source": [
    "def plotTunedGb(parameterName, parameters):\n",
    "    train_results = []\n",
    "    test_results = []\n",
    "    \n",
    "    for p in parameters:\n",
    "        if (parameterName == \"Learning Rate\"):\n",
    "            gb = GradientBoostingClassifier(learning_rate=p)\n",
    "        elif (parameterName == \"N Estimators\"):\n",
    "            gb = GradientBoostingClassifier(n_estimators=p)\n",
    "        elif (parameterName == \"Max Depth\"):\n",
    "            gb = GradientBoostingClassifier(max_depth=p)\n",
    "        else:\n",
    "            return\n",
    "        \n",
    "        gb.fit(X_train_resampled, Y_train_resampled)\n",
    "\n",
    "        train_pred = gb.predict(X_train_resampled)\n",
    "        acc = metrics.accuracy_score(Y_train_resampled, train_pred)\n",
    "        train_results.append(acc)\n",
    "\n",
    "        y_pred = gb.predict(X_test_resampled)\n",
    "        acc = metrics.accuracy_score(Y_test_resampled, y_pred)\n",
    "        test_results.append(acc)\n",
    "\n",
    "    from matplotlib.legend_handler import HandlerLine2D\n",
    "\n",
    "    line1, = plt.plot(parameters, train_results, 'b', label=\"Train Accuracy\")\n",
    "    line2, = plt.plot(parameters, test_results, 'r', label=\"Test Accuracy\")\n",
    "\n",
    "    plt.legend(handler_map={line1: HandlerLine2D(numpoints=2)})\n",
    "    plt.title(\"Accuracy vs. \" + parameterName)\n",
    "    plt.ylabel('Accuracy')\n",
    "    plt.xlabel(parameterName)\n",
    "    plt.show()\n",
    "\n",
    "    max_value = max(test_results)\n",
    "    max_index = test_results.index(max_value)\n",
    "    print(\"%s of %4.2f provided the max test accuracy of %4.4f\" % (parameterName, parameters[max_index], max_value))"
   ]
  },
  {
   "cell_type": "code",
   "execution_count": 55,
   "metadata": {},
   "outputs": [
    {
     "data": {
      "image/png": "[encoded data removed]",
      "text/plain": [
       "<Figure size 432x288 with 1 Axes>"
      ]
     },
     "metadata": {
      "needs_background": "light"
     },
     "output_type": "display_data"
    },
    {
     "name": "stdout",
     "output_type": "stream",
     "text": [
      "Learning Rate of 1.00 provided the max test accuracy of 0.6632\n"
     ]
    }
   ],
   "source": [
    "learning_rates = [1, 0.5, 0.25, 0.1, 0.05, 0.01]\n",
    "plotTunedGb(\"Learning Rate\", learning_rates)"
   ]
  },
  {
   "cell_type": "code",
   "execution_count": 56,
   "metadata": {},
   "outputs": [
    {
     "data": {
      "image/png": "[encoded data removed]",
      "text/plain": [
       "<Figure size 432x288 with 1 Axes>"
      ]
     },
     "metadata": {
      "needs_background": "light"
     },
     "output_type": "display_data"
    },
    {
     "name": "stdout",
     "output_type": "stream",
     "text": [
      "N Estimators of 300.00 provided the max test accuracy of 0.6347\n"
     ]
    }
   ],
   "source": [
    "n_estimators = [10, 50, 100, 200, 300]\n",
    "plotTunedGb(\"N Estimators\", n_estimators)"
   ]
  },
  {
   "cell_type": "code",
   "execution_count": 57,
   "metadata": {},
   "outputs": [
    {
     "data": {
      "image/png": "[encoded data removed]",
      "text/plain": [
       "<Figure size 432x288 with 1 Axes>"
      ]
     },
     "metadata": {
      "needs_background": "light"
     },
     "output_type": "display_data"
    },
    {
     "name": "stdout",
     "output_type": "stream",
     "text": [
      "Max Depth of 9.00 provided the max test accuracy of 0.6584\n"
     ]
    }
   ],
   "source": [
    "max_depths = [3, 6, 9, 12, 15]\n",
    "plotTunedGb(\"Max Depth\", max_depths)"
   ]
  },
  {
   "cell_type": "code",
   "execution_count": 58,
   "metadata": {},
   "outputs": [
    {
     "name": "stdout",
     "output_type": "stream",
     "text": [
      "\n",
      "Gradient Boosting:\n",
      "Training Accuracy: 1.0\n",
      "Test Accuracy: 0.6303225806451613\n"
     ]
    }
   ],
   "source": [
    "gb = GradientBoostingClassifier(learning_rate=1, n_estimators=300, max_depth=9)\n",
    "gb = gb.fit(X_train_resampled, Y_train_resampled)\n",
    "gb_y_pred = gb.predict(X_test_resampled)\n",
    "print(\"\\nGradient Boosting:\")\n",
    "print(\"Training Accuracy:\", metrics.accuracy_score(Y_train_resampled, gb.predict(X_train_resampled)))\n",
    "print(\"Test Accuracy:\",metrics.accuracy_score(Y_test_resampled, gb_y_pred))"
   ]
  },
  {
   "cell_type": "code",
   "execution_count": null,
   "metadata": {},
   "outputs": [],
   "source": []
  },
  {
   "cell_type": "code",
   "execution_count": null,
   "metadata": {},
   "outputs": [],
   "source": []
  },
  {
   "cell_type": "code",
   "execution_count": null,
   "metadata": {},
   "outputs": [],
   "source": []
  }
 ],
 "metadata": {
  "kernelspec": {
   "display_name": "Python 3",
   "language": "python",
   "name": "python3"
  },
  "language_info": {
   "codemirror_mode": {
    "name": "ipython",
    "version": 3
   },
   "file_extension": ".py",
   "mimetype": "text/x-python",
   "name": "python",
   "nbconvert_exporter": "python",
   "pygments_lexer": "ipython3",
   "version": "3.7.3"
  }
 },
 "nbformat": 4,
 "nbformat_minor": 2
}
